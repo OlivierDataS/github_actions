{
  "nbformat": 4,
  "nbformat_minor": 0,
  "metadata": {
    "colab": {
      "provenance": [],
      "mount_file_id": "1Lff0DsWXxRMNQGUs66dq0ehquVJazxkr",
      "authorship_tag": "ABX9TyMlzdVApd8tuOsbzwGmfq1D",
      "include_colab_link": true
    },
    "kernelspec": {
      "name": "python3",
      "display_name": "Python 3"
    },
    "language_info": {
      "name": "python"
    },
    "accelerator": "GPU",
    "gpuClass": "standard"
  },
  "cells": [
    {
      "cell_type": "markdown",
      "metadata": {
        "id": "view-in-github",
        "colab_type": "text"
      },
      "source": [
        "<a href=\"https://colab.research.google.com/github/OlivierDataS/github_actions/blob/master/Projet_Sql.ipynb\" target=\"_parent\"><img src=\"https://colab.research.google.com/assets/colab-badge.svg\" alt=\"Open In Colab\"/></a>"
      ]
    },
    {
      "cell_type": "markdown",
      "source": [
        "Installation de l'environnement - la première fois seulement !"
      ],
      "metadata": {
        "id": "F68PSVmH8sAc"
      }
    },
    {
      "cell_type": "code",
      "source": [
        "# For Python\n",
        "pip install pandas\n",
        "\n",
        "# ORM for databases\n",
        "pip install sqlalchemy # ORM for databases\n",
        "\n",
        "#Python SQL Toolkit - SqlAlchemy installation\n",
        "pip install ipython-sql"
      ],
      "metadata": {
        "id": "p8qI8mN48wFU"
      },
      "execution_count": null,
      "outputs": []
    },
    {
      "cell_type": "markdown",
      "source": [
        "Activation de SqlMagic :"
      ],
      "metadata": {
        "id": "0ewl5UkU893O"
      }
    },
    {
      "cell_type": "code",
      "source": [
        "%load_ext sql\n",
        "#%reload_ext sql\n",
        "%config SqlMagic.displaycon = False\n",
        "%config SqlMagic.feedback = False\n",
        "%config SqlMagic.displaylimit = 50\n",
        "%config SqlMagic.autocommit=True"
      ],
      "metadata": {
        "id": "uKveGh1M9NYn"
      },
      "execution_count": null,
      "outputs": []
    },
    {
      "cell_type": "markdown",
      "source": [
        "Connection/creation à la BD/schema :"
      ],
      "metadata": {
        "id": "VNZUxe9O_Amt"
      }
    },
    {
      "cell_type": "code",
      "source": [
        "%sql sqlite:///Itineraires.db"
      ],
      "metadata": {
        "colab": {
          "base_uri": "https://localhost:8080/",
          "height": 35
        },
        "id": "vWeWMnre_VzR",
        "outputId": "29db3339-87f7-4c22-f82d-33364e9a72c1"
      },
      "execution_count": null,
      "outputs": [
        {
          "output_type": "execute_result",
          "data": {
            "text/plain": [
              "'Connected: @Itineraires.db'"
            ],
            "application/vnd.google.colaboratory.intrinsic+json": {
              "type": "string"
            }
          },
          "metadata": {},
          "execution_count": 2
        }
      ]
    },
    {
      "cell_type": "markdown",
      "source": [
        "Load tools for Python :"
      ],
      "metadata": {
        "id": "CAVXV71INgJG"
      }
    },
    {
      "cell_type": "code",
      "source": [
        "import pandas as pd\n",
        "from google.colab import files\n",
        "from google.colab import drive\n",
        "import io\n",
        "#from sqlalchemy import create_engine, ForeignKey\n",
        "#from sqlalchemy import Column, Date, Integer, String\n",
        "#from sqlalchemy.ext.declarative import declarative_base\n",
        "import sqlite3\n",
        "conn = sqlite3.connect('Itineraires.db')\n",
        "drive.mount('/content/drive')"
      ],
      "metadata": {
        "id": "dIdVysEBNmw4",
        "colab": {
          "base_uri": "https://localhost:8080/"
        },
        "outputId": "cbdc3837-9cbd-4e1c-d91b-61adf7f6aa19"
      },
      "execution_count": null,
      "outputs": [
        {
          "output_type": "stream",
          "name": "stdout",
          "text": [
            "Drive already mounted at /content/drive; to attempt to forcibly remount, call drive.mount(\"/content/drive\", force_remount=True).\n"
          ]
        }
      ]
    },
    {
      "cell_type": "code",
      "source": [
        "#engine = create_engine(\"sqlite:///Itineraires.db\")\n",
        "#connection = engine.raw_connection()"
      ],
      "metadata": {
        "id": "ngTdkHMOTtjV"
      },
      "execution_count": null,
      "outputs": []
    },
    {
      "cell_type": "markdown",
      "source": [
        "=================================== Chargement des données des référentiels"
      ],
      "metadata": {
        "id": "PCU375lz0zXm"
      }
    },
    {
      "cell_type": "markdown",
      "source": [
        "Création de la table référentielle des villes :"
      ],
      "metadata": {
        "id": "t2xp3I2TtQxa"
      }
    },
    {
      "cell_type": "code",
      "source": [
        "%%sql\n",
        "CREATE TABLE IF NOT EXISTS city_repository (\n",
        "city_id INTEGER PRIMARY KEY AUTOINCREMENT,\n",
        "nom_commune VARCHAR,\n",
        "code_postal INTEGER NOT NULL,\n",
        "Lieu_dit VARCHAR,\n",
        "gps_latitude FLOAT,\n",
        "gps_longitude FLOAT,\n",
        "Date_maj TIMESTAMP DEFAULT CURRENT_TIMESTAMP\n",
        ");"
      ],
      "metadata": {
        "colab": {
          "base_uri": "https://localhost:8080/"
        },
        "id": "sbOHU4gJ3lKF",
        "outputId": "aada1687-c71d-468e-ddb9-b3ce96315f4f"
      },
      "execution_count": null,
      "outputs": [
        {
          "output_type": "stream",
          "name": "stdout",
          "text": [
            " * sqlite:///Itineraires.db\n"
          ]
        },
        {
          "output_type": "execute_result",
          "data": {
            "text/plain": [
              "[]"
            ]
          },
          "metadata": {},
          "execution_count": 4
        }
      ]
    },
    {
      "cell_type": "markdown",
      "source": [
        "Création de la table référentielle des catégories par hierarchies :"
      ],
      "metadata": {
        "id": "S8Ua3Ld1tq50"
      }
    },
    {
      "cell_type": "code",
      "source": [
        "%%sql\n",
        "CREATE TABLE IF NOT EXISTS activity_hierarchy (\n",
        "activity_id INTEGER NOT NULL,\n",
        "activity_name VARCHAR,\n",
        "activity_to INTEGER, \n",
        "Date_maj TIMESTAMP DEFAULT CURRENT_TIMESTAMP\n",
        ");"
      ],
      "metadata": {
        "colab": {
          "base_uri": "https://localhost:8080/"
        },
        "id": "1zSFP8Blt5DY",
        "outputId": "4a941097-a5b8-4a8d-c88a-b1c56bbc2c56"
      },
      "execution_count": null,
      "outputs": [
        {
          "output_type": "stream",
          "name": "stdout",
          "text": [
            " * sqlite:///Itineraires.db\n"
          ]
        },
        {
          "output_type": "execute_result",
          "data": {
            "text/plain": [
              "[]"
            ]
          },
          "metadata": {},
          "execution_count": 12
        }
      ]
    },
    {
      "cell_type": "markdown",
      "source": [
        "Import des données \"city\" par l'intermédiaire d'un fichier puis d'un dataframe (correspondance des noms de colonnes) :"
      ],
      "metadata": {
        "id": "loLJgywI1MqQ"
      }
    },
    {
      "cell_type": "code",
      "source": [
        "import_city_repository = pd.read_csv('/content/drive/MyDrive/CSV4DB/city_repository.csv')"
      ],
      "metadata": {
        "id": "rYz7ddHxlcEU"
      },
      "execution_count": null,
      "outputs": []
    },
    {
      "cell_type": "code",
      "source": [
        "import_city_repository.to_sql('city_repository', conn, if_exists='append', index=False)"
      ],
      "metadata": {
        "id": "7y0L_Vv98NPy"
      },
      "execution_count": null,
      "outputs": []
    },
    {
      "cell_type": "markdown",
      "source": [
        "Vérifications :"
      ],
      "metadata": {
        "id": "bGSkTpeR54ZX"
      }
    },
    {
      "cell_type": "code",
      "source": [
        "import_city_repository.count()"
      ],
      "metadata": {
        "colab": {
          "base_uri": "https://localhost:8080/"
        },
        "id": "j-RAqIiy3q6K",
        "outputId": "26d8f9ea-537b-4dc2-d44e-62e9f37d1417"
      },
      "execution_count": null,
      "outputs": [
        {
          "output_type": "execute_result",
          "data": {
            "text/plain": [
              "nom_commune      85\n",
              "code_postal      85\n",
              "Lieu_dit         61\n",
              "gps_latitude     85\n",
              "gps_longitude    85\n",
              "dtype: int64"
            ]
          },
          "metadata": {},
          "execution_count": 9
        }
      ]
    },
    {
      "cell_type": "code",
      "source": [
        "%%sql\n",
        "SELECT COUNT(*) FROM city_repository"
      ],
      "metadata": {
        "colab": {
          "base_uri": "https://localhost:8080/",
          "height": 79
        },
        "id": "2zVun5Fx3hTX",
        "outputId": "bfa85865-1677-461c-ef59-abf388cc31e9"
      },
      "execution_count": null,
      "outputs": [
        {
          "output_type": "stream",
          "name": "stdout",
          "text": [
            " * sqlite:///Itineraires.db\n"
          ]
        },
        {
          "output_type": "execute_result",
          "data": {
            "text/plain": [
              "[(85,)]"
            ],
            "text/html": [
              "<table>\n",
              "    <thead>\n",
              "        <tr>\n",
              "            <th>COUNT(*)</th>\n",
              "        </tr>\n",
              "    </thead>\n",
              "    <tbody>\n",
              "        <tr>\n",
              "            <td>85</td>\n",
              "        </tr>\n",
              "    </tbody>\n",
              "</table>"
            ]
          },
          "metadata": {},
          "execution_count": 11
        }
      ]
    },
    {
      "cell_type": "code",
      "source": [
        "%%sql\n",
        "SELECT * FROM city_repository\n",
        "LIMIT 5"
      ],
      "metadata": {
        "colab": {
          "base_uri": "https://localhost:8080/",
          "height": 165
        },
        "id": "1_w3pvXXyWXU",
        "outputId": "ebf4bea9-c52c-4604-e38c-a341d4837b33"
      },
      "execution_count": null,
      "outputs": [
        {
          "output_type": "stream",
          "name": "stdout",
          "text": [
            " * sqlite:///Itineraires.db\n"
          ]
        },
        {
          "output_type": "execute_result",
          "data": {
            "text/plain": [
              "[(1, 'ST DENIS', 97490, 'BOIS DE NEFLES ST DENIS', -20.933029099, 55.446977555, '2023-02-11 18:18:27'),\n",
              " (2, 'ST DENIS', 97490, 'ST DENIS CHAUDRON', -20.933029099, 55.446977555, '2023-02-11 18:18:27'),\n",
              " (3, 'ST DENIS', 97490, 'LA BRETAGNE', -20.933029099, 55.446977555, '2023-02-11 18:18:27'),\n",
              " (4, 'ST DENIS', 97490, 'MOUFIA', -20.933029099, 55.446977555, '2023-02-11 18:18:27'),\n",
              " (5, 'ST DENIS', 97490, 'STE CLOTILDE', -20.933029099, 55.446977555, '2023-02-11 18:18:27')]"
            ],
            "text/html": [
              "<table>\n",
              "    <thead>\n",
              "        <tr>\n",
              "            <th>city_id</th>\n",
              "            <th>nom_commune</th>\n",
              "            <th>code_postal</th>\n",
              "            <th>Lieu_dit</th>\n",
              "            <th>gps_latitude</th>\n",
              "            <th>gps_longitude</th>\n",
              "            <th>Date_maj</th>\n",
              "        </tr>\n",
              "    </thead>\n",
              "    <tbody>\n",
              "        <tr>\n",
              "            <td>1</td>\n",
              "            <td>ST DENIS</td>\n",
              "            <td>97490</td>\n",
              "            <td>BOIS DE NEFLES ST DENIS</td>\n",
              "            <td>-20.933029099</td>\n",
              "            <td>55.446977555</td>\n",
              "            <td>2023-02-11 18:18:27</td>\n",
              "        </tr>\n",
              "        <tr>\n",
              "            <td>2</td>\n",
              "            <td>ST DENIS</td>\n",
              "            <td>97490</td>\n",
              "            <td>ST DENIS CHAUDRON</td>\n",
              "            <td>-20.933029099</td>\n",
              "            <td>55.446977555</td>\n",
              "            <td>2023-02-11 18:18:27</td>\n",
              "        </tr>\n",
              "        <tr>\n",
              "            <td>3</td>\n",
              "            <td>ST DENIS</td>\n",
              "            <td>97490</td>\n",
              "            <td>LA BRETAGNE</td>\n",
              "            <td>-20.933029099</td>\n",
              "            <td>55.446977555</td>\n",
              "            <td>2023-02-11 18:18:27</td>\n",
              "        </tr>\n",
              "        <tr>\n",
              "            <td>4</td>\n",
              "            <td>ST DENIS</td>\n",
              "            <td>97490</td>\n",
              "            <td>MOUFIA</td>\n",
              "            <td>-20.933029099</td>\n",
              "            <td>55.446977555</td>\n",
              "            <td>2023-02-11 18:18:27</td>\n",
              "        </tr>\n",
              "        <tr>\n",
              "            <td>5</td>\n",
              "            <td>ST DENIS</td>\n",
              "            <td>97490</td>\n",
              "            <td>STE CLOTILDE</td>\n",
              "            <td>-20.933029099</td>\n",
              "            <td>55.446977555</td>\n",
              "            <td>2023-02-11 18:18:27</td>\n",
              "        </tr>\n",
              "    </tbody>\n",
              "</table>"
            ]
          },
          "metadata": {},
          "execution_count": 22
        }
      ]
    },
    {
      "cell_type": "markdown",
      "source": [
        "Import des données \"activity\" :"
      ],
      "metadata": {
        "id": "sVx2YBfIvH1G"
      }
    },
    {
      "cell_type": "code",
      "source": [
        "import_activity_hierarchy = pd.read_csv('/content/drive/MyDrive/CSV4DB/activity_hierarchy.csv')"
      ],
      "metadata": {
        "id": "KZg5Nt45we78"
      },
      "execution_count": null,
      "outputs": []
    },
    {
      "cell_type": "code",
      "source": [
        "import_activity_hierarchy.to_sql('activity_hierarchy', conn, if_exists='append', index=False)"
      ],
      "metadata": {
        "id": "SMAkN9QQwf_D"
      },
      "execution_count": null,
      "outputs": []
    },
    {
      "cell_type": "markdown",
      "source": [
        "Vérifications :"
      ],
      "metadata": {
        "id": "sE7L3JCpwhFR"
      }
    },
    {
      "cell_type": "code",
      "source": [
        "import_activity_hierarchy.count()"
      ],
      "metadata": {
        "colab": {
          "base_uri": "https://localhost:8080/"
        },
        "id": "M_V0sE5ywhm2",
        "outputId": "cb456889-05df-4cb6-c852-14aa7a114f5b"
      },
      "execution_count": null,
      "outputs": [
        {
          "output_type": "execute_result",
          "data": {
            "text/plain": [
              "activity_id      252\n",
              "activity_name    252\n",
              "activity_to      251\n",
              "dtype: int64"
            ]
          },
          "metadata": {},
          "execution_count": 18
        }
      ]
    },
    {
      "cell_type": "code",
      "source": [
        "\n",
        "%%sql\n",
        "SELECT COUNT(*) FROM activity_hierarchy"
      ],
      "metadata": {
        "colab": {
          "base_uri": "https://localhost:8080/",
          "height": 79
        },
        "id": "T7Zav7zmwh4h",
        "outputId": "c3f0b5d7-1b98-46a8-ede3-0645c7c8038d"
      },
      "execution_count": null,
      "outputs": [
        {
          "output_type": "stream",
          "name": "stdout",
          "text": [
            " * sqlite:///Itineraires.db\n"
          ]
        },
        {
          "output_type": "execute_result",
          "data": {
            "text/plain": [
              "[(252,)]"
            ],
            "text/html": [
              "<table>\n",
              "    <thead>\n",
              "        <tr>\n",
              "            <th>COUNT(*)</th>\n",
              "        </tr>\n",
              "    </thead>\n",
              "    <tbody>\n",
              "        <tr>\n",
              "            <td>252</td>\n",
              "        </tr>\n",
              "    </tbody>\n",
              "</table>"
            ]
          },
          "metadata": {},
          "execution_count": 19
        }
      ]
    },
    {
      "cell_type": "code",
      "source": [
        "%%sql\n",
        "SELECT * FROM activity_hierarchy\n",
        "LIMIT 5"
      ],
      "metadata": {
        "colab": {
          "base_uri": "https://localhost:8080/",
          "height": 165
        },
        "id": "67-6NU1IxrWx",
        "outputId": "2e542ca3-6749-450a-891b-79fe7b918d07"
      },
      "execution_count": null,
      "outputs": [
        {
          "output_type": "stream",
          "name": "stdout",
          "text": [
            " * sqlite:///Itineraires.db\n"
          ]
        },
        {
          "output_type": "execute_result",
          "data": {
            "text/plain": [
              "[(1, 'PointOfInterest', None, '2023-02-11 18:37:45'),\n",
              " (2, 'PlaceOfInterest', 1, '2023-02-11 18:37:45'),\n",
              " (3, 'ActivityProvider', 2, '2023-02-11 18:37:45'),\n",
              " (4, 'CulturalSite', 2, '2023-02-11 18:37:45'),\n",
              " (5, 'FoodEstablishment', 2, '2023-02-11 18:37:45')]"
            ],
            "text/html": [
              "<table>\n",
              "    <thead>\n",
              "        <tr>\n",
              "            <th>activity_id</th>\n",
              "            <th>activity_name</th>\n",
              "            <th>activity_to</th>\n",
              "            <th>Date_maj</th>\n",
              "        </tr>\n",
              "    </thead>\n",
              "    <tbody>\n",
              "        <tr>\n",
              "            <td>1</td>\n",
              "            <td>PointOfInterest</td>\n",
              "            <td>None</td>\n",
              "            <td>2023-02-11 18:37:45</td>\n",
              "        </tr>\n",
              "        <tr>\n",
              "            <td>2</td>\n",
              "            <td>PlaceOfInterest</td>\n",
              "            <td>1</td>\n",
              "            <td>2023-02-11 18:37:45</td>\n",
              "        </tr>\n",
              "        <tr>\n",
              "            <td>3</td>\n",
              "            <td>ActivityProvider</td>\n",
              "            <td>2</td>\n",
              "            <td>2023-02-11 18:37:45</td>\n",
              "        </tr>\n",
              "        <tr>\n",
              "            <td>4</td>\n",
              "            <td>CulturalSite</td>\n",
              "            <td>2</td>\n",
              "            <td>2023-02-11 18:37:45</td>\n",
              "        </tr>\n",
              "        <tr>\n",
              "            <td>5</td>\n",
              "            <td>FoodEstablishment</td>\n",
              "            <td>2</td>\n",
              "            <td>2023-02-11 18:37:45</td>\n",
              "        </tr>\n",
              "    </tbody>\n",
              "</table>"
            ]
          },
          "metadata": {},
          "execution_count": 20
        }
      ]
    },
    {
      "cell_type": "markdown",
      "source": [
        "===================================\n",
        "Chargement des données POI - les tables sont crées depuis leurs dataframes."
      ],
      "metadata": {
        "id": "tOAaVvNaocbe"
      }
    },
    {
      "cell_type": "markdown",
      "source": [
        "Dataframe/table du fichier reunion_clean.csv :"
      ],
      "metadata": {
        "id": "6IKhqpL19pzJ"
      }
    },
    {
      "cell_type": "code",
      "source": [
        "poi_reunion_clean = pd.read_csv('/content/drive/MyDrive/CSV4DB/reunion_clean.csv')"
      ],
      "metadata": {
        "id": "nzUJ26jb-JJ6"
      },
      "execution_count": null,
      "outputs": []
    },
    {
      "cell_type": "code",
      "source": [
        "%sql persist poi_reunion_clean"
      ],
      "metadata": {
        "colab": {
          "base_uri": "https://localhost:8080/",
          "height": 53
        },
        "id": "GWk528ZYBorK",
        "outputId": "fec92553-a62b-4465-e3de-732325847c25"
      },
      "execution_count": null,
      "outputs": [
        {
          "output_type": "stream",
          "name": "stdout",
          "text": [
            " * sqlite:///Itineraires.db\n"
          ]
        },
        {
          "output_type": "execute_result",
          "data": {
            "text/plain": [
              "'Persisted poi_reunion_clean'"
            ],
            "application/vnd.google.colaboratory.intrinsic+json": {
              "type": "string"
            }
          },
          "metadata": {},
          "execution_count": 26
        }
      ]
    },
    {
      "cell_type": "markdown",
      "source": [
        "Vérifications :"
      ],
      "metadata": {
        "id": "MlZStGOnB0x9"
      }
    },
    {
      "cell_type": "code",
      "source": [
        "poi_reunion_clean.count()"
      ],
      "metadata": {
        "colab": {
          "base_uri": "https://localhost:8080/"
        },
        "id": "C0S8dz6v-oIg",
        "outputId": "8d6e79a4-3ec3-4aad-b5d0-422ecaa2c64c"
      },
      "execution_count": null,
      "outputs": [
        {
          "output_type": "execute_result",
          "data": {
            "text/plain": [
              "ID                     1750\n",
              "Nom_du_POI             1750\n",
              "Latitude               1750\n",
              "Longitude              1750\n",
              "Adresse_postale        1655\n",
              "Date_de_mise_a_jour    1750\n",
              "Contacts_du_POI        1655\n",
              "Description              29\n",
              "region                 1750\n",
              "commune                1750\n",
              "code_postal            1750\n",
              "category_0             1743\n",
              "category_1             1224\n",
              "category_2               78\n",
              "dtype: int64"
            ]
          },
          "metadata": {},
          "execution_count": 27
        }
      ]
    },
    {
      "cell_type": "code",
      "source": [
        "%%sql\n",
        "SELECT count(*) FROM poi_reunion_clean;"
      ],
      "metadata": {
        "colab": {
          "base_uri": "https://localhost:8080/",
          "height": 79
        },
        "id": "UrOSemPdCltn",
        "outputId": "6309aaec-6519-4b9b-8bdd-ac17f690085f"
      },
      "execution_count": null,
      "outputs": [
        {
          "output_type": "stream",
          "name": "stdout",
          "text": [
            " * sqlite:///Itineraires.db\n"
          ]
        },
        {
          "output_type": "execute_result",
          "data": {
            "text/plain": [
              "[(1750,)]"
            ],
            "text/html": [
              "<table>\n",
              "    <thead>\n",
              "        <tr>\n",
              "            <th>count(*)</th>\n",
              "        </tr>\n",
              "    </thead>\n",
              "    <tbody>\n",
              "        <tr>\n",
              "            <td>1750</td>\n",
              "        </tr>\n",
              "    </tbody>\n",
              "</table>"
            ]
          },
          "metadata": {},
          "execution_count": 28
        }
      ]
    },
    {
      "cell_type": "code",
      "source": [
        "%%sql\n",
        "SELECT * FROM poi_reunion_clean\n",
        "LIMIT 5;"
      ],
      "metadata": {
        "colab": {
          "base_uri": "https://localhost:8080/",
          "height": 445
        },
        "id": "Uf0JmAG52oBy",
        "outputId": "9c3ef600-fae3-45db-c0a5-e7d79dc9890e"
      },
      "execution_count": null,
      "outputs": [
        {
          "output_type": "stream",
          "name": "stdout",
          "text": [
            " * sqlite:///Itineraires.db\n"
          ]
        },
        {
          "output_type": "execute_result",
          "data": {
            "text/plain": [
              "[(0, '187a27ff-8ad2-3298-9b2f-064023dd042b', 'Lentille des Gourmets (La)', -21.13588418, 55.479501, '40 E, chemin des Trois Mares', '2022-05-30', 'Lentille des Gourmets (La)#+33 2 62 31 85 85#hotel@lecilaos.re#http://leschenets-lecilaos.re/', None, 54, 'Cilaos', 97413, 'FoodEstablishment', 'Restaurant', None),\n",
              " (1, 'ac5515a8-d78e-35ed-a51e-6fc6b1ddbb2b', 'Neptune (Le)', -21.34144, 55.462664, '117, boulevard Hubert Delisle', '2021-07-13', 'Neptune (Le)#+33 2 62 61 61 61#reservation@lebattantdeslames.com#http://www.lebattantdeslames.com/', None, 54, 'Saint-Pierre', 97410, 'ActivityProvider', 'LeisureSportActivityProvider', None),\n",
              " (2, '43079596-c868-3cfe-a280-aeaf15d5666c', 'Grand Large (Le)', -21.34144, 55.462664, '117, boulevard Hubert Delisle', '2021-07-13', 'Grand Large (Le)#+33 2 62 61 61 61#reservation@lebattantdeslames.com#http://www.lebattantdeslames.com/', None, 54, 'Saint-Pierre', 97410, 'FoodEstablishment', 'Restaurant', None),\n",
              " (3, 'f2a140d5-152c-300b-accb-67619012a89a', 'Concorde (Le)', -20.89625806, 55.44723605, '91 bis, allée des Topazes - Bellepierre', '2019-10-10', 'Concorde (Le)#+33 2 62 51 51 51#info@hotel-bellepierre.com#http://www.hotel-bellepierre.com/', None, 54, 'Saint-Denis', 97400, 'FoodEstablishment', 'Restaurant', 'ActivityProvider'),\n",
              " (4, '9c77eb5d-8fd9-3700-8e77-e830870e9669', \"Jardin de la Maison d'Edith (Le)\", -20.889919, 55.407147, '59, chemin Commins', '2020-05-07', \"Jardin de la Maison d'Edith (Le)#+33 6 92 69 66 05#maisondedith@gmail.com#http://www.maisondedith.com/\", None, 54, 'Saint-Denis', 97417, 'CulturalSite', None, None)]"
            ],
            "text/html": [
              "<table>\n",
              "    <thead>\n",
              "        <tr>\n",
              "            <th>index</th>\n",
              "            <th>ID</th>\n",
              "            <th>Nom_du_POI</th>\n",
              "            <th>Latitude</th>\n",
              "            <th>Longitude</th>\n",
              "            <th>Adresse_postale</th>\n",
              "            <th>Date_de_mise_a_jour</th>\n",
              "            <th>Contacts_du_POI</th>\n",
              "            <th>Description</th>\n",
              "            <th>region</th>\n",
              "            <th>commune</th>\n",
              "            <th>code_postal</th>\n",
              "            <th>category_0</th>\n",
              "            <th>category_1</th>\n",
              "            <th>category_2</th>\n",
              "        </tr>\n",
              "    </thead>\n",
              "    <tbody>\n",
              "        <tr>\n",
              "            <td>0</td>\n",
              "            <td>187a27ff-8ad2-3298-9b2f-064023dd042b</td>\n",
              "            <td>Lentille des Gourmets (La)</td>\n",
              "            <td>-21.13588418</td>\n",
              "            <td>55.479501</td>\n",
              "            <td>40 E, chemin des Trois Mares</td>\n",
              "            <td>2022-05-30</td>\n",
              "            <td>Lentille des Gourmets (La)#+33 2 62 31 85 85#hotel@lecilaos.re#http://leschenets-lecilaos.re/</td>\n",
              "            <td>None</td>\n",
              "            <td>54</td>\n",
              "            <td>Cilaos</td>\n",
              "            <td>97413</td>\n",
              "            <td>FoodEstablishment</td>\n",
              "            <td>Restaurant</td>\n",
              "            <td>None</td>\n",
              "        </tr>\n",
              "        <tr>\n",
              "            <td>1</td>\n",
              "            <td>ac5515a8-d78e-35ed-a51e-6fc6b1ddbb2b</td>\n",
              "            <td>Neptune (Le)</td>\n",
              "            <td>-21.34144</td>\n",
              "            <td>55.462664</td>\n",
              "            <td>117, boulevard Hubert Delisle</td>\n",
              "            <td>2021-07-13</td>\n",
              "            <td>Neptune (Le)#+33 2 62 61 61 61#reservation@lebattantdeslames.com#http://www.lebattantdeslames.com/</td>\n",
              "            <td>None</td>\n",
              "            <td>54</td>\n",
              "            <td>Saint-Pierre</td>\n",
              "            <td>97410</td>\n",
              "            <td>ActivityProvider</td>\n",
              "            <td>LeisureSportActivityProvider</td>\n",
              "            <td>None</td>\n",
              "        </tr>\n",
              "        <tr>\n",
              "            <td>2</td>\n",
              "            <td>43079596-c868-3cfe-a280-aeaf15d5666c</td>\n",
              "            <td>Grand Large (Le)</td>\n",
              "            <td>-21.34144</td>\n",
              "            <td>55.462664</td>\n",
              "            <td>117, boulevard Hubert Delisle</td>\n",
              "            <td>2021-07-13</td>\n",
              "            <td>Grand Large (Le)#+33 2 62 61 61 61#reservation@lebattantdeslames.com#http://www.lebattantdeslames.com/</td>\n",
              "            <td>None</td>\n",
              "            <td>54</td>\n",
              "            <td>Saint-Pierre</td>\n",
              "            <td>97410</td>\n",
              "            <td>FoodEstablishment</td>\n",
              "            <td>Restaurant</td>\n",
              "            <td>None</td>\n",
              "        </tr>\n",
              "        <tr>\n",
              "            <td>3</td>\n",
              "            <td>f2a140d5-152c-300b-accb-67619012a89a</td>\n",
              "            <td>Concorde (Le)</td>\n",
              "            <td>-20.89625806</td>\n",
              "            <td>55.44723605</td>\n",
              "            <td>91 bis, allée des Topazes - Bellepierre</td>\n",
              "            <td>2019-10-10</td>\n",
              "            <td>Concorde (Le)#+33 2 62 51 51 51#info@hotel-bellepierre.com#http://www.hotel-bellepierre.com/</td>\n",
              "            <td>None</td>\n",
              "            <td>54</td>\n",
              "            <td>Saint-Denis</td>\n",
              "            <td>97400</td>\n",
              "            <td>FoodEstablishment</td>\n",
              "            <td>Restaurant</td>\n",
              "            <td>ActivityProvider</td>\n",
              "        </tr>\n",
              "        <tr>\n",
              "            <td>4</td>\n",
              "            <td>9c77eb5d-8fd9-3700-8e77-e830870e9669</td>\n",
              "            <td>Jardin de la Maison d&#x27;Edith (Le)</td>\n",
              "            <td>-20.889919</td>\n",
              "            <td>55.407147</td>\n",
              "            <td>59, chemin Commins</td>\n",
              "            <td>2020-05-07</td>\n",
              "            <td>Jardin de la Maison d&#x27;Edith (Le)#+33 6 92 69 66 05#maisondedith@gmail.com#http://www.maisondedith.com/</td>\n",
              "            <td>None</td>\n",
              "            <td>54</td>\n",
              "            <td>Saint-Denis</td>\n",
              "            <td>97417</td>\n",
              "            <td>CulturalSite</td>\n",
              "            <td>None</td>\n",
              "            <td>None</td>\n",
              "        </tr>\n",
              "    </tbody>\n",
              "</table>"
            ]
          },
          "metadata": {},
          "execution_count": 29
        }
      ]
    },
    {
      "cell_type": "markdown",
      "source": [
        "Dataframe/table du fichier reunion_poi_2.csv :\n"
      ],
      "metadata": {
        "id": "_0uwsObB0RkT"
      }
    },
    {
      "cell_type": "code",
      "source": [
        "poi_reunion_2 = pd.read_csv('/content/drive/MyDrive/CSV4DB/reunion_poi_2.csv')"
      ],
      "metadata": {
        "id": "P25grqaq23nz"
      },
      "execution_count": null,
      "outputs": []
    },
    {
      "cell_type": "code",
      "source": [
        "%sql persist poi_reunion_2"
      ],
      "metadata": {
        "colab": {
          "base_uri": "https://localhost:8080/",
          "height": 53
        },
        "id": "rIh_m0H33z1t",
        "outputId": "9888f250-c9fe-4852-c0cb-6bc36ae89deb"
      },
      "execution_count": null,
      "outputs": [
        {
          "output_type": "stream",
          "name": "stdout",
          "text": [
            " * sqlite:///Itineraires.db\n"
          ]
        },
        {
          "output_type": "execute_result",
          "data": {
            "text/plain": [
              "'Persisted poi_reunion_2'"
            ],
            "application/vnd.google.colaboratory.intrinsic+json": {
              "type": "string"
            }
          },
          "metadata": {},
          "execution_count": 31
        }
      ]
    },
    {
      "cell_type": "markdown",
      "source": [
        "Vérifications :"
      ],
      "metadata": {
        "id": "rKVNaHIC30hT"
      }
    },
    {
      "cell_type": "code",
      "source": [
        "poi_reunion_2.count()"
      ],
      "metadata": {
        "colab": {
          "base_uri": "https://localhost:8080/"
        },
        "id": "ccwozY7b31Av",
        "outputId": "e403ce5b-39d0-4a93-b23d-67cd828b1f37"
      },
      "execution_count": null,
      "outputs": [
        {
          "output_type": "execute_result",
          "data": {
            "text/plain": [
              "ID                     314\n",
              "Nom_du_POI             314\n",
              "Latitude               314\n",
              "Longitude              314\n",
              "Adresse_postale        227\n",
              "Date_de_mise_a_jour    314\n",
              "Contacts_du_POI        227\n",
              "Description             28\n",
              "region                 314\n",
              "commune                314\n",
              "code_postal            314\n",
              "category_0             307\n",
              "category_1             105\n",
              "category_2              21\n",
              "dtype: int64"
            ]
          },
          "metadata": {},
          "execution_count": 32
        }
      ]
    },
    {
      "cell_type": "code",
      "source": [
        "%%sql\n",
        "SELECT count(*) FROM poi_reunion_2;"
      ],
      "metadata": {
        "colab": {
          "base_uri": "https://localhost:8080/",
          "height": 79
        },
        "id": "3mhC3FKb31Vs",
        "outputId": "8e0efee1-5e81-4ed7-c584-14d3713a19ff"
      },
      "execution_count": null,
      "outputs": [
        {
          "output_type": "stream",
          "name": "stdout",
          "text": [
            " * sqlite:///Itineraires.db\n"
          ]
        },
        {
          "output_type": "execute_result",
          "data": {
            "text/plain": [
              "[(314,)]"
            ],
            "text/html": [
              "<table>\n",
              "    <thead>\n",
              "        <tr>\n",
              "            <th>count(*)</th>\n",
              "        </tr>\n",
              "    </thead>\n",
              "    <tbody>\n",
              "        <tr>\n",
              "            <td>314</td>\n",
              "        </tr>\n",
              "    </tbody>\n",
              "</table>"
            ]
          },
          "metadata": {},
          "execution_count": 33
        }
      ]
    },
    {
      "cell_type": "markdown",
      "source": [
        "Dataframe/table du fichier reunion_activity.csv :"
      ],
      "metadata": {
        "id": "44sloxhTCiQK"
      }
    },
    {
      "cell_type": "code",
      "source": [
        "poi_reunion_activity = pd.read_csv('/content/drive/MyDrive/CSV4DB/reunion_activity.csv')"
      ],
      "metadata": {
        "id": "nW4Stger9oJI"
      },
      "execution_count": null,
      "outputs": []
    },
    {
      "cell_type": "code",
      "source": [
        "%sql persist poi_reunion_activity\n"
      ],
      "metadata": {
        "colab": {
          "base_uri": "https://localhost:8080/",
          "height": 53
        },
        "id": "KhNj7NTrurAh",
        "outputId": "832091b6-6288-420d-9eb2-16ab4e982cc5"
      },
      "execution_count": null,
      "outputs": [
        {
          "output_type": "stream",
          "name": "stdout",
          "text": [
            " * sqlite:///Itineraires.db\n"
          ]
        },
        {
          "output_type": "execute_result",
          "data": {
            "text/plain": [
              "'Persisted poi_reunion_activity'"
            ],
            "application/vnd.google.colaboratory.intrinsic+json": {
              "type": "string"
            }
          },
          "metadata": {},
          "execution_count": 35
        }
      ]
    },
    {
      "cell_type": "markdown",
      "source": [
        "Vérifications :"
      ],
      "metadata": {
        "id": "PN9_RAu_E9ph"
      }
    },
    {
      "cell_type": "code",
      "source": [
        "poi_reunion_activity.count()"
      ],
      "metadata": {
        "colab": {
          "base_uri": "https://localhost:8080/"
        },
        "id": "m1GSHhGk1Uwl",
        "outputId": "9794e049-9db9-47ed-8941-251bff497aac"
      },
      "execution_count": null,
      "outputs": [
        {
          "output_type": "execute_result",
          "data": {
            "text/plain": [
              "ID                     241\n",
              "Nom_du_POI             241\n",
              "Latitude               241\n",
              "Longitude              241\n",
              "Adresse_postale        233\n",
              "Date_de_mise_a_jour    241\n",
              "Contacts_du_POI        233\n",
              "Description              1\n",
              "region                 241\n",
              "commune                241\n",
              "code_postal            241\n",
              "category_0             241\n",
              "category_1             241\n",
              "category_2               2\n",
              "dtype: int64"
            ]
          },
          "metadata": {},
          "execution_count": 26
        }
      ]
    },
    {
      "cell_type": "code",
      "source": [
        "%%sql\n",
        "SELECT COUNT(*) FROM poi_reunion_activity"
      ],
      "metadata": {
        "colab": {
          "base_uri": "https://localhost:8080/",
          "height": 79
        },
        "id": "Lgyt-PQr11kB",
        "outputId": "17bc534f-ad8a-44ed-d1af-ebc5cd69c1f4"
      },
      "execution_count": null,
      "outputs": [
        {
          "output_type": "stream",
          "name": "stdout",
          "text": [
            " * sqlite:///Itineraires.db\n"
          ]
        },
        {
          "output_type": "execute_result",
          "data": {
            "text/plain": [
              "[(241,)]"
            ],
            "text/html": [
              "<table>\n",
              "    <thead>\n",
              "        <tr>\n",
              "            <th>COUNT(*)</th>\n",
              "        </tr>\n",
              "    </thead>\n",
              "    <tbody>\n",
              "        <tr>\n",
              "            <td>241</td>\n",
              "        </tr>\n",
              "    </tbody>\n",
              "</table>"
            ]
          },
          "metadata": {},
          "execution_count": 36
        }
      ]
    },
    {
      "cell_type": "markdown",
      "source": [
        "Dataframe/table du fichier reunion_coordonnees.csv :"
      ],
      "metadata": {
        "id": "8UU5cT0S1Now"
      }
    },
    {
      "cell_type": "code",
      "source": [
        "poi_reunion_coordonnees = pd.read_csv('/content/drive/MyDrive/CSV4DB/reunion_coordonnees.csv')"
      ],
      "metadata": {
        "id": "REul3NYh8NKB"
      },
      "execution_count": null,
      "outputs": []
    },
    {
      "cell_type": "code",
      "source": [
        "%%sql\n",
        "persist poi_reunion_coordonnees"
      ],
      "metadata": {
        "colab": {
          "base_uri": "https://localhost:8080/",
          "height": 53
        },
        "id": "jduBd62E81qh",
        "outputId": "fc0d6084-c868-490e-c814-69867492b4b7"
      },
      "execution_count": null,
      "outputs": [
        {
          "output_type": "stream",
          "name": "stdout",
          "text": [
            " * sqlite:///Itineraires.db\n"
          ]
        },
        {
          "output_type": "execute_result",
          "data": {
            "text/plain": [
              "'Persisted poi_reunion_coordonnees'"
            ],
            "application/vnd.google.colaboratory.intrinsic+json": {
              "type": "string"
            }
          },
          "metadata": {},
          "execution_count": 39
        }
      ]
    },
    {
      "cell_type": "markdown",
      "source": [
        "Vérifications :"
      ],
      "metadata": {
        "id": "8NNx1vg85G8b"
      }
    },
    {
      "cell_type": "code",
      "source": [
        "poi_reunion_coordonnees.count()"
      ],
      "metadata": {
        "colab": {
          "base_uri": "https://localhost:8080/"
        },
        "id": "tboTB6jw9NyN",
        "outputId": "b07c1a4a-b8a6-4434-93b3-e26b59863e52"
      },
      "execution_count": null,
      "outputs": [
        {
          "output_type": "execute_result",
          "data": {
            "text/plain": [
              "ID            1750\n",
              "Nom_du_POI    1750\n",
              "Latitude      1750\n",
              "Longitude     1750\n",
              "dtype: int64"
            ]
          },
          "metadata": {},
          "execution_count": 40
        }
      ]
    },
    {
      "cell_type": "code",
      "source": [
        "%%sql\n",
        "SELECT COUNT(*) FROM poi_reunion_coordonnees;"
      ],
      "metadata": {
        "colab": {
          "base_uri": "https://localhost:8080/",
          "height": 79
        },
        "id": "slPUXR4G_SGg",
        "outputId": "35de1828-ed60-4de3-bf3e-dc64980ecae2"
      },
      "execution_count": null,
      "outputs": [
        {
          "output_type": "stream",
          "name": "stdout",
          "text": [
            " * sqlite:///Itineraires.db\n"
          ]
        },
        {
          "output_type": "execute_result",
          "data": {
            "text/plain": [
              "[(1750,)]"
            ],
            "text/html": [
              "<table>\n",
              "    <thead>\n",
              "        <tr>\n",
              "            <th>COUNT(*)</th>\n",
              "        </tr>\n",
              "    </thead>\n",
              "    <tbody>\n",
              "        <tr>\n",
              "            <td>1750</td>\n",
              "        </tr>\n",
              "    </tbody>\n",
              "</table>"
            ]
          },
          "metadata": {},
          "execution_count": 41
        }
      ]
    },
    {
      "cell_type": "markdown",
      "source": [
        "Dataframe/table du fichier reunion_food.csv :"
      ],
      "metadata": {
        "id": "eBUikgsJ5s7J"
      }
    },
    {
      "cell_type": "code",
      "source": [
        "poi_reunion_food = pd.read_csv('/content/drive/MyDrive/CSV4DB/reunion_food.csv')"
      ],
      "metadata": {
        "id": "xatrdZxyBu8y"
      },
      "execution_count": null,
      "outputs": []
    },
    {
      "cell_type": "code",
      "source": [
        "%%sql\n",
        "persist poi_reunion_food"
      ],
      "metadata": {
        "colab": {
          "base_uri": "https://localhost:8080/",
          "height": 53
        },
        "id": "ocumWQ5WYCPU",
        "outputId": "4882f4f1-3c9c-4c26-ca4a-58df65e9a77d"
      },
      "execution_count": null,
      "outputs": [
        {
          "output_type": "stream",
          "name": "stdout",
          "text": [
            " * sqlite:///Itineraires.db\n"
          ]
        },
        {
          "output_type": "execute_result",
          "data": {
            "text/plain": [
              "'Persisted poi_reunion_food'"
            ],
            "application/vnd.google.colaboratory.intrinsic+json": {
              "type": "string"
            }
          },
          "metadata": {},
          "execution_count": 43
        }
      ]
    },
    {
      "cell_type": "markdown",
      "source": [
        "Vérifications"
      ],
      "metadata": {
        "id": "1hS8dbGc6XlA"
      }
    },
    {
      "cell_type": "code",
      "source": [
        "poi_reunion_food.count()"
      ],
      "metadata": {
        "colab": {
          "base_uri": "https://localhost:8080/"
        },
        "id": "eFoVw9t_OWlV",
        "outputId": "a3b8c32d-6ba7-4f9c-ac8b-ad9fd861c205"
      },
      "execution_count": null,
      "outputs": [
        {
          "output_type": "execute_result",
          "data": {
            "text/plain": [
              "ID                     1195\n",
              "Nom_du_POI             1195\n",
              "Latitude               1195\n",
              "Longitude              1195\n",
              "Adresse_postale        1195\n",
              "Date_de_mise_a_jour    1195\n",
              "Contacts_du_POI        1195\n",
              "Description               0\n",
              "region                 1195\n",
              "commune                1195\n",
              "code_postal            1195\n",
              "category_0             1195\n",
              "category_1              878\n",
              "category_2               55\n",
              "dtype: int64"
            ]
          },
          "metadata": {},
          "execution_count": 44
        }
      ]
    },
    {
      "cell_type": "code",
      "source": [
        "%%sql\n",
        "SELECT COUNT(*) FROM poi_reunion_food;"
      ],
      "metadata": {
        "colab": {
          "base_uri": "https://localhost:8080/",
          "height": 79
        },
        "id": "_r-Dob9YPLCQ",
        "outputId": "e69a3e8b-bd52-41e8-8967-bdab38a76663"
      },
      "execution_count": null,
      "outputs": [
        {
          "output_type": "stream",
          "name": "stdout",
          "text": [
            " * sqlite:///Itineraires.db\n"
          ]
        },
        {
          "output_type": "execute_result",
          "data": {
            "text/plain": [
              "[(1195,)]"
            ],
            "text/html": [
              "<table>\n",
              "    <thead>\n",
              "        <tr>\n",
              "            <th>COUNT(*)</th>\n",
              "        </tr>\n",
              "    </thead>\n",
              "    <tbody>\n",
              "        <tr>\n",
              "            <td>1195</td>\n",
              "        </tr>\n",
              "    </tbody>\n",
              "</table>"
            ]
          },
          "metadata": {},
          "execution_count": 45
        }
      ]
    },
    {
      "cell_type": "markdown",
      "source": [
        "Dataframe/table du fichier reunion_ville_cp.csv :"
      ],
      "metadata": {
        "id": "K93qmxV96wrQ"
      }
    },
    {
      "cell_type": "code",
      "source": [
        "poi_reunion_ville_cp = pd.read_csv('/content/drive/MyDrive/CSV4DB/reunion_ville_cp.csv')"
      ],
      "metadata": {
        "id": "jFbTCj8DQ6Fk"
      },
      "execution_count": null,
      "outputs": []
    },
    {
      "cell_type": "code",
      "source": [
        "%%sql\n",
        "persist poi_reunion_ville_cp"
      ],
      "metadata": {
        "colab": {
          "base_uri": "https://localhost:8080/",
          "height": 53
        },
        "id": "JZq2r3ctRZ1Y",
        "outputId": "a8c50ddb-4704-4ff2-aaf4-90f22bc53385"
      },
      "execution_count": null,
      "outputs": [
        {
          "output_type": "stream",
          "name": "stdout",
          "text": [
            " * sqlite:///Itineraires.db\n"
          ]
        },
        {
          "output_type": "execute_result",
          "data": {
            "text/plain": [
              "'Persisted poi_reunion_ville_cp'"
            ],
            "application/vnd.google.colaboratory.intrinsic+json": {
              "type": "string"
            }
          },
          "metadata": {},
          "execution_count": 47
        }
      ]
    },
    {
      "cell_type": "markdown",
      "source": [
        "Vérifications :"
      ],
      "metadata": {
        "id": "UPhKzUR17gaO"
      }
    },
    {
      "cell_type": "code",
      "source": [
        "poi_reunion_ville_cp.count()"
      ],
      "metadata": {
        "colab": {
          "base_uri": "https://localhost:8080/"
        },
        "id": "XbHsy-UBRaCQ",
        "outputId": "076a67f6-16fd-4032-a82a-4b1200548df4"
      },
      "execution_count": null,
      "outputs": [
        {
          "output_type": "execute_result",
          "data": {
            "text/plain": [
              "code_postal    37\n",
              "commune        37\n",
              "region         37\n",
              "dtype: int64"
            ]
          },
          "metadata": {},
          "execution_count": 41
        }
      ]
    },
    {
      "cell_type": "code",
      "source": [
        "%%sql\n",
        "SELECT COUNT(*) FROM poi_reunion_ville_cp"
      ],
      "metadata": {
        "colab": {
          "base_uri": "https://localhost:8080/",
          "height": 79
        },
        "id": "t2s8utdlR4EU",
        "outputId": "76c6e803-7fa9-4b57-86f4-9aec632207f8"
      },
      "execution_count": null,
      "outputs": [
        {
          "output_type": "stream",
          "name": "stdout",
          "text": [
            " * sqlite:///Itineraires.db\n"
          ]
        },
        {
          "output_type": "execute_result",
          "data": {
            "text/plain": [
              "[(37,)]"
            ],
            "text/html": [
              "<table>\n",
              "    <thead>\n",
              "        <tr>\n",
              "            <th>COUNT(*)</th>\n",
              "        </tr>\n",
              "    </thead>\n",
              "    <tbody>\n",
              "        <tr>\n",
              "            <td>37</td>\n",
              "        </tr>\n",
              "    </tbody>\n",
              "</table>"
            ]
          },
          "metadata": {},
          "execution_count": 48
        }
      ]
    },
    {
      "cell_type": "markdown",
      "source": [
        "Dataframe/table du fichier ontology_hierarchy_descending (2).csv :"
      ],
      "metadata": {
        "id": "8BYRIczD8RTu"
      }
    },
    {
      "cell_type": "code",
      "source": [
        "ontology_hierarchy_descending = pd.read_csv('/content/drive/MyDrive/CSV4DB/ontology_hierarchy_descending (2).csv')"
      ],
      "metadata": {
        "id": "C3Ujrawtb1BR"
      },
      "execution_count": null,
      "outputs": []
    },
    {
      "cell_type": "code",
      "source": [
        "%sql persist ontology_hierarchy_descending"
      ],
      "metadata": {
        "colab": {
          "base_uri": "https://localhost:8080/",
          "height": 53
        },
        "id": "moTq7N-HcY3R",
        "outputId": "73079844-2862-4332-995d-8166675f7638"
      },
      "execution_count": null,
      "outputs": [
        {
          "output_type": "stream",
          "name": "stdout",
          "text": [
            " * sqlite:///Itineraires.db\n"
          ]
        },
        {
          "output_type": "execute_result",
          "data": {
            "text/plain": [
              "'Persisted ontology_hierarchy_descending'"
            ],
            "application/vnd.google.colaboratory.intrinsic+json": {
              "type": "string"
            }
          },
          "metadata": {},
          "execution_count": 50
        }
      ]
    },
    {
      "cell_type": "markdown",
      "source": [
        "Vérifications :"
      ],
      "metadata": {
        "id": "_Cpp6smy9jJO"
      }
    },
    {
      "cell_type": "code",
      "source": [
        "ontology_hierarchy_descending.count()"
      ],
      "metadata": {
        "colab": {
          "base_uri": "https://localhost:8080/"
        },
        "id": "WtIM5PwHebWc",
        "outputId": "3a0de299-78af-42b0-cc24-77ea9036623f"
      },
      "execution_count": null,
      "outputs": [
        {
          "output_type": "execute_result",
          "data": {
            "text/plain": [
              "PointOfInterest    231\n",
              "PlaceOfInterest    231\n",
              "activity0          231\n",
              "activity1          231\n",
              "activity2           62\n",
              "dtype: int64"
            ]
          },
          "metadata": {},
          "execution_count": 51
        }
      ]
    },
    {
      "cell_type": "code",
      "source": [
        "%%sql\n",
        "SELECT count(*) FROM ontology_hierarchy_descending;"
      ],
      "metadata": {
        "colab": {
          "base_uri": "https://localhost:8080/",
          "height": 79
        },
        "id": "luzSEyLo9pj3",
        "outputId": "7637d763-a0bf-4310-814c-cdb6c2cc6595"
      },
      "execution_count": null,
      "outputs": [
        {
          "output_type": "stream",
          "name": "stdout",
          "text": [
            " * sqlite:///Itineraires.db\n"
          ]
        },
        {
          "output_type": "execute_result",
          "data": {
            "text/plain": [
              "[(231,)]"
            ],
            "text/html": [
              "<table>\n",
              "    <thead>\n",
              "        <tr>\n",
              "            <th>count(*)</th>\n",
              "        </tr>\n",
              "    </thead>\n",
              "    <tbody>\n",
              "        <tr>\n",
              "            <td>231</td>\n",
              "        </tr>\n",
              "    </tbody>\n",
              "</table>"
            ]
          },
          "metadata": {},
          "execution_count": 52
        }
      ]
    },
    {
      "cell_type": "markdown",
      "source": [
        "Dataframe/table du fichier subclass_class_relations.csv :"
      ],
      "metadata": {
        "id": "KcHE9Ogp9ygq"
      }
    },
    {
      "cell_type": "code",
      "source": [
        "activity_subclass_class_relations = pd.read_csv('/content/drive/MyDrive/CSV4DB/subclass_class_relations.csv')"
      ],
      "metadata": {
        "id": "CrPkpUsG990-"
      },
      "execution_count": null,
      "outputs": []
    },
    {
      "cell_type": "code",
      "source": [
        "%sql persist activity_subclass_class_relations"
      ],
      "metadata": {
        "colab": {
          "base_uri": "https://localhost:8080/",
          "height": 53
        },
        "id": "kMLZmzsP-oQR",
        "outputId": "bf944e58-dfb4-4f16-8834-941c6e9b747e"
      },
      "execution_count": null,
      "outputs": [
        {
          "output_type": "stream",
          "name": "stdout",
          "text": [
            " * sqlite:///Itineraires.db\n"
          ]
        },
        {
          "output_type": "execute_result",
          "data": {
            "text/plain": [
              "'Persisted activity_subclass_class_relations'"
            ],
            "application/vnd.google.colaboratory.intrinsic+json": {
              "type": "string"
            }
          },
          "metadata": {},
          "execution_count": 55
        }
      ]
    },
    {
      "cell_type": "markdown",
      "source": [
        "\n",
        "Vérifications :"
      ],
      "metadata": {
        "id": "aWik3PLv-Tro"
      }
    },
    {
      "cell_type": "code",
      "source": [
        "activity_subclass_class_relations.count()"
      ],
      "metadata": {
        "colab": {
          "base_uri": "https://localhost:8080/"
        },
        "id": "vmgO_d6A-SoA",
        "outputId": "834c8be8-29ba-4370-d9e3-75b8a29cc1c7"
      },
      "execution_count": null,
      "outputs": [
        {
          "output_type": "execute_result",
          "data": {
            "text/plain": [
              "subclass    250\n",
              "class       250\n",
              "dtype: int64"
            ]
          },
          "metadata": {},
          "execution_count": 54
        }
      ]
    },
    {
      "cell_type": "code",
      "source": [
        "%%sql\n",
        "SELECT count(*) FROM activity_subclass_class_relations;"
      ],
      "metadata": {
        "colab": {
          "base_uri": "https://localhost:8080/",
          "height": 79
        },
        "id": "LxHy1s_z-wbW",
        "outputId": "d6dffcde-10b1-45ba-82c5-432e96ca15da"
      },
      "execution_count": null,
      "outputs": [
        {
          "output_type": "stream",
          "name": "stdout",
          "text": [
            " * sqlite:///Itineraires.db\n"
          ]
        },
        {
          "output_type": "execute_result",
          "data": {
            "text/plain": [
              "[(250,)]"
            ],
            "text/html": [
              "<table>\n",
              "    <thead>\n",
              "        <tr>\n",
              "            <th>count(*)</th>\n",
              "        </tr>\n",
              "    </thead>\n",
              "    <tbody>\n",
              "        <tr>\n",
              "            <td>250</td>\n",
              "        </tr>\n",
              "    </tbody>\n",
              "</table>"
            ]
          },
          "metadata": {},
          "execution_count": 56
        }
      ]
    },
    {
      "cell_type": "markdown",
      "source": [
        "========================================================================\n",
        "Présence des tables : \n",
        "\n",
        "*   city_repository \n",
        "*   activity_hierarchy\n",
        "*   poi_reunion_clean\n",
        "*   poi_reunion_2.\n",
        "*   poi_reunion_activity\n",
        "*   poi_reunion_coordonnees\n",
        "*   poi_reunion_food\n",
        "*   poi_reunion_ville_cp\n",
        "*   ontology_hierarchy_descending\n",
        "*   activity_subclass_class_relations\n",
        "\n",
        "\n",
        "\n",
        "Exemples de requêtes :"
      ],
      "metadata": {
        "id": "c8f-PbIk-9xL"
      }
    },
    {
      "cell_type": "code",
      "source": [
        "%%sql\n",
        "SELECT nom_commune, COUNT(Lieu_dit), gps_latitude, gps_longitude\n",
        "FROM city_repository\n",
        "GROUP BY nom_commune\n",
        "ORDER BY 2 DESC\n",
        "LIMIT 5"
      ],
      "metadata": {
        "colab": {
          "base_uri": "https://localhost:8080/",
          "height": 165
        },
        "id": "JuFPDm6FEerw",
        "outputId": "e42b3c35-6851-4f97-eeb6-555598a4fe47"
      },
      "execution_count": null,
      "outputs": [
        {
          "output_type": "stream",
          "name": "stdout",
          "text": [
            " * sqlite:///Itineraires.db\n"
          ]
        },
        {
          "output_type": "execute_result",
          "data": {
            "text/plain": [
              "[('ST DENIS', 12, -20.933029099, 55.446977555),\n",
              " ('ST PAUL', 10, -21.044520611, 55.322330771),\n",
              " ('ST PIERRE', 6, -21.312265663, 55.49381116),\n",
              " ('LE TAMPON', 5, -21.223167157, 55.558552873),\n",
              " ('STE MARIE', 3, -20.946751887, 55.530655328)]"
            ],
            "text/html": [
              "<table>\n",
              "    <thead>\n",
              "        <tr>\n",
              "            <th>nom_commune</th>\n",
              "            <th>COUNT(Lieu_dit)</th>\n",
              "            <th>gps_latitude</th>\n",
              "            <th>gps_longitude</th>\n",
              "        </tr>\n",
              "    </thead>\n",
              "    <tbody>\n",
              "        <tr>\n",
              "            <td>ST DENIS</td>\n",
              "            <td>12</td>\n",
              "            <td>-20.933029099</td>\n",
              "            <td>55.446977555</td>\n",
              "        </tr>\n",
              "        <tr>\n",
              "            <td>ST PAUL</td>\n",
              "            <td>10</td>\n",
              "            <td>-21.044520611</td>\n",
              "            <td>55.322330771</td>\n",
              "        </tr>\n",
              "        <tr>\n",
              "            <td>ST PIERRE</td>\n",
              "            <td>6</td>\n",
              "            <td>-21.312265663</td>\n",
              "            <td>55.49381116</td>\n",
              "        </tr>\n",
              "        <tr>\n",
              "            <td>LE TAMPON</td>\n",
              "            <td>5</td>\n",
              "            <td>-21.223167157</td>\n",
              "            <td>55.558552873</td>\n",
              "        </tr>\n",
              "        <tr>\n",
              "            <td>STE MARIE</td>\n",
              "            <td>3</td>\n",
              "            <td>-20.946751887</td>\n",
              "            <td>55.530655328</td>\n",
              "        </tr>\n",
              "    </tbody>\n",
              "</table>"
            ]
          },
          "metadata": {},
          "execution_count": 73
        }
      ]
    },
    {
      "cell_type": "code",
      "source": [
        "%%sql\n",
        "SELECT * FROM ontology_hierarchy_descending\n",
        "LIMIT 5"
      ],
      "metadata": {
        "colab": {
          "base_uri": "https://localhost:8080/",
          "height": 165
        },
        "id": "0RYAIZG7QO7q",
        "outputId": "3d2fdb8b-ad3d-4768-d1a0-5c1714e44bb9"
      },
      "execution_count": null,
      "outputs": [
        {
          "output_type": "stream",
          "name": "stdout",
          "text": [
            " * sqlite:///Itineraires.db\n"
          ]
        },
        {
          "output_type": "execute_result",
          "data": {
            "text/plain": [
              "[(0, 'PointOfInterest', 'PlaceOfInterest', 'ActivityProvider', 'CulturalActivityProvider', None),\n",
              " (1, 'PointOfInterest', 'PlaceOfInterest', 'ActivityProvider', 'LeisureSportActivityProvider', None),\n",
              " (2, 'PointOfInterest', 'PlaceOfInterest', 'CulturalSite', 'ArcheologicalSite', 'MegalithDolmenMenhir'),\n",
              " (3, 'PointOfInterest', 'PlaceOfInterest', 'CulturalSite', 'ArcheologicalSite', 'RomanPath'),\n",
              " (4, 'PointOfInterest', 'PlaceOfInterest', 'CulturalSite', 'ArcheologicalSite', 'Ruins')]"
            ],
            "text/html": [
              "<table>\n",
              "    <thead>\n",
              "        <tr>\n",
              "            <th>index</th>\n",
              "            <th>PointOfInterest</th>\n",
              "            <th>PlaceOfInterest</th>\n",
              "            <th>activity0</th>\n",
              "            <th>activity1</th>\n",
              "            <th>activity2</th>\n",
              "        </tr>\n",
              "    </thead>\n",
              "    <tbody>\n",
              "        <tr>\n",
              "            <td>0</td>\n",
              "            <td>PointOfInterest</td>\n",
              "            <td>PlaceOfInterest</td>\n",
              "            <td>ActivityProvider</td>\n",
              "            <td>CulturalActivityProvider</td>\n",
              "            <td>None</td>\n",
              "        </tr>\n",
              "        <tr>\n",
              "            <td>1</td>\n",
              "            <td>PointOfInterest</td>\n",
              "            <td>PlaceOfInterest</td>\n",
              "            <td>ActivityProvider</td>\n",
              "            <td>LeisureSportActivityProvider</td>\n",
              "            <td>None</td>\n",
              "        </tr>\n",
              "        <tr>\n",
              "            <td>2</td>\n",
              "            <td>PointOfInterest</td>\n",
              "            <td>PlaceOfInterest</td>\n",
              "            <td>CulturalSite</td>\n",
              "            <td>ArcheologicalSite</td>\n",
              "            <td>MegalithDolmenMenhir</td>\n",
              "        </tr>\n",
              "        <tr>\n",
              "            <td>3</td>\n",
              "            <td>PointOfInterest</td>\n",
              "            <td>PlaceOfInterest</td>\n",
              "            <td>CulturalSite</td>\n",
              "            <td>ArcheologicalSite</td>\n",
              "            <td>RomanPath</td>\n",
              "        </tr>\n",
              "        <tr>\n",
              "            <td>4</td>\n",
              "            <td>PointOfInterest</td>\n",
              "            <td>PlaceOfInterest</td>\n",
              "            <td>CulturalSite</td>\n",
              "            <td>ArcheologicalSite</td>\n",
              "            <td>Ruins</td>\n",
              "        </tr>\n",
              "    </tbody>\n",
              "</table>"
            ]
          },
          "metadata": {},
          "execution_count": 99
        }
      ]
    },
    {
      "cell_type": "code",
      "source": [
        "%%sql\n",
        "SELECT class, subclass  \n",
        "FROM activity_subclass_class_relations\n",
        "LIMIT 5"
      ],
      "metadata": {
        "colab": {
          "base_uri": "https://localhost:8080/",
          "height": 165
        },
        "id": "CEPhEcFRQfGR",
        "outputId": "d5f148dd-39f2-485e-dbf0-5eba9947a6d6"
      },
      "execution_count": null,
      "outputs": [
        {
          "output_type": "stream",
          "name": "stdout",
          "text": [
            " * sqlite:///Itineraires.db\n"
          ]
        },
        {
          "output_type": "execute_result",
          "data": {
            "text/plain": [
              "[('ReligiousSite', 'Abbey'),\n",
              " ('PlaceOfInterest', 'ActivityProvider'),\n",
              " ('Transport', 'Airfield'),\n",
              " ('Transport', 'Airport'),\n",
              " ('NaturalHeritage', 'AlpinePasture')]"
            ],
            "text/html": [
              "<table>\n",
              "    <thead>\n",
              "        <tr>\n",
              "            <th>class</th>\n",
              "            <th>subclass</th>\n",
              "        </tr>\n",
              "    </thead>\n",
              "    <tbody>\n",
              "        <tr>\n",
              "            <td>ReligiousSite</td>\n",
              "            <td>Abbey</td>\n",
              "        </tr>\n",
              "        <tr>\n",
              "            <td>PlaceOfInterest</td>\n",
              "            <td>ActivityProvider</td>\n",
              "        </tr>\n",
              "        <tr>\n",
              "            <td>Transport</td>\n",
              "            <td>Airfield</td>\n",
              "        </tr>\n",
              "        <tr>\n",
              "            <td>Transport</td>\n",
              "            <td>Airport</td>\n",
              "        </tr>\n",
              "        <tr>\n",
              "            <td>NaturalHeritage</td>\n",
              "            <td>AlpinePasture</td>\n",
              "        </tr>\n",
              "    </tbody>\n",
              "</table>"
            ]
          },
          "metadata": {},
          "execution_count": 101
        }
      ]
    },
    {
      "cell_type": "code",
      "source": [
        "%%sql\n",
        "SELECT activity_name \n",
        "FROM activity_hierarchy\n",
        "WHERE activity_to =\n",
        "(SELECT activity_id \n",
        "FROM activity_hierarchy\n",
        "WHERE activity_name = 'CulturalSite')\n"
      ],
      "metadata": {
        "colab": {
          "base_uri": "https://localhost:8080/",
          "height": 293
        },
        "id": "YDZux0O2BR0n",
        "outputId": "cad44231-8d62-4ea9-e066-ef27b9a573aa"
      },
      "execution_count": null,
      "outputs": [
        {
          "output_type": "stream",
          "name": "stdout",
          "text": [
            " * sqlite:///Itineraires.db\n"
          ]
        },
        {
          "output_type": "execute_result",
          "data": {
            "text/plain": [
              "[('ArcheologicalSite',),\n",
              " ('CityHeritage',),\n",
              " ('DefenceSite',),\n",
              " ('InterpretationCentre',),\n",
              " ('Library',),\n",
              " ('Museum',),\n",
              " ('ParkAndGarden',),\n",
              " ('ReligiousSite',),\n",
              " ('RemarkableBuilding',),\n",
              " ('RemembranceSite',),\n",
              " ('TechnicalHeritage',)]"
            ],
            "text/html": [
              "<table>\n",
              "    <thead>\n",
              "        <tr>\n",
              "            <th>activity_name</th>\n",
              "        </tr>\n",
              "    </thead>\n",
              "    <tbody>\n",
              "        <tr>\n",
              "            <td>ArcheologicalSite</td>\n",
              "        </tr>\n",
              "        <tr>\n",
              "            <td>CityHeritage</td>\n",
              "        </tr>\n",
              "        <tr>\n",
              "            <td>DefenceSite</td>\n",
              "        </tr>\n",
              "        <tr>\n",
              "            <td>InterpretationCentre</td>\n",
              "        </tr>\n",
              "        <tr>\n",
              "            <td>Library</td>\n",
              "        </tr>\n",
              "        <tr>\n",
              "            <td>Museum</td>\n",
              "        </tr>\n",
              "        <tr>\n",
              "            <td>ParkAndGarden</td>\n",
              "        </tr>\n",
              "        <tr>\n",
              "            <td>ReligiousSite</td>\n",
              "        </tr>\n",
              "        <tr>\n",
              "            <td>RemarkableBuilding</td>\n",
              "        </tr>\n",
              "        <tr>\n",
              "            <td>RemembranceSite</td>\n",
              "        </tr>\n",
              "        <tr>\n",
              "            <td>TechnicalHeritage</td>\n",
              "        </tr>\n",
              "    </tbody>\n",
              "</table>"
            ]
          },
          "metadata": {},
          "execution_count": 75
        }
      ]
    },
    {
      "cell_type": "code",
      "source": [
        "%%sql\n",
        "SELECT category_1, COUNT(category_1)\n",
        "FROM poi_reunion_clean\n",
        "WHERE category_0 = 'CulturalSite'\n",
        "GROUP BY category_1\n",
        "LIMIT 5;"
      ],
      "metadata": {
        "colab": {
          "base_uri": "https://localhost:8080/",
          "height": 143
        },
        "id": "m8yJpQM5EdJA",
        "outputId": "efcaa192-fb5f-4232-9428-413f15a82e2c"
      },
      "execution_count": null,
      "outputs": [
        {
          "output_type": "stream",
          "name": "stdout",
          "text": [
            " * sqlite:///Itineraires.db\n"
          ]
        },
        {
          "output_type": "execute_result",
          "data": {
            "text/plain": [
              "[(None, 0),\n",
              " ('ReligiousSite', 9),\n",
              " ('RemarkableBuilding', 1),\n",
              " ('TechnicalHeritage', 33)]"
            ],
            "text/html": [
              "<table>\n",
              "    <thead>\n",
              "        <tr>\n",
              "            <th>category_1</th>\n",
              "            <th>COUNT(category_1)</th>\n",
              "        </tr>\n",
              "    </thead>\n",
              "    <tbody>\n",
              "        <tr>\n",
              "            <td>None</td>\n",
              "            <td>0</td>\n",
              "        </tr>\n",
              "        <tr>\n",
              "            <td>ReligiousSite</td>\n",
              "            <td>9</td>\n",
              "        </tr>\n",
              "        <tr>\n",
              "            <td>RemarkableBuilding</td>\n",
              "            <td>1</td>\n",
              "        </tr>\n",
              "        <tr>\n",
              "            <td>TechnicalHeritage</td>\n",
              "            <td>33</td>\n",
              "        </tr>\n",
              "    </tbody>\n",
              "</table>"
            ]
          },
          "metadata": {},
          "execution_count": 86
        }
      ]
    },
    {
      "cell_type": "code",
      "source": [
        "%%sql\n",
        "SELECT Nom_du_POI, commune, code_postal, Latitude, Longitude, category_1\n",
        "FROM poi_reunion_clean\n",
        "WHERE category_1 IN\n",
        "(\n",
        "  SELECT activity_name \n",
        "FROM activity_hierarchy\n",
        "WHERE activity_to =\n",
        "(SELECT activity_id \n",
        "FROM activity_hierarchy\n",
        "WHERE activity_name = 'CulturalSite')\n",
        ")\n",
        "ORDER BY 3;"
      ],
      "metadata": {
        "colab": {
          "base_uri": "https://localhost:8080/",
          "height": 976
        },
        "id": "VZxgRhp1DuyK",
        "outputId": "1271de42-fa15-4874-a43b-cf2602a99313"
      },
      "execution_count": null,
      "outputs": [
        {
          "output_type": "stream",
          "name": "stdout",
          "text": [
            " * sqlite:///Itineraires.db\n"
          ]
        },
        {
          "output_type": "execute_result",
          "data": {
            "text/plain": [
              "[('Temple Kali Kampal', 'Saint-Denis', 97400, -20.880661, 55.458077, 'ReligiousSite'),\n",
              " ('Cathédrale Saint-Denis', 'Saint-Denis', 97400, -20.877163, 55.448789, 'ReligiousSite'),\n",
              " ('Mosquée Noor-e-Islam', 'Saint-Denis', 97400, -20.879185, 55.452474, 'ReligiousSite'),\n",
              " ('Saga du Rhum (La)', 'Saint-Pierre', 97410, -21.312109, 55.465557, 'TechnicalHeritage'),\n",
              " ('Rhums et Punchs Isautier', 'Saint-Pierre', 97410, -21.320276, 55.474025, 'TechnicalHeritage'),\n",
              " ('Charrette de Baster (La)', 'Saint-Pierre', 97410, -21.325298, 55.484798, 'TechnicalHeritage'),\n",
              " ('Coopérative Provanille (La)', 'Bras-Panon', 97412, -21.000724, 55.687307, 'TechnicalHeritage'),\n",
              " ('Chai de Cilaos (Le)', 'Cilaos', 97413, -21.134936, 55.47241, 'TechnicalHeritage'),\n",
              " ('Edena', 'La Possession', 97419, -20.962967, 55.321357, 'TechnicalHeritage'),\n",
              " ('Atelier Mascarin', 'Le Port', 97420, -20.949323, 55.288668, 'TechnicalHeritage'),\n",
              " ('Galvanisation Réunion', 'Le Port', 97420, -20.931438, 55.290552, 'TechnicalHeritage'),\n",
              " ('Part des Anges Distillation (La)', 'Saint-Paul', 97422, -21.07987, 55.272865, 'TechnicalHeritage'),\n",
              " ('Maison du Géranium (La)', 'Saint-Paul', 97423, -21.050558, 55.352149, 'TechnicalHeritage'),\n",
              " ('Ferme du Piton Rouge (La)', 'Les Avirons', 97425, -21.238314, 55.342359, 'TechnicalHeritage'),\n",
              " (\"Crête D'or\", \"L'Étang-Salé\", 97427, -21.277105, 55.373238, 'TechnicalHeritage'),\n",
              " (\"Maison de l'Abeille (La)\", 'Petite-Île', 97429, -21.35991853, 55.56013895, 'TechnicalHeritage'),\n",
              " ('Ferme Auberge Dy-Na', 'Petite-Île', 97429, -21.339637, 55.587062, 'TechnicalHeritage'),\n",
              " ('Coopérative Agricole des Huiles Essentielles de Bourbon - CAHEB', 'Le Tampon', 97430, -21.287056, 55.520454, 'TechnicalHeritage'),\n",
              " ('Au Coeur de la Cascade Biberon - Cueillette de Goyaviers', 'La Plaine-des-Palmistes', 97431, -21.126268, 55.627094, 'TechnicalHeritage'),\n",
              " ('Verger Delatre - Cueillette de Goyavier', 'La Plaine-des-Palmistes', 97431, -21.13170728, 55.61492483, 'TechnicalHeritage'),\n",
              " (\"Place de la Mairie et de l'Eglise Notre Dame de l'Assomption\", 'Salazie', 97433, -21.028035, 55.539164, 'ReligiousSite'),\n",
              " ('Chapelle Pointue', 'Saint-Paul', 97435, -21.055922, 55.26375, 'ReligiousSite'),\n",
              " ('Fontaine Aromatique (La)', 'Saint-Leu', 97436, -21.157974, 55.297404, 'TechnicalHeritage'),\n",
              " ('AVPPHSM', 'Saint-Benoît', 97437, -21.094911, 55.696433, 'TechnicalHeritage'),\n",
              " ('Eglise de Sainte-Anne', 'Saint-Benoît', 97437, -21.08012, 55.742847, 'ReligiousSite'),\n",
              " ('Domaine de Coco (Le)', 'Saint-Benoît', 97437, -21.081206, 55.719019, 'TechnicalHeritage'),\n",
              " ('Plantation Vanilla Bourbon', 'Sainte-Rose', 97439, -21.1317, 55.7779, 'TechnicalHeritage'),\n",
              " ('Vanille des Laves (La)', 'Sainte-Rose', 97439, -21.198249, 55.819757, 'TechnicalHeritage'),\n",
              " ('Notre Dame des Laves', 'Sainte-Rose', 97439, -21.160573, 55.824108, 'ReligiousSite'),\n",
              " (\"Pont suspendu de la Rivière de l'Est\", 'Sainte-Rose', 97439, -21.123006, 55.746848, 'RemarkableBuilding'),\n",
              " ('Jardin des Mille et une Saveurs (Le)', 'Saint-André', 97440, -20.966579, 55.689321, 'TechnicalHeritage'),\n",
              " ('Distillerie de Savanna et Sucrerie de Bois Rouge', 'Saint-André', 97440, -20.91596959, 55.6378762, 'TechnicalHeritage'),\n",
              " ('Temple du Colosse', 'Saint-André', 97440, -20.936403, 55.671817, 'ReligiousSite'),\n",
              " ('Temple du Petit Bazar', 'Saint-André', 97440, -20.94859, 55.648538, 'ReligiousSite'),\n",
              " ('Plantation de la Vanille Roulof', 'Saint-André', 97440, -20.95, 55.653, 'TechnicalHeritage'),\n",
              " ('Vanilleraie (La)', 'Sainte-Suzanne', 97441, -20.90451225, 55.58860344, 'TechnicalHeritage'),\n",
              " ('Vanille 100% Réunion', 'Saint-Philippe', 97442, -21.369393, 55.726152, 'TechnicalHeritage'),\n",
              " ('Sucrerie du Gol (La)', 'Saint-Louis', 97450, -21.27878288, 55.3972088, 'TechnicalHeritage'),\n",
              " ('Sorébra', 'Saint-Louis', 97450, -21.291131, 55.396338, 'TechnicalHeritage'),\n",
              " ('Maison du Laurina (La)', 'Saint-Joseph', 97480, -21.297456, 55.631174, 'TechnicalHeritage'),\n",
              " ('Far Far de Bézaves', 'Saint-Joseph', 97480, -21.35326414, 55.61309405, 'TechnicalHeritage'),\n",
              " ('Labyrinthe en Champ Thé (Le)', 'Saint-Joseph', 97480, -21.297089, 55.637855, 'TechnicalHeritage'),\n",
              " ('Jardin de Vandas', 'Saint-Joseph', 97480, -21.378103, 55.606516, 'TechnicalHeritage')]"
            ],
            "text/html": [
              "<table>\n",
              "    <thead>\n",
              "        <tr>\n",
              "            <th>Nom_du_POI</th>\n",
              "            <th>commune</th>\n",
              "            <th>code_postal</th>\n",
              "            <th>Latitude</th>\n",
              "            <th>Longitude</th>\n",
              "            <th>category_1</th>\n",
              "        </tr>\n",
              "    </thead>\n",
              "    <tbody>\n",
              "        <tr>\n",
              "            <td>Temple Kali Kampal</td>\n",
              "            <td>Saint-Denis</td>\n",
              "            <td>97400</td>\n",
              "            <td>-20.880661</td>\n",
              "            <td>55.458077</td>\n",
              "            <td>ReligiousSite</td>\n",
              "        </tr>\n",
              "        <tr>\n",
              "            <td>Cathédrale Saint-Denis</td>\n",
              "            <td>Saint-Denis</td>\n",
              "            <td>97400</td>\n",
              "            <td>-20.877163</td>\n",
              "            <td>55.448789</td>\n",
              "            <td>ReligiousSite</td>\n",
              "        </tr>\n",
              "        <tr>\n",
              "            <td>Mosquée Noor-e-Islam</td>\n",
              "            <td>Saint-Denis</td>\n",
              "            <td>97400</td>\n",
              "            <td>-20.879185</td>\n",
              "            <td>55.452474</td>\n",
              "            <td>ReligiousSite</td>\n",
              "        </tr>\n",
              "        <tr>\n",
              "            <td>Saga du Rhum (La)</td>\n",
              "            <td>Saint-Pierre</td>\n",
              "            <td>97410</td>\n",
              "            <td>-21.312109</td>\n",
              "            <td>55.465557</td>\n",
              "            <td>TechnicalHeritage</td>\n",
              "        </tr>\n",
              "        <tr>\n",
              "            <td>Rhums et Punchs Isautier</td>\n",
              "            <td>Saint-Pierre</td>\n",
              "            <td>97410</td>\n",
              "            <td>-21.320276</td>\n",
              "            <td>55.474025</td>\n",
              "            <td>TechnicalHeritage</td>\n",
              "        </tr>\n",
              "        <tr>\n",
              "            <td>Charrette de Baster (La)</td>\n",
              "            <td>Saint-Pierre</td>\n",
              "            <td>97410</td>\n",
              "            <td>-21.325298</td>\n",
              "            <td>55.484798</td>\n",
              "            <td>TechnicalHeritage</td>\n",
              "        </tr>\n",
              "        <tr>\n",
              "            <td>Coopérative Provanille (La)</td>\n",
              "            <td>Bras-Panon</td>\n",
              "            <td>97412</td>\n",
              "            <td>-21.000724</td>\n",
              "            <td>55.687307</td>\n",
              "            <td>TechnicalHeritage</td>\n",
              "        </tr>\n",
              "        <tr>\n",
              "            <td>Chai de Cilaos (Le)</td>\n",
              "            <td>Cilaos</td>\n",
              "            <td>97413</td>\n",
              "            <td>-21.134936</td>\n",
              "            <td>55.47241</td>\n",
              "            <td>TechnicalHeritage</td>\n",
              "        </tr>\n",
              "        <tr>\n",
              "            <td>Edena</td>\n",
              "            <td>La Possession</td>\n",
              "            <td>97419</td>\n",
              "            <td>-20.962967</td>\n",
              "            <td>55.321357</td>\n",
              "            <td>TechnicalHeritage</td>\n",
              "        </tr>\n",
              "        <tr>\n",
              "            <td>Atelier Mascarin</td>\n",
              "            <td>Le Port</td>\n",
              "            <td>97420</td>\n",
              "            <td>-20.949323</td>\n",
              "            <td>55.288668</td>\n",
              "            <td>TechnicalHeritage</td>\n",
              "        </tr>\n",
              "        <tr>\n",
              "            <td>Galvanisation Réunion</td>\n",
              "            <td>Le Port</td>\n",
              "            <td>97420</td>\n",
              "            <td>-20.931438</td>\n",
              "            <td>55.290552</td>\n",
              "            <td>TechnicalHeritage</td>\n",
              "        </tr>\n",
              "        <tr>\n",
              "            <td>Part des Anges Distillation (La)</td>\n",
              "            <td>Saint-Paul</td>\n",
              "            <td>97422</td>\n",
              "            <td>-21.07987</td>\n",
              "            <td>55.272865</td>\n",
              "            <td>TechnicalHeritage</td>\n",
              "        </tr>\n",
              "        <tr>\n",
              "            <td>Maison du Géranium (La)</td>\n",
              "            <td>Saint-Paul</td>\n",
              "            <td>97423</td>\n",
              "            <td>-21.050558</td>\n",
              "            <td>55.352149</td>\n",
              "            <td>TechnicalHeritage</td>\n",
              "        </tr>\n",
              "        <tr>\n",
              "            <td>Ferme du Piton Rouge (La)</td>\n",
              "            <td>Les Avirons</td>\n",
              "            <td>97425</td>\n",
              "            <td>-21.238314</td>\n",
              "            <td>55.342359</td>\n",
              "            <td>TechnicalHeritage</td>\n",
              "        </tr>\n",
              "        <tr>\n",
              "            <td>Crête D&#x27;or</td>\n",
              "            <td>L&#x27;Étang-Salé</td>\n",
              "            <td>97427</td>\n",
              "            <td>-21.277105</td>\n",
              "            <td>55.373238</td>\n",
              "            <td>TechnicalHeritage</td>\n",
              "        </tr>\n",
              "        <tr>\n",
              "            <td>Maison de l&#x27;Abeille (La)</td>\n",
              "            <td>Petite-Île</td>\n",
              "            <td>97429</td>\n",
              "            <td>-21.35991853</td>\n",
              "            <td>55.56013895</td>\n",
              "            <td>TechnicalHeritage</td>\n",
              "        </tr>\n",
              "        <tr>\n",
              "            <td>Ferme Auberge Dy-Na</td>\n",
              "            <td>Petite-Île</td>\n",
              "            <td>97429</td>\n",
              "            <td>-21.339637</td>\n",
              "            <td>55.587062</td>\n",
              "            <td>TechnicalHeritage</td>\n",
              "        </tr>\n",
              "        <tr>\n",
              "            <td>Coopérative Agricole des Huiles Essentielles de Bourbon - CAHEB</td>\n",
              "            <td>Le Tampon</td>\n",
              "            <td>97430</td>\n",
              "            <td>-21.287056</td>\n",
              "            <td>55.520454</td>\n",
              "            <td>TechnicalHeritage</td>\n",
              "        </tr>\n",
              "        <tr>\n",
              "            <td>Au Coeur de la Cascade Biberon - Cueillette de Goyaviers</td>\n",
              "            <td>La Plaine-des-Palmistes</td>\n",
              "            <td>97431</td>\n",
              "            <td>-21.126268</td>\n",
              "            <td>55.627094</td>\n",
              "            <td>TechnicalHeritage</td>\n",
              "        </tr>\n",
              "        <tr>\n",
              "            <td>Verger Delatre - Cueillette de Goyavier</td>\n",
              "            <td>La Plaine-des-Palmistes</td>\n",
              "            <td>97431</td>\n",
              "            <td>-21.13170728</td>\n",
              "            <td>55.61492483</td>\n",
              "            <td>TechnicalHeritage</td>\n",
              "        </tr>\n",
              "        <tr>\n",
              "            <td>Place de la Mairie et de l&#x27;Eglise Notre Dame de l&#x27;Assomption</td>\n",
              "            <td>Salazie</td>\n",
              "            <td>97433</td>\n",
              "            <td>-21.028035</td>\n",
              "            <td>55.539164</td>\n",
              "            <td>ReligiousSite</td>\n",
              "        </tr>\n",
              "        <tr>\n",
              "            <td>Chapelle Pointue</td>\n",
              "            <td>Saint-Paul</td>\n",
              "            <td>97435</td>\n",
              "            <td>-21.055922</td>\n",
              "            <td>55.26375</td>\n",
              "            <td>ReligiousSite</td>\n",
              "        </tr>\n",
              "        <tr>\n",
              "            <td>Fontaine Aromatique (La)</td>\n",
              "            <td>Saint-Leu</td>\n",
              "            <td>97436</td>\n",
              "            <td>-21.157974</td>\n",
              "            <td>55.297404</td>\n",
              "            <td>TechnicalHeritage</td>\n",
              "        </tr>\n",
              "        <tr>\n",
              "            <td>AVPPHSM</td>\n",
              "            <td>Saint-Benoît</td>\n",
              "            <td>97437</td>\n",
              "            <td>-21.094911</td>\n",
              "            <td>55.696433</td>\n",
              "            <td>TechnicalHeritage</td>\n",
              "        </tr>\n",
              "        <tr>\n",
              "            <td>Eglise de Sainte-Anne</td>\n",
              "            <td>Saint-Benoît</td>\n",
              "            <td>97437</td>\n",
              "            <td>-21.08012</td>\n",
              "            <td>55.742847</td>\n",
              "            <td>ReligiousSite</td>\n",
              "        </tr>\n",
              "        <tr>\n",
              "            <td>Domaine de Coco (Le)</td>\n",
              "            <td>Saint-Benoît</td>\n",
              "            <td>97437</td>\n",
              "            <td>-21.081206</td>\n",
              "            <td>55.719019</td>\n",
              "            <td>TechnicalHeritage</td>\n",
              "        </tr>\n",
              "        <tr>\n",
              "            <td>Plantation Vanilla Bourbon</td>\n",
              "            <td>Sainte-Rose</td>\n",
              "            <td>97439</td>\n",
              "            <td>-21.1317</td>\n",
              "            <td>55.7779</td>\n",
              "            <td>TechnicalHeritage</td>\n",
              "        </tr>\n",
              "        <tr>\n",
              "            <td>Vanille des Laves (La)</td>\n",
              "            <td>Sainte-Rose</td>\n",
              "            <td>97439</td>\n",
              "            <td>-21.198249</td>\n",
              "            <td>55.819757</td>\n",
              "            <td>TechnicalHeritage</td>\n",
              "        </tr>\n",
              "        <tr>\n",
              "            <td>Notre Dame des Laves</td>\n",
              "            <td>Sainte-Rose</td>\n",
              "            <td>97439</td>\n",
              "            <td>-21.160573</td>\n",
              "            <td>55.824108</td>\n",
              "            <td>ReligiousSite</td>\n",
              "        </tr>\n",
              "        <tr>\n",
              "            <td>Pont suspendu de la Rivière de l&#x27;Est</td>\n",
              "            <td>Sainte-Rose</td>\n",
              "            <td>97439</td>\n",
              "            <td>-21.123006</td>\n",
              "            <td>55.746848</td>\n",
              "            <td>RemarkableBuilding</td>\n",
              "        </tr>\n",
              "        <tr>\n",
              "            <td>Jardin des Mille et une Saveurs (Le)</td>\n",
              "            <td>Saint-André</td>\n",
              "            <td>97440</td>\n",
              "            <td>-20.966579</td>\n",
              "            <td>55.689321</td>\n",
              "            <td>TechnicalHeritage</td>\n",
              "        </tr>\n",
              "        <tr>\n",
              "            <td>Distillerie de Savanna et Sucrerie de Bois Rouge</td>\n",
              "            <td>Saint-André</td>\n",
              "            <td>97440</td>\n",
              "            <td>-20.91596959</td>\n",
              "            <td>55.6378762</td>\n",
              "            <td>TechnicalHeritage</td>\n",
              "        </tr>\n",
              "        <tr>\n",
              "            <td>Temple du Colosse</td>\n",
              "            <td>Saint-André</td>\n",
              "            <td>97440</td>\n",
              "            <td>-20.936403</td>\n",
              "            <td>55.671817</td>\n",
              "            <td>ReligiousSite</td>\n",
              "        </tr>\n",
              "        <tr>\n",
              "            <td>Temple du Petit Bazar</td>\n",
              "            <td>Saint-André</td>\n",
              "            <td>97440</td>\n",
              "            <td>-20.94859</td>\n",
              "            <td>55.648538</td>\n",
              "            <td>ReligiousSite</td>\n",
              "        </tr>\n",
              "        <tr>\n",
              "            <td>Plantation de la Vanille Roulof</td>\n",
              "            <td>Saint-André</td>\n",
              "            <td>97440</td>\n",
              "            <td>-20.95</td>\n",
              "            <td>55.653</td>\n",
              "            <td>TechnicalHeritage</td>\n",
              "        </tr>\n",
              "        <tr>\n",
              "            <td>Vanilleraie (La)</td>\n",
              "            <td>Sainte-Suzanne</td>\n",
              "            <td>97441</td>\n",
              "            <td>-20.90451225</td>\n",
              "            <td>55.58860344</td>\n",
              "            <td>TechnicalHeritage</td>\n",
              "        </tr>\n",
              "        <tr>\n",
              "            <td>Vanille 100% Réunion</td>\n",
              "            <td>Saint-Philippe</td>\n",
              "            <td>97442</td>\n",
              "            <td>-21.369393</td>\n",
              "            <td>55.726152</td>\n",
              "            <td>TechnicalHeritage</td>\n",
              "        </tr>\n",
              "        <tr>\n",
              "            <td>Sucrerie du Gol (La)</td>\n",
              "            <td>Saint-Louis</td>\n",
              "            <td>97450</td>\n",
              "            <td>-21.27878288</td>\n",
              "            <td>55.3972088</td>\n",
              "            <td>TechnicalHeritage</td>\n",
              "        </tr>\n",
              "        <tr>\n",
              "            <td>Sorébra</td>\n",
              "            <td>Saint-Louis</td>\n",
              "            <td>97450</td>\n",
              "            <td>-21.291131</td>\n",
              "            <td>55.396338</td>\n",
              "            <td>TechnicalHeritage</td>\n",
              "        </tr>\n",
              "        <tr>\n",
              "            <td>Maison du Laurina (La)</td>\n",
              "            <td>Saint-Joseph</td>\n",
              "            <td>97480</td>\n",
              "            <td>-21.297456</td>\n",
              "            <td>55.631174</td>\n",
              "            <td>TechnicalHeritage</td>\n",
              "        </tr>\n",
              "        <tr>\n",
              "            <td>Far Far de Bézaves</td>\n",
              "            <td>Saint-Joseph</td>\n",
              "            <td>97480</td>\n",
              "            <td>-21.35326414</td>\n",
              "            <td>55.61309405</td>\n",
              "            <td>TechnicalHeritage</td>\n",
              "        </tr>\n",
              "        <tr>\n",
              "            <td>Labyrinthe en Champ Thé (Le)</td>\n",
              "            <td>Saint-Joseph</td>\n",
              "            <td>97480</td>\n",
              "            <td>-21.297089</td>\n",
              "            <td>55.637855</td>\n",
              "            <td>TechnicalHeritage</td>\n",
              "        </tr>\n",
              "        <tr>\n",
              "            <td>Jardin de Vandas</td>\n",
              "            <td>Saint-Joseph</td>\n",
              "            <td>97480</td>\n",
              "            <td>-21.378103</td>\n",
              "            <td>55.606516</td>\n",
              "            <td>TechnicalHeritage</td>\n",
              "        </tr>\n",
              "    </tbody>\n",
              "</table>"
            ]
          },
          "metadata": {},
          "execution_count": 96
        }
      ]
    },
    {
      "cell_type": "code",
      "source": [
        "%%sql\n",
        "SELECT prc.Nom_du_POI, prvc.commune, prvc.code_postal, prc.Latitude \"POI Lat\", prc.Longitude \"POI 'Long\", prc.category_1\n",
        "FROM poi_reunion_clean prc, poi_reunion_ville_cp prvc\n",
        "WHERE prc.code_postal = prvc.code_postal\n",
        "AND category_1 IN\n",
        "(\n",
        "  SELECT activity_name \n",
        "FROM activity_hierarchy\n",
        "WHERE activity_to =\n",
        "(SELECT activity_id \n",
        "FROM activity_hierarchy\n",
        "WHERE activity_name = 'CulturalSite')\n",
        ")\n",
        "ORDER BY 3\n",
        "LIMIT 5;"
      ],
      "metadata": {
        "colab": {
          "base_uri": "https://localhost:8080/",
          "height": 165
        },
        "id": "QXZZtsgRUq68",
        "outputId": "8c1505fb-e25c-4482-8da8-e6874bd97058"
      },
      "execution_count": null,
      "outputs": [
        {
          "output_type": "stream",
          "name": "stdout",
          "text": [
            " * sqlite:///Itineraires.db\n"
          ]
        },
        {
          "output_type": "execute_result",
          "data": {
            "text/plain": [
              "[('Temple Kali Kampal', 'Saint-Denis', 97400, -20.880661, 55.458077, 'ReligiousSite'),\n",
              " ('Cathédrale Saint-Denis', 'Saint-Denis', 97400, -20.877163, 55.448789, 'ReligiousSite'),\n",
              " ('Mosquée Noor-e-Islam', 'Saint-Denis', 97400, -20.879185, 55.452474, 'ReligiousSite'),\n",
              " ('Saga du Rhum (La)', 'Saint-Pierre', 97410, -21.312109, 55.465557, 'TechnicalHeritage'),\n",
              " ('Rhums et Punchs Isautier', 'Saint-Pierre', 97410, -21.320276, 55.474025, 'TechnicalHeritage')]"
            ],
            "text/html": [
              "<table>\n",
              "    <thead>\n",
              "        <tr>\n",
              "            <th>Nom_du_POI</th>\n",
              "            <th>commune</th>\n",
              "            <th>code_postal</th>\n",
              "            <th>POI Lat</th>\n",
              "            <th>POI &#x27;Long</th>\n",
              "            <th>category_1</th>\n",
              "        </tr>\n",
              "    </thead>\n",
              "    <tbody>\n",
              "        <tr>\n",
              "            <td>Temple Kali Kampal</td>\n",
              "            <td>Saint-Denis</td>\n",
              "            <td>97400</td>\n",
              "            <td>-20.880661</td>\n",
              "            <td>55.458077</td>\n",
              "            <td>ReligiousSite</td>\n",
              "        </tr>\n",
              "        <tr>\n",
              "            <td>Cathédrale Saint-Denis</td>\n",
              "            <td>Saint-Denis</td>\n",
              "            <td>97400</td>\n",
              "            <td>-20.877163</td>\n",
              "            <td>55.448789</td>\n",
              "            <td>ReligiousSite</td>\n",
              "        </tr>\n",
              "        <tr>\n",
              "            <td>Mosquée Noor-e-Islam</td>\n",
              "            <td>Saint-Denis</td>\n",
              "            <td>97400</td>\n",
              "            <td>-20.879185</td>\n",
              "            <td>55.452474</td>\n",
              "            <td>ReligiousSite</td>\n",
              "        </tr>\n",
              "        <tr>\n",
              "            <td>Saga du Rhum (La)</td>\n",
              "            <td>Saint-Pierre</td>\n",
              "            <td>97410</td>\n",
              "            <td>-21.312109</td>\n",
              "            <td>55.465557</td>\n",
              "            <td>TechnicalHeritage</td>\n",
              "        </tr>\n",
              "        <tr>\n",
              "            <td>Rhums et Punchs Isautier</td>\n",
              "            <td>Saint-Pierre</td>\n",
              "            <td>97410</td>\n",
              "            <td>-21.320276</td>\n",
              "            <td>55.474025</td>\n",
              "            <td>TechnicalHeritage</td>\n",
              "        </tr>\n",
              "    </tbody>\n",
              "</table>"
            ]
          },
          "metadata": {},
          "execution_count": 113
        }
      ]
    },
    {
      "cell_type": "code",
      "source": [
        "%%sql\n",
        "SELECT *\n",
        "FROM city_repository\n",
        "LIMIT 10;"
      ],
      "metadata": {
        "colab": {
          "base_uri": "https://localhost:8080/",
          "height": 271
        },
        "id": "SC0Cl8XzWpiN",
        "outputId": "82b51895-3a91-478a-f03d-7ca37917937c"
      },
      "execution_count": null,
      "outputs": [
        {
          "output_type": "stream",
          "name": "stdout",
          "text": [
            " * sqlite:///Itineraires.db\n"
          ]
        },
        {
          "output_type": "execute_result",
          "data": {
            "text/plain": [
              "[(1, 'ST DENIS', 97490, 'BOIS DE NEFLES ST DENIS', -20.933029099, 55.446977555, '2023-02-11 18:18:27'),\n",
              " (2, 'ST DENIS', 97490, 'ST DENIS CHAUDRON', -20.933029099, 55.446977555, '2023-02-11 18:18:27'),\n",
              " (3, 'ST DENIS', 97490, 'LA BRETAGNE', -20.933029099, 55.446977555, '2023-02-11 18:18:27'),\n",
              " (4, 'ST DENIS', 97490, 'MOUFIA', -20.933029099, 55.446977555, '2023-02-11 18:18:27'),\n",
              " (5, 'ST DENIS', 97490, 'STE CLOTILDE', -20.933029099, 55.446977555, '2023-02-11 18:18:27'),\n",
              " (6, 'ST JOSEPH', 97480, 'LES LIANES', -21.306243323, 55.641977434, '2023-02-11 18:18:27'),\n",
              " (7, 'ST JOSEPH', 97480, 'VINCENDO', -21.306243323, 55.641977434, '2023-02-11 18:18:27'),\n",
              " (8, 'ST JOSEPH', 97480, None, -21.306243323, 55.641977434, '2023-02-11 18:18:27'),\n",
              " (9, 'ST JOSEPH', 97480, 'JEAN PETIT', -21.306243323, 55.641977434, '2023-02-11 18:18:27'),\n",
              " (10, 'ST BENOIT', 97470, None, -21.091842698, 55.649276452, '2023-02-11 18:18:27')]"
            ],
            "text/html": [
              "<table>\n",
              "    <thead>\n",
              "        <tr>\n",
              "            <th>city_id</th>\n",
              "            <th>nom_commune</th>\n",
              "            <th>code_postal</th>\n",
              "            <th>Lieu_dit</th>\n",
              "            <th>gps_latitude</th>\n",
              "            <th>gps_longitude</th>\n",
              "            <th>Date_maj</th>\n",
              "        </tr>\n",
              "    </thead>\n",
              "    <tbody>\n",
              "        <tr>\n",
              "            <td>1</td>\n",
              "            <td>ST DENIS</td>\n",
              "            <td>97490</td>\n",
              "            <td>BOIS DE NEFLES ST DENIS</td>\n",
              "            <td>-20.933029099</td>\n",
              "            <td>55.446977555</td>\n",
              "            <td>2023-02-11 18:18:27</td>\n",
              "        </tr>\n",
              "        <tr>\n",
              "            <td>2</td>\n",
              "            <td>ST DENIS</td>\n",
              "            <td>97490</td>\n",
              "            <td>ST DENIS CHAUDRON</td>\n",
              "            <td>-20.933029099</td>\n",
              "            <td>55.446977555</td>\n",
              "            <td>2023-02-11 18:18:27</td>\n",
              "        </tr>\n",
              "        <tr>\n",
              "            <td>3</td>\n",
              "            <td>ST DENIS</td>\n",
              "            <td>97490</td>\n",
              "            <td>LA BRETAGNE</td>\n",
              "            <td>-20.933029099</td>\n",
              "            <td>55.446977555</td>\n",
              "            <td>2023-02-11 18:18:27</td>\n",
              "        </tr>\n",
              "        <tr>\n",
              "            <td>4</td>\n",
              "            <td>ST DENIS</td>\n",
              "            <td>97490</td>\n",
              "            <td>MOUFIA</td>\n",
              "            <td>-20.933029099</td>\n",
              "            <td>55.446977555</td>\n",
              "            <td>2023-02-11 18:18:27</td>\n",
              "        </tr>\n",
              "        <tr>\n",
              "            <td>5</td>\n",
              "            <td>ST DENIS</td>\n",
              "            <td>97490</td>\n",
              "            <td>STE CLOTILDE</td>\n",
              "            <td>-20.933029099</td>\n",
              "            <td>55.446977555</td>\n",
              "            <td>2023-02-11 18:18:27</td>\n",
              "        </tr>\n",
              "        <tr>\n",
              "            <td>6</td>\n",
              "            <td>ST JOSEPH</td>\n",
              "            <td>97480</td>\n",
              "            <td>LES LIANES</td>\n",
              "            <td>-21.306243323</td>\n",
              "            <td>55.641977434</td>\n",
              "            <td>2023-02-11 18:18:27</td>\n",
              "        </tr>\n",
              "        <tr>\n",
              "            <td>7</td>\n",
              "            <td>ST JOSEPH</td>\n",
              "            <td>97480</td>\n",
              "            <td>VINCENDO</td>\n",
              "            <td>-21.306243323</td>\n",
              "            <td>55.641977434</td>\n",
              "            <td>2023-02-11 18:18:27</td>\n",
              "        </tr>\n",
              "        <tr>\n",
              "            <td>8</td>\n",
              "            <td>ST JOSEPH</td>\n",
              "            <td>97480</td>\n",
              "            <td>None</td>\n",
              "            <td>-21.306243323</td>\n",
              "            <td>55.641977434</td>\n",
              "            <td>2023-02-11 18:18:27</td>\n",
              "        </tr>\n",
              "        <tr>\n",
              "            <td>9</td>\n",
              "            <td>ST JOSEPH</td>\n",
              "            <td>97480</td>\n",
              "            <td>JEAN PETIT</td>\n",
              "            <td>-21.306243323</td>\n",
              "            <td>55.641977434</td>\n",
              "            <td>2023-02-11 18:18:27</td>\n",
              "        </tr>\n",
              "        <tr>\n",
              "            <td>10</td>\n",
              "            <td>ST BENOIT</td>\n",
              "            <td>97470</td>\n",
              "            <td>None</td>\n",
              "            <td>-21.091842698</td>\n",
              "            <td>55.649276452</td>\n",
              "            <td>2023-02-11 18:18:27</td>\n",
              "        </tr>\n",
              "    </tbody>\n",
              "</table>"
            ]
          },
          "metadata": {},
          "execution_count": 111
        }
      ]
    },
    {
      "cell_type": "code",
      "source": [
        "%%sql\n",
        "SELECT Nom_du_POI, Adresse_postale, commune, Description, category_0, category_1, category_2\n",
        "FROM poi_reunion_activity \n",
        "WHERE category_1 ='LeisureSportActivityProvider'\n",
        "LIMIT 5;\n"
      ],
      "metadata": {
        "colab": {
          "base_uri": "https://localhost:8080/",
          "height": 165
        },
        "id": "FAYT3k44MiQC",
        "outputId": "26e59753-1104-4271-8064-2f73d0be5563"
      },
      "execution_count": null,
      "outputs": [
        {
          "output_type": "stream",
          "name": "stdout",
          "text": [
            " * sqlite:///Itineraires.db\n"
          ]
        },
        {
          "output_type": "execute_result",
          "data": {
            "text/plain": [
              "[('Neptune (Le)', '117, boulevard Hubert Delisle', 'Saint-Pierre', None, 'ActivityProvider', 'LeisureSportActivityProvider', None),\n",
              " ('Zen (Le)', '2, rue Doret', 'Saint-Denis', None, 'ActivityProvider', 'LeisureSportActivityProvider', None),\n",
              " ('Varangue (La)', '14, rue du Stade - Montgaillard', 'Saint-Denis', None, 'ActivityProvider', 'LeisureSportActivityProvider', None),\n",
              " ('Casino du Sud', '42, boulevard Hubert Delisle', 'Saint-Pierre', None, 'ActivityProvider', 'LeisureSportActivityProvider', None),\n",
              " ('Théâtre Vladimir Canter', '15 avenue René Cassin - Campus Universitaire du Moufia', 'Saint-Denis', None, 'ActivityProvider', 'LeisureSportActivityProvider', None)]"
            ],
            "text/html": [
              "<table>\n",
              "    <thead>\n",
              "        <tr>\n",
              "            <th>Nom_du_POI</th>\n",
              "            <th>Adresse_postale</th>\n",
              "            <th>commune</th>\n",
              "            <th>Description</th>\n",
              "            <th>category_0</th>\n",
              "            <th>category_1</th>\n",
              "            <th>category_2</th>\n",
              "        </tr>\n",
              "    </thead>\n",
              "    <tbody>\n",
              "        <tr>\n",
              "            <td>Neptune (Le)</td>\n",
              "            <td>117, boulevard Hubert Delisle</td>\n",
              "            <td>Saint-Pierre</td>\n",
              "            <td>None</td>\n",
              "            <td>ActivityProvider</td>\n",
              "            <td>LeisureSportActivityProvider</td>\n",
              "            <td>None</td>\n",
              "        </tr>\n",
              "        <tr>\n",
              "            <td>Zen (Le)</td>\n",
              "            <td>2, rue Doret</td>\n",
              "            <td>Saint-Denis</td>\n",
              "            <td>None</td>\n",
              "            <td>ActivityProvider</td>\n",
              "            <td>LeisureSportActivityProvider</td>\n",
              "            <td>None</td>\n",
              "        </tr>\n",
              "        <tr>\n",
              "            <td>Varangue (La)</td>\n",
              "            <td>14, rue du Stade - Montgaillard</td>\n",
              "            <td>Saint-Denis</td>\n",
              "            <td>None</td>\n",
              "            <td>ActivityProvider</td>\n",
              "            <td>LeisureSportActivityProvider</td>\n",
              "            <td>None</td>\n",
              "        </tr>\n",
              "        <tr>\n",
              "            <td>Casino du Sud</td>\n",
              "            <td>42, boulevard Hubert Delisle</td>\n",
              "            <td>Saint-Pierre</td>\n",
              "            <td>None</td>\n",
              "            <td>ActivityProvider</td>\n",
              "            <td>LeisureSportActivityProvider</td>\n",
              "            <td>None</td>\n",
              "        </tr>\n",
              "        <tr>\n",
              "            <td>Théâtre Vladimir Canter</td>\n",
              "            <td>15 avenue René Cassin - Campus Universitaire du Moufia</td>\n",
              "            <td>Saint-Denis</td>\n",
              "            <td>None</td>\n",
              "            <td>ActivityProvider</td>\n",
              "            <td>LeisureSportActivityProvider</td>\n",
              "            <td>None</td>\n",
              "        </tr>\n",
              "    </tbody>\n",
              "</table>"
            ]
          },
          "metadata": {},
          "execution_count": 97
        }
      ]
    },
    {
      "cell_type": "code",
      "source": [
        "%%sql\n",
        "SELECT category_1, count(category_1) \n",
        "FROM poi_reunion_2 \n",
        "GROUP BY category_1\n",
        "LIMIT 5;"
      ],
      "metadata": {
        "colab": {
          "base_uri": "https://localhost:8080/",
          "height": 165
        },
        "id": "lhhr7APJPX-A",
        "outputId": "00ae7db1-f1cf-44ea-d35b-77cbf4fb9578"
      },
      "execution_count": null,
      "outputs": [
        {
          "output_type": "stream",
          "name": "stdout",
          "text": [
            " * sqlite:///Itineraires.db\n"
          ]
        },
        {
          "output_type": "execute_result",
          "data": {
            "text/plain": [
              "[(None, 0),\n",
              " ('Coastline', 3),\n",
              " ('Mountain', 7),\n",
              " ('NaturalHeritage', 18),\n",
              " ('PointOfView', 13)]"
            ],
            "text/html": [
              "<table>\n",
              "    <thead>\n",
              "        <tr>\n",
              "            <th>category_1</th>\n",
              "            <th>count(category_1)</th>\n",
              "        </tr>\n",
              "    </thead>\n",
              "    <tbody>\n",
              "        <tr>\n",
              "            <td>None</td>\n",
              "            <td>0</td>\n",
              "        </tr>\n",
              "        <tr>\n",
              "            <td>Coastline</td>\n",
              "            <td>3</td>\n",
              "        </tr>\n",
              "        <tr>\n",
              "            <td>Mountain</td>\n",
              "            <td>7</td>\n",
              "        </tr>\n",
              "        <tr>\n",
              "            <td>NaturalHeritage</td>\n",
              "            <td>18</td>\n",
              "        </tr>\n",
              "        <tr>\n",
              "            <td>PointOfView</td>\n",
              "            <td>13</td>\n",
              "        </tr>\n",
              "    </tbody>\n",
              "</table>"
            ]
          },
          "metadata": {},
          "execution_count": 104
        }
      ]
    },
    {
      "cell_type": "code",
      "source": [
        "%%sql\n",
        "SELECT category_2, count(category_2) \n",
        "FROM poi_reunion_2  \n",
        "GROUP BY category_2\n",
        "LIMIT 5;"
      ],
      "metadata": {
        "colab": {
          "base_uri": "https://localhost:8080/",
          "height": 165
        },
        "id": "OgSLzA4rSLWT",
        "outputId": "f3e7ccd1-f853-419a-9716-ca506da1b727"
      },
      "execution_count": null,
      "outputs": [
        {
          "output_type": "stream",
          "name": "stdout",
          "text": [
            " * sqlite:///Itineraires.db\n"
          ]
        },
        {
          "output_type": "execute_result",
          "data": {
            "text/plain": [
              "[(None, 0), ('Bridge', 1), ('Church', 5), ('Mosque', 1), ('Source', 11)]"
            ],
            "text/html": [
              "<table>\n",
              "    <thead>\n",
              "        <tr>\n",
              "            <th>category_2</th>\n",
              "            <th>count(category_2)</th>\n",
              "        </tr>\n",
              "    </thead>\n",
              "    <tbody>\n",
              "        <tr>\n",
              "            <td>None</td>\n",
              "            <td>0</td>\n",
              "        </tr>\n",
              "        <tr>\n",
              "            <td>Bridge</td>\n",
              "            <td>1</td>\n",
              "        </tr>\n",
              "        <tr>\n",
              "            <td>Church</td>\n",
              "            <td>5</td>\n",
              "        </tr>\n",
              "        <tr>\n",
              "            <td>Mosque</td>\n",
              "            <td>1</td>\n",
              "        </tr>\n",
              "        <tr>\n",
              "            <td>Source</td>\n",
              "            <td>11</td>\n",
              "        </tr>\n",
              "    </tbody>\n",
              "</table>"
            ]
          },
          "metadata": {},
          "execution_count": 106
        }
      ]
    },
    {
      "cell_type": "code",
      "source": [
        "%%sql\n",
        "SELECT Nom_du_POI, Adresse_postale \n",
        "FROM poi_reunion_2\n",
        "WHERE category_0 = 'Beach' \n",
        "AND commune = 'Saint-Leu';"
      ],
      "metadata": {
        "colab": {
          "base_uri": "https://localhost:8080/",
          "height": 100
        },
        "id": "aK9tsDITYKTj",
        "outputId": "f38c1144-0bff-4125-9cda-68d81e8bc64e"
      },
      "execution_count": null,
      "outputs": [
        {
          "output_type": "stream",
          "name": "stdout",
          "text": [
            " * sqlite:///Itineraires.db\n"
          ]
        },
        {
          "output_type": "execute_result",
          "data": {
            "text/plain": [
              "[('Plage Citerne 46', None), ('Plage de Saint-Leu', None)]"
            ],
            "text/html": [
              "<table>\n",
              "    <thead>\n",
              "        <tr>\n",
              "            <th>Nom_du_POI</th>\n",
              "            <th>Adresse_postale</th>\n",
              "        </tr>\n",
              "    </thead>\n",
              "    <tbody>\n",
              "        <tr>\n",
              "            <td>Plage Citerne 46</td>\n",
              "            <td>None</td>\n",
              "        </tr>\n",
              "        <tr>\n",
              "            <td>Plage de Saint-Leu</td>\n",
              "            <td>None</td>\n",
              "        </tr>\n",
              "    </tbody>\n",
              "</table>"
            ]
          },
          "metadata": {},
          "execution_count": 115
        }
      ]
    },
    {
      "cell_type": "code",
      "source": [
        "%%sql\n",
        "SELECT commune, count(commune) as nb_poi \n",
        "FROM poi_reunion_clean\n",
        "GROUP BY commune\n",
        "ORDER BY nb_poi DESC\n",
        "LIMIT 10;"
      ],
      "metadata": {
        "colab": {
          "base_uri": "https://localhost:8080/",
          "height": 271
        },
        "id": "3pyGuHbzSrZY",
        "outputId": "3124410e-4012-48e7-d445-942221e70c0d"
      },
      "execution_count": null,
      "outputs": [
        {
          "output_type": "stream",
          "name": "stdout",
          "text": [
            " * sqlite:///Itineraires.db\n"
          ]
        },
        {
          "output_type": "execute_result",
          "data": {
            "text/plain": [
              "[('Saint-Paul', 370),\n",
              " ('Saint-Denis', 302),\n",
              " ('Saint-Pierre', 283),\n",
              " ('Saint-Leu', 100),\n",
              " ('Saint-André', 73),\n",
              " ('Le Port', 63),\n",
              " ('Le Tampon', 57),\n",
              " ('Saint-Benoît', 51),\n",
              " ('Sainte-Marie', 47),\n",
              " ('Saint-Louis', 44)]"
            ],
            "text/html": [
              "<table>\n",
              "    <thead>\n",
              "        <tr>\n",
              "            <th>commune</th>\n",
              "            <th>nb_poi</th>\n",
              "        </tr>\n",
              "    </thead>\n",
              "    <tbody>\n",
              "        <tr>\n",
              "            <td>Saint-Paul</td>\n",
              "            <td>370</td>\n",
              "        </tr>\n",
              "        <tr>\n",
              "            <td>Saint-Denis</td>\n",
              "            <td>302</td>\n",
              "        </tr>\n",
              "        <tr>\n",
              "            <td>Saint-Pierre</td>\n",
              "            <td>283</td>\n",
              "        </tr>\n",
              "        <tr>\n",
              "            <td>Saint-Leu</td>\n",
              "            <td>100</td>\n",
              "        </tr>\n",
              "        <tr>\n",
              "            <td>Saint-André</td>\n",
              "            <td>73</td>\n",
              "        </tr>\n",
              "        <tr>\n",
              "            <td>Le Port</td>\n",
              "            <td>63</td>\n",
              "        </tr>\n",
              "        <tr>\n",
              "            <td>Le Tampon</td>\n",
              "            <td>57</td>\n",
              "        </tr>\n",
              "        <tr>\n",
              "            <td>Saint-Benoît</td>\n",
              "            <td>51</td>\n",
              "        </tr>\n",
              "        <tr>\n",
              "            <td>Sainte-Marie</td>\n",
              "            <td>47</td>\n",
              "        </tr>\n",
              "        <tr>\n",
              "            <td>Saint-Louis</td>\n",
              "            <td>44</td>\n",
              "        </tr>\n",
              "    </tbody>\n",
              "</table>"
            ]
          },
          "metadata": {},
          "execution_count": 109
        }
      ]
    },
    {
      "cell_type": "code",
      "source": [
        "%%sql\n",
        "SELECT * \n",
        "FROM poi_reunion_food\n",
        "where category_2 = 'ActivityProvider'\n",
        "LIMIT 5;"
      ],
      "metadata": {
        "colab": {
          "base_uri": "https://localhost:8080/",
          "height": 390
        },
        "id": "8ae3bmS-X4Sk",
        "outputId": "09b77597-dfab-491f-f9ff-8c5345cb92df"
      },
      "execution_count": null,
      "outputs": [
        {
          "output_type": "stream",
          "name": "stdout",
          "text": [
            " * sqlite:///Itineraires.db\n"
          ]
        },
        {
          "output_type": "execute_result",
          "data": {
            "text/plain": [
              "[(2, 'f2a140d5-152c-300b-accb-67619012a89a', 'Concorde (Le)', -20.89625806, 55.44723605, '91 bis, allée des Topazes - Bellepierre', '2019-10-10', 'Concorde (Le)#+33 2 62 51 51 51#info@hotel-bellepierre.com#http://www.hotel-bellepierre.com/', None, 54, 'Saint-Denis', 97400, 'FoodEstablishment', 'Restaurant', 'ActivityProvider'),\n",
              " (35, '4543e20f-0675-3254-9506-48b083a4a84a', 'El Pueblo', -21.343484, 55.476775, '8, boulevard Hubert Delisle', '2019-10-10', 'El Pueblo#+33 2 62 38 56 40##', None, 54, 'Saint-Pierre', 97410, 'FoodEstablishment', 'Restaurant', 'ActivityProvider'),\n",
              " (36, '457271d5-8321-36b2-a1ba-20ea232b0483', 'Artocarpe', -20.876704, 55.448779, 'Résidence Edouard - 9, ruelle Edouard', '2021-09-28', 'Artocarpe#+33 2 62 21 55 48#artocarpe@orange.fr#', None, 54, 'Saint-Denis', 97400, 'FoodEstablishment', 'Restaurant', 'ActivityProvider'),\n",
              " (54, '316dd449-7195-3841-b20d-bd33fcdfb22f', 'Madiana Restaurant - Bar - Tapas', -21.343185, 55.467639, '83 Boulevard Hubert Delisle', '2019-10-10', 'Madiana Restaurant - Bar - Tapas#+33 6 93 13 68 79##', None, 54, 'Saint-Pierre', 97410, 'FoodEstablishment', 'Restaurant', 'ActivityProvider'),\n",
              " (85, '708d105f-f963-3c34-8f87-4bb3b0ea6c5a', 'Zanzibar Café (Le)', -20.8786009, 55.45154099, '41, rue Pasteur', '2019-10-10', 'Zanzibar Café (Le)#+33 2 62 20 01 18##', None, 54, 'Saint-Denis', 97400, 'FoodEstablishment', 'Restaurant', 'ActivityProvider')]"
            ],
            "text/html": [
              "<table>\n",
              "    <thead>\n",
              "        <tr>\n",
              "            <th>index</th>\n",
              "            <th>ID</th>\n",
              "            <th>Nom_du_POI</th>\n",
              "            <th>Latitude</th>\n",
              "            <th>Longitude</th>\n",
              "            <th>Adresse_postale</th>\n",
              "            <th>Date_de_mise_a_jour</th>\n",
              "            <th>Contacts_du_POI</th>\n",
              "            <th>Description</th>\n",
              "            <th>region</th>\n",
              "            <th>commune</th>\n",
              "            <th>code_postal</th>\n",
              "            <th>category_0</th>\n",
              "            <th>category_1</th>\n",
              "            <th>category_2</th>\n",
              "        </tr>\n",
              "    </thead>\n",
              "    <tbody>\n",
              "        <tr>\n",
              "            <td>2</td>\n",
              "            <td>f2a140d5-152c-300b-accb-67619012a89a</td>\n",
              "            <td>Concorde (Le)</td>\n",
              "            <td>-20.89625806</td>\n",
              "            <td>55.44723605</td>\n",
              "            <td>91 bis, allée des Topazes - Bellepierre</td>\n",
              "            <td>2019-10-10</td>\n",
              "            <td>Concorde (Le)#+33 2 62 51 51 51#info@hotel-bellepierre.com#http://www.hotel-bellepierre.com/</td>\n",
              "            <td>None</td>\n",
              "            <td>54</td>\n",
              "            <td>Saint-Denis</td>\n",
              "            <td>97400</td>\n",
              "            <td>FoodEstablishment</td>\n",
              "            <td>Restaurant</td>\n",
              "            <td>ActivityProvider</td>\n",
              "        </tr>\n",
              "        <tr>\n",
              "            <td>35</td>\n",
              "            <td>4543e20f-0675-3254-9506-48b083a4a84a</td>\n",
              "            <td>El Pueblo</td>\n",
              "            <td>-21.343484</td>\n",
              "            <td>55.476775</td>\n",
              "            <td>8, boulevard Hubert Delisle</td>\n",
              "            <td>2019-10-10</td>\n",
              "            <td>El Pueblo#+33 2 62 38 56 40##</td>\n",
              "            <td>None</td>\n",
              "            <td>54</td>\n",
              "            <td>Saint-Pierre</td>\n",
              "            <td>97410</td>\n",
              "            <td>FoodEstablishment</td>\n",
              "            <td>Restaurant</td>\n",
              "            <td>ActivityProvider</td>\n",
              "        </tr>\n",
              "        <tr>\n",
              "            <td>36</td>\n",
              "            <td>457271d5-8321-36b2-a1ba-20ea232b0483</td>\n",
              "            <td>Artocarpe</td>\n",
              "            <td>-20.876704</td>\n",
              "            <td>55.448779</td>\n",
              "            <td>Résidence Edouard - 9, ruelle Edouard</td>\n",
              "            <td>2021-09-28</td>\n",
              "            <td>Artocarpe#+33 2 62 21 55 48#artocarpe@orange.fr#</td>\n",
              "            <td>None</td>\n",
              "            <td>54</td>\n",
              "            <td>Saint-Denis</td>\n",
              "            <td>97400</td>\n",
              "            <td>FoodEstablishment</td>\n",
              "            <td>Restaurant</td>\n",
              "            <td>ActivityProvider</td>\n",
              "        </tr>\n",
              "        <tr>\n",
              "            <td>54</td>\n",
              "            <td>316dd449-7195-3841-b20d-bd33fcdfb22f</td>\n",
              "            <td>Madiana Restaurant - Bar - Tapas</td>\n",
              "            <td>-21.343185</td>\n",
              "            <td>55.467639</td>\n",
              "            <td>83 Boulevard Hubert Delisle</td>\n",
              "            <td>2019-10-10</td>\n",
              "            <td>Madiana Restaurant - Bar - Tapas#+33 6 93 13 68 79##</td>\n",
              "            <td>None</td>\n",
              "            <td>54</td>\n",
              "            <td>Saint-Pierre</td>\n",
              "            <td>97410</td>\n",
              "            <td>FoodEstablishment</td>\n",
              "            <td>Restaurant</td>\n",
              "            <td>ActivityProvider</td>\n",
              "        </tr>\n",
              "        <tr>\n",
              "            <td>85</td>\n",
              "            <td>708d105f-f963-3c34-8f87-4bb3b0ea6c5a</td>\n",
              "            <td>Zanzibar Café (Le)</td>\n",
              "            <td>-20.8786009</td>\n",
              "            <td>55.45154099</td>\n",
              "            <td>41, rue Pasteur</td>\n",
              "            <td>2019-10-10</td>\n",
              "            <td>Zanzibar Café (Le)#+33 2 62 20 01 18##</td>\n",
              "            <td>None</td>\n",
              "            <td>54</td>\n",
              "            <td>Saint-Denis</td>\n",
              "            <td>97400</td>\n",
              "            <td>FoodEstablishment</td>\n",
              "            <td>Restaurant</td>\n",
              "            <td>ActivityProvider</td>\n",
              "        </tr>\n",
              "    </tbody>\n",
              "</table>"
            ]
          },
          "metadata": {},
          "execution_count": 118
        }
      ]
    },
    {
      "cell_type": "code",
      "source": [
        "%%sql\n",
        "SELECT * FROM (\n",
        "SELECT Nom_du_POI, Adresse_postale, \"Activité1\" \n",
        "FROM poi_reunion_2\n",
        "WHERE commune = 'Saint-Denis' \n",
        "LIMIT 2)\n",
        "UNION\n",
        "SELECT * FROM (\n",
        "SELECT Nom_du_POI, Adresse_postale, \"Activité2\" \n",
        "FROM poi_reunion_activity\n",
        "where commune = 'Saint-Denis'\n",
        "limit 2)\n",
        "UNION\n",
        "SELECT * FROM (\n",
        "SELECT Nom_du_POI, Adresse_postale, \"Restaurant\" \n",
        "FROM poi_reunion_food\n",
        "where commune = 'Saint-Denis'\n",
        "limit 2)\n",
        "ORDER BY 3;"
      ],
      "metadata": {
        "colab": {
          "base_uri": "https://localhost:8080/",
          "height": 186
        },
        "id": "LdgPSOnIZWDC",
        "outputId": "b9fc79c8-93d3-4dc8-e909-b78554b7a366"
      },
      "execution_count": 143,
      "outputs": [
        {
          "output_type": "stream",
          "name": "stdout",
          "text": [
            " * sqlite:///Itineraires.db\n"
          ]
        },
        {
          "output_type": "execute_result",
          "data": {
            "text/plain": [
              "[(\"Jardin de la Maison d'Edith (Le)\", '59, chemin Commins', 'Activité1'),\n",
              " ('Musée Léon Dierx', '28, rue de Paris', 'Activité1'),\n",
              " ('Varangue (La)', '14, rue du Stade - Montgaillard', 'Activité2'),\n",
              " ('Zen (Le)', '2, rue Doret', 'Activité2'),\n",
              " ('Concorde (Le)', '91 bis, allée des Topazes - Bellepierre', 'Restaurant'),\n",
              " (\"Oasis (L')\", '2, rue Doret', 'Restaurant')]"
            ],
            "text/html": [
              "<table>\n",
              "    <thead>\n",
              "        <tr>\n",
              "            <th>Nom_du_POI</th>\n",
              "            <th>Adresse_postale</th>\n",
              "            <th>Activité1</th>\n",
              "        </tr>\n",
              "    </thead>\n",
              "    <tbody>\n",
              "        <tr>\n",
              "            <td>Jardin de la Maison d&#x27;Edith (Le)</td>\n",
              "            <td>59, chemin Commins</td>\n",
              "            <td>Activité1</td>\n",
              "        </tr>\n",
              "        <tr>\n",
              "            <td>Musée Léon Dierx</td>\n",
              "            <td>28, rue de Paris</td>\n",
              "            <td>Activité1</td>\n",
              "        </tr>\n",
              "        <tr>\n",
              "            <td>Varangue (La)</td>\n",
              "            <td>14, rue du Stade - Montgaillard</td>\n",
              "            <td>Activité2</td>\n",
              "        </tr>\n",
              "        <tr>\n",
              "            <td>Zen (Le)</td>\n",
              "            <td>2, rue Doret</td>\n",
              "            <td>Activité2</td>\n",
              "        </tr>\n",
              "        <tr>\n",
              "            <td>Concorde (Le)</td>\n",
              "            <td>91 bis, allée des Topazes - Bellepierre</td>\n",
              "            <td>Restaurant</td>\n",
              "        </tr>\n",
              "        <tr>\n",
              "            <td>Oasis (L&#x27;)</td>\n",
              "            <td>2, rue Doret</td>\n",
              "            <td>Restaurant</td>\n",
              "        </tr>\n",
              "    </tbody>\n",
              "</table>"
            ]
          },
          "metadata": {},
          "execution_count": 143
        }
      ]
    }
  ]
}