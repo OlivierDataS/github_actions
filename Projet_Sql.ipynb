{
  "nbformat": 4,
  "nbformat_minor": 0,
  "metadata": {
    "colab": {
      "provenance": [],
      "include_colab_link": true
    },
    "kernelspec": {
      "name": "python3",
      "display_name": "Python 3"
    },
    "language_info": {
      "name": "python"
    },
    "accelerator": "GPU",
    "gpuClass": "standard"
  },
  "cells": [
    {
      "cell_type": "markdown",
      "metadata": {
        "id": "view-in-github",
        "colab_type": "text"
      },
      "source": [
        "<a href=\"https://colab.research.google.com/github/OlivierDataS/github_actions/blob/master/Projet_Sql.ipynb\" target=\"_parent\"><img src=\"https://colab.research.google.com/assets/colab-badge.svg\" alt=\"Open In Colab\"/></a>"
      ]
    },
    {
      "cell_type": "markdown",
      "source": [
        "Installation de l'environnement - la première fois seulement !"
      ],
      "metadata": {
        "id": "F68PSVmH8sAc"
      }
    },
    {
      "cell_type": "code",
      "source": [
        "# For Python\n",
        "# pip install pandas\n",
        "\n",
        "# ORM for databases\n",
        "# pip install sqlalchemy\n",
        "\n",
        "#Python SQL Toolkit - SqlAlchemy installation\n",
        "# pip install ipython-sql\n",
        "\n",
        "# Visualisation GPS - via Conda\n",
        "# !pip install matplotlib\n",
        "# Geopandas et dépendances\n",
        "# !pip install geopandas\n",
        "# !pip install --upgrade pyshp\n",
        "# !pip install --upgrade shapely\n",
        "# !pip install --upgrade descartes\n"
      ],
      "metadata": {
        "id": "p8qI8mN48wFU"
      },
      "execution_count": null,
      "outputs": []
    },
    {
      "cell_type": "markdown",
      "source": [
        "Activation de SqlMagic :"
      ],
      "metadata": {
        "id": "0ewl5UkU893O"
      }
    },
    {
      "cell_type": "code",
      "source": [
        "%load_ext sql\n",
        "#%reload_ext sql\n",
        "%config SqlMagic.displaycon = False\n",
        "%config SqlMagic.feedback = False\n",
        "%config SqlMagic.displaylimit = 50\n",
        "%config SqlMagic.autocommit=True"
      ],
      "metadata": {
        "id": "uKveGh1M9NYn",
        "colab": {
          "base_uri": "https://localhost:8080/"
        },
        "outputId": "9dcc164e-0330-4b58-8674-29a9c6f87052"
      },
      "execution_count": 1,
      "outputs": [
        {
          "output_type": "stream",
          "name": "stderr",
          "text": [
            "/usr/local/lib/python3.8/dist-packages/IPython/core/interactiveshell.py:3326: UserWarning: Config option `displaycon` not recognized by `SqlMagic`.  Did you mean `displaylimit`?\n",
            "  exec(code_obj, self.user_global_ns, self.user_ns)\n"
          ]
        }
      ]
    },
    {
      "cell_type": "markdown",
      "source": [
        "Connection/creation à la BD/schema :"
      ],
      "metadata": {
        "id": "VNZUxe9O_Amt"
      }
    },
    {
      "cell_type": "code",
      "source": [
        "%sql sqlite:///Itineraires.db"
      ],
      "metadata": {
        "colab": {
          "base_uri": "https://localhost:8080/",
          "height": 35
        },
        "id": "vWeWMnre_VzR",
        "outputId": "dfd809e3-3de8-4d0a-d32c-d0b0667b61da"
      },
      "execution_count": 2,
      "outputs": [
        {
          "output_type": "execute_result",
          "data": {
            "text/plain": [
              "'Connected: @Itineraires.db'"
            ],
            "application/vnd.google.colaboratory.intrinsic+json": {
              "type": "string"
            }
          },
          "metadata": {},
          "execution_count": 2
        }
      ]
    },
    {
      "cell_type": "markdown",
      "source": [
        "Load tools for Python :"
      ],
      "metadata": {
        "id": "CAVXV71INgJG"
      }
    },
    {
      "cell_type": "code",
      "source": [
        "import pandas as pd\n",
        "import geopandas as gpd\n",
        "import matplotlib.pyplot as plt\n",
        "from google.colab import files\n",
        "from google.colab import drive\n",
        "import io\n",
        "#from sqlalchemy import create_engine, ForeignKey\n",
        "#from sqlalchemy import Column, Date, Integer, String\n",
        "#from sqlalchemy.ext.declarative import declarative_base\n",
        "import sqlite3\n",
        "conn = sqlite3.connect('Itineraires.db')\n",
        "drive.mount('/content/drive')"
      ],
      "metadata": {
        "id": "dIdVysEBNmw4",
        "colab": {
          "base_uri": "https://localhost:8080/"
        },
        "outputId": "bcedc8a6-1b31-40a0-edb9-5fdab760793a"
      },
      "execution_count": 72,
      "outputs": [
        {
          "output_type": "stream",
          "name": "stdout",
          "text": [
            "Drive already mounted at /content/drive; to attempt to forcibly remount, call drive.mount(\"/content/drive\", force_remount=True).\n"
          ]
        }
      ]
    },
    {
      "cell_type": "markdown",
      "source": [
        "=================================== Chargement des données des référentiels"
      ],
      "metadata": {
        "id": "PCU375lz0zXm"
      }
    },
    {
      "cell_type": "markdown",
      "source": [
        "Création de la table référentielle des villes :"
      ],
      "metadata": {
        "id": "t2xp3I2TtQxa"
      }
    },
    {
      "cell_type": "code",
      "source": [
        "%%sql\n",
        "CREATE TABLE IF NOT EXISTS city_repository (\n",
        "city_id INTEGER PRIMARY KEY AUTOINCREMENT,\n",
        "nom_commune VARCHAR,\n",
        "code_postal INTEGER NOT NULL,\n",
        "Lieu_dit VARCHAR,\n",
        "gps_latitude FLOAT,\n",
        "gps_longitude FLOAT,\n",
        "Date_maj TIMESTAMP DEFAULT CURRENT_TIMESTAMP\n",
        ");"
      ],
      "metadata": {
        "colab": {
          "base_uri": "https://localhost:8080/"
        },
        "id": "sbOHU4gJ3lKF",
        "outputId": "492c55c3-bf23-458a-efd6-656cd7d4669a"
      },
      "execution_count": 4,
      "outputs": [
        {
          "output_type": "stream",
          "name": "stdout",
          "text": [
            " * sqlite:///Itineraires.db\n"
          ]
        },
        {
          "output_type": "execute_result",
          "data": {
            "text/plain": [
              "[]"
            ]
          },
          "metadata": {},
          "execution_count": 4
        }
      ]
    },
    {
      "cell_type": "markdown",
      "source": [
        "Création de la table référentielle des catégories par hierarchies :"
      ],
      "metadata": {
        "id": "S8Ua3Ld1tq50"
      }
    },
    {
      "cell_type": "code",
      "source": [
        "%%sql\n",
        "CREATE TABLE IF NOT EXISTS activity_hierarchy (\n",
        "activity_id INTEGER NOT NULL,\n",
        "activity_name VARCHAR,\n",
        "activity_to INTEGER, \n",
        "Date_maj TIMESTAMP DEFAULT CURRENT_TIMESTAMP\n",
        ");"
      ],
      "metadata": {
        "colab": {
          "base_uri": "https://localhost:8080/"
        },
        "id": "1zSFP8Blt5DY",
        "outputId": "01a02654-eff6-4a38-c2b0-decaa5b4a20c"
      },
      "execution_count": 5,
      "outputs": [
        {
          "output_type": "stream",
          "name": "stdout",
          "text": [
            " * sqlite:///Itineraires.db\n"
          ]
        },
        {
          "output_type": "execute_result",
          "data": {
            "text/plain": [
              "[]"
            ]
          },
          "metadata": {},
          "execution_count": 5
        }
      ]
    },
    {
      "cell_type": "markdown",
      "source": [
        "Import des données \"city\" par l'intermédiaire d'un fichier puis d'un dataframe (correspondance des noms de colonnes) :"
      ],
      "metadata": {
        "id": "loLJgywI1MqQ"
      }
    },
    {
      "cell_type": "code",
      "source": [
        "import_city_repository = pd.read_csv('/content/drive/MyDrive/CSV4DB/city_repository.csv')"
      ],
      "metadata": {
        "id": "rYz7ddHxlcEU"
      },
      "execution_count": 8,
      "outputs": []
    },
    {
      "cell_type": "code",
      "source": [
        "import_city_repository.to_sql('city_repository', conn, if_exists='append', index=False)"
      ],
      "metadata": {
        "id": "7y0L_Vv98NPy"
      },
      "execution_count": 9,
      "outputs": []
    },
    {
      "cell_type": "markdown",
      "source": [
        "Vérifications :"
      ],
      "metadata": {
        "id": "bGSkTpeR54ZX"
      }
    },
    {
      "cell_type": "code",
      "source": [
        "import_city_repository.count()"
      ],
      "metadata": {
        "colab": {
          "base_uri": "https://localhost:8080/"
        },
        "id": "j-RAqIiy3q6K",
        "outputId": "61fe157a-a3f6-4a1c-96bf-b6f2aa7b3ce7"
      },
      "execution_count": 10,
      "outputs": [
        {
          "output_type": "execute_result",
          "data": {
            "text/plain": [
              "nom_commune      85\n",
              "code_postal      85\n",
              "Lieu_dit         61\n",
              "gps_latitude     85\n",
              "gps_longitude    85\n",
              "dtype: int64"
            ]
          },
          "metadata": {},
          "execution_count": 10
        }
      ]
    },
    {
      "cell_type": "code",
      "source": [
        "%%sql\n",
        "SELECT COUNT(*) FROM city_repository"
      ],
      "metadata": {
        "colab": {
          "base_uri": "https://localhost:8080/",
          "height": 80
        },
        "id": "2zVun5Fx3hTX",
        "outputId": "3ae0b78b-c4dc-4a9f-f368-0bb72d660fc6"
      },
      "execution_count": 11,
      "outputs": [
        {
          "output_type": "stream",
          "name": "stdout",
          "text": [
            " * sqlite:///Itineraires.db\n"
          ]
        },
        {
          "output_type": "execute_result",
          "data": {
            "text/plain": [
              "[(85,)]"
            ],
            "text/html": [
              "<table>\n",
              "    <thead>\n",
              "        <tr>\n",
              "            <th>COUNT(*)</th>\n",
              "        </tr>\n",
              "    </thead>\n",
              "    <tbody>\n",
              "        <tr>\n",
              "            <td>85</td>\n",
              "        </tr>\n",
              "    </tbody>\n",
              "</table>"
            ]
          },
          "metadata": {},
          "execution_count": 11
        }
      ]
    },
    {
      "cell_type": "code",
      "source": [
        "%%sql\n",
        "SELECT * FROM city_repository\n",
        "LIMIT 5"
      ],
      "metadata": {
        "colab": {
          "base_uri": "https://localhost:8080/",
          "height": 165
        },
        "id": "1_w3pvXXyWXU",
        "outputId": "1fcdd0ae-dcd7-4387-a15f-1280275731fb"
      },
      "execution_count": 12,
      "outputs": [
        {
          "output_type": "stream",
          "name": "stdout",
          "text": [
            " * sqlite:///Itineraires.db\n"
          ]
        },
        {
          "output_type": "execute_result",
          "data": {
            "text/plain": [
              "[(1, 'ST DENIS', 97490, 'BOIS DE NEFLES ST DENIS', -20.933029099, 55.446977555, '2023-02-24 10:49:24'),\n",
              " (2, 'ST DENIS', 97490, 'ST DENIS CHAUDRON', -20.933029099, 55.446977555, '2023-02-24 10:49:24'),\n",
              " (3, 'ST DENIS', 97490, 'LA BRETAGNE', -20.933029099, 55.446977555, '2023-02-24 10:49:24'),\n",
              " (4, 'ST DENIS', 97490, 'MOUFIA', -20.933029099, 55.446977555, '2023-02-24 10:49:24'),\n",
              " (5, 'ST DENIS', 97490, 'STE CLOTILDE', -20.933029099, 55.446977555, '2023-02-24 10:49:24')]"
            ],
            "text/html": [
              "<table>\n",
              "    <thead>\n",
              "        <tr>\n",
              "            <th>city_id</th>\n",
              "            <th>nom_commune</th>\n",
              "            <th>code_postal</th>\n",
              "            <th>Lieu_dit</th>\n",
              "            <th>gps_latitude</th>\n",
              "            <th>gps_longitude</th>\n",
              "            <th>Date_maj</th>\n",
              "        </tr>\n",
              "    </thead>\n",
              "    <tbody>\n",
              "        <tr>\n",
              "            <td>1</td>\n",
              "            <td>ST DENIS</td>\n",
              "            <td>97490</td>\n",
              "            <td>BOIS DE NEFLES ST DENIS</td>\n",
              "            <td>-20.933029099</td>\n",
              "            <td>55.446977555</td>\n",
              "            <td>2023-02-24 10:49:24</td>\n",
              "        </tr>\n",
              "        <tr>\n",
              "            <td>2</td>\n",
              "            <td>ST DENIS</td>\n",
              "            <td>97490</td>\n",
              "            <td>ST DENIS CHAUDRON</td>\n",
              "            <td>-20.933029099</td>\n",
              "            <td>55.446977555</td>\n",
              "            <td>2023-02-24 10:49:24</td>\n",
              "        </tr>\n",
              "        <tr>\n",
              "            <td>3</td>\n",
              "            <td>ST DENIS</td>\n",
              "            <td>97490</td>\n",
              "            <td>LA BRETAGNE</td>\n",
              "            <td>-20.933029099</td>\n",
              "            <td>55.446977555</td>\n",
              "            <td>2023-02-24 10:49:24</td>\n",
              "        </tr>\n",
              "        <tr>\n",
              "            <td>4</td>\n",
              "            <td>ST DENIS</td>\n",
              "            <td>97490</td>\n",
              "            <td>MOUFIA</td>\n",
              "            <td>-20.933029099</td>\n",
              "            <td>55.446977555</td>\n",
              "            <td>2023-02-24 10:49:24</td>\n",
              "        </tr>\n",
              "        <tr>\n",
              "            <td>5</td>\n",
              "            <td>ST DENIS</td>\n",
              "            <td>97490</td>\n",
              "            <td>STE CLOTILDE</td>\n",
              "            <td>-20.933029099</td>\n",
              "            <td>55.446977555</td>\n",
              "            <td>2023-02-24 10:49:24</td>\n",
              "        </tr>\n",
              "    </tbody>\n",
              "</table>"
            ]
          },
          "metadata": {},
          "execution_count": 12
        }
      ]
    },
    {
      "cell_type": "markdown",
      "source": [
        "Import des données \"activity\" :"
      ],
      "metadata": {
        "id": "sVx2YBfIvH1G"
      }
    },
    {
      "cell_type": "code",
      "source": [
        "import_activity_hierarchy = pd.read_csv('/content/drive/MyDrive/CSV4DB/activity_hierarchy.csv')"
      ],
      "metadata": {
        "id": "KZg5Nt45we78"
      },
      "execution_count": 13,
      "outputs": []
    },
    {
      "cell_type": "code",
      "source": [
        "import_activity_hierarchy.to_sql('activity_hierarchy', conn, if_exists='append', index=False)"
      ],
      "metadata": {
        "id": "SMAkN9QQwf_D"
      },
      "execution_count": 17,
      "outputs": []
    },
    {
      "cell_type": "markdown",
      "source": [
        "Vérifications :"
      ],
      "metadata": {
        "id": "sE7L3JCpwhFR"
      }
    },
    {
      "cell_type": "code",
      "source": [
        "import_activity_hierarchy.count()"
      ],
      "metadata": {
        "colab": {
          "base_uri": "https://localhost:8080/"
        },
        "id": "M_V0sE5ywhm2",
        "outputId": "e4a84706-4364-47d7-cb3a-b9e22dea5abc"
      },
      "execution_count": 18,
      "outputs": [
        {
          "output_type": "execute_result",
          "data": {
            "text/plain": [
              "activity_id      252\n",
              "activity_name    252\n",
              "activity_to      251\n",
              "dtype: int64"
            ]
          },
          "metadata": {},
          "execution_count": 18
        }
      ]
    },
    {
      "cell_type": "code",
      "source": [
        "\n",
        "%%sql\n",
        "SELECT COUNT(*) FROM activity_hierarchy"
      ],
      "metadata": {
        "colab": {
          "base_uri": "https://localhost:8080/",
          "height": 80
        },
        "id": "T7Zav7zmwh4h",
        "outputId": "48a485c3-3865-4450-cf12-72925cf711c8"
      },
      "execution_count": 19,
      "outputs": [
        {
          "output_type": "stream",
          "name": "stdout",
          "text": [
            " * sqlite:///Itineraires.db\n"
          ]
        },
        {
          "output_type": "execute_result",
          "data": {
            "text/plain": [
              "[(252,)]"
            ],
            "text/html": [
              "<table>\n",
              "    <thead>\n",
              "        <tr>\n",
              "            <th>COUNT(*)</th>\n",
              "        </tr>\n",
              "    </thead>\n",
              "    <tbody>\n",
              "        <tr>\n",
              "            <td>252</td>\n",
              "        </tr>\n",
              "    </tbody>\n",
              "</table>"
            ]
          },
          "metadata": {},
          "execution_count": 19
        }
      ]
    },
    {
      "cell_type": "code",
      "source": [
        "%%sql\n",
        "SELECT * FROM activity_hierarchy\n",
        "LIMIT 5"
      ],
      "metadata": {
        "colab": {
          "base_uri": "https://localhost:8080/",
          "height": 165
        },
        "id": "67-6NU1IxrWx",
        "outputId": "775167c8-732d-4a66-a8f6-d20eb42ecabe"
      },
      "execution_count": 20,
      "outputs": [
        {
          "output_type": "stream",
          "name": "stdout",
          "text": [
            " * sqlite:///Itineraires.db\n"
          ]
        },
        {
          "output_type": "execute_result",
          "data": {
            "text/plain": [
              "[(1, 'PointOfInterest', None, '2023-02-24 10:50:30'),\n",
              " (2, 'PlaceOfInterest', 1, '2023-02-24 10:50:30'),\n",
              " (3, 'ActivityProvider', 2, '2023-02-24 10:50:30'),\n",
              " (4, 'CulturalSite', 2, '2023-02-24 10:50:30'),\n",
              " (5, 'FoodEstablishment', 2, '2023-02-24 10:50:30')]"
            ],
            "text/html": [
              "<table>\n",
              "    <thead>\n",
              "        <tr>\n",
              "            <th>activity_id</th>\n",
              "            <th>activity_name</th>\n",
              "            <th>activity_to</th>\n",
              "            <th>Date_maj</th>\n",
              "        </tr>\n",
              "    </thead>\n",
              "    <tbody>\n",
              "        <tr>\n",
              "            <td>1</td>\n",
              "            <td>PointOfInterest</td>\n",
              "            <td>None</td>\n",
              "            <td>2023-02-24 10:50:30</td>\n",
              "        </tr>\n",
              "        <tr>\n",
              "            <td>2</td>\n",
              "            <td>PlaceOfInterest</td>\n",
              "            <td>1</td>\n",
              "            <td>2023-02-24 10:50:30</td>\n",
              "        </tr>\n",
              "        <tr>\n",
              "            <td>3</td>\n",
              "            <td>ActivityProvider</td>\n",
              "            <td>2</td>\n",
              "            <td>2023-02-24 10:50:30</td>\n",
              "        </tr>\n",
              "        <tr>\n",
              "            <td>4</td>\n",
              "            <td>CulturalSite</td>\n",
              "            <td>2</td>\n",
              "            <td>2023-02-24 10:50:30</td>\n",
              "        </tr>\n",
              "        <tr>\n",
              "            <td>5</td>\n",
              "            <td>FoodEstablishment</td>\n",
              "            <td>2</td>\n",
              "            <td>2023-02-24 10:50:30</td>\n",
              "        </tr>\n",
              "    </tbody>\n",
              "</table>"
            ]
          },
          "metadata": {},
          "execution_count": 20
        }
      ]
    },
    {
      "cell_type": "markdown",
      "source": [
        "===================================\n",
        "Chargement des données POI - les tables sont crées depuis leurs dataframes."
      ],
      "metadata": {
        "id": "tOAaVvNaocbe"
      }
    },
    {
      "cell_type": "markdown",
      "source": [
        "Dataframe/table du fichier reunion_clean.csv :"
      ],
      "metadata": {
        "id": "6IKhqpL19pzJ"
      }
    },
    {
      "cell_type": "code",
      "source": [
        "poi_reunion_clean = pd.read_csv('/content/drive/MyDrive/CSV4DB/reunion_clean.csv')"
      ],
      "metadata": {
        "id": "nzUJ26jb-JJ6"
      },
      "execution_count": 28,
      "outputs": []
    },
    {
      "cell_type": "code",
      "source": [
        "%sql persist poi_reunion_clean"
      ],
      "metadata": {
        "colab": {
          "base_uri": "https://localhost:8080/",
          "height": 53
        },
        "id": "GWk528ZYBorK",
        "outputId": "1b49ea32-793e-4abe-d77c-d940e767b720"
      },
      "execution_count": 29,
      "outputs": [
        {
          "output_type": "stream",
          "name": "stdout",
          "text": [
            " * sqlite:///Itineraires.db\n"
          ]
        },
        {
          "output_type": "execute_result",
          "data": {
            "text/plain": [
              "'Persisted poi_reunion_clean'"
            ],
            "application/vnd.google.colaboratory.intrinsic+json": {
              "type": "string"
            }
          },
          "metadata": {},
          "execution_count": 29
        }
      ]
    },
    {
      "cell_type": "markdown",
      "source": [
        "Vérifications :"
      ],
      "metadata": {
        "id": "MlZStGOnB0x9"
      }
    },
    {
      "cell_type": "code",
      "source": [
        "poi_reunion_clean.count()"
      ],
      "metadata": {
        "colab": {
          "base_uri": "https://localhost:8080/"
        },
        "id": "C0S8dz6v-oIg",
        "outputId": "875fab32-cec1-411f-b13e-c7f1f2f2f4d9"
      },
      "execution_count": 30,
      "outputs": [
        {
          "output_type": "execute_result",
          "data": {
            "text/plain": [
              "ID                     1750\n",
              "Nom_du_POI             1750\n",
              "Latitude               1750\n",
              "Longitude              1750\n",
              "Adresse_postale        1655\n",
              "Date_de_mise_a_jour    1750\n",
              "Contacts_du_POI        1655\n",
              "Description              29\n",
              "region                 1750\n",
              "commune                1750\n",
              "code_postal            1750\n",
              "category_0             1743\n",
              "category_1             1224\n",
              "category_2               78\n",
              "dtype: int64"
            ]
          },
          "metadata": {},
          "execution_count": 30
        }
      ]
    },
    {
      "cell_type": "code",
      "source": [
        "%%sql\n",
        "SELECT count(*) FROM poi_reunion_clean;"
      ],
      "metadata": {
        "colab": {
          "base_uri": "https://localhost:8080/",
          "height": 80
        },
        "id": "UrOSemPdCltn",
        "outputId": "60d117f7-d1b7-4dea-b24b-65260468056f"
      },
      "execution_count": 31,
      "outputs": [
        {
          "output_type": "stream",
          "name": "stdout",
          "text": [
            " * sqlite:///Itineraires.db\n"
          ]
        },
        {
          "output_type": "execute_result",
          "data": {
            "text/plain": [
              "[(1750,)]"
            ],
            "text/html": [
              "<table>\n",
              "    <thead>\n",
              "        <tr>\n",
              "            <th>count(*)</th>\n",
              "        </tr>\n",
              "    </thead>\n",
              "    <tbody>\n",
              "        <tr>\n",
              "            <td>1750</td>\n",
              "        </tr>\n",
              "    </tbody>\n",
              "</table>"
            ]
          },
          "metadata": {},
          "execution_count": 31
        }
      ]
    },
    {
      "cell_type": "code",
      "source": [
        "%%sql\n",
        "SELECT * FROM poi_reunion_clean\n",
        "LIMIT 5;"
      ],
      "metadata": {
        "colab": {
          "base_uri": "https://localhost:8080/",
          "height": 359
        },
        "id": "Uf0JmAG52oBy",
        "outputId": "79b07044-b97f-466c-f63d-4192f7c8895b"
      },
      "execution_count": 32,
      "outputs": [
        {
          "output_type": "stream",
          "name": "stdout",
          "text": [
            " * sqlite:///Itineraires.db\n"
          ]
        },
        {
          "output_type": "execute_result",
          "data": {
            "text/plain": [
              "[(0, '187a27ff-8ad2-3298-9b2f-064023dd042b', 'Lentille des Gourmets (La)', -21.13588418, 55.479501, '40 E, chemin des Trois Mares', '2022-05-30', 'Lentille des Gourmets (La)#+33 2 62 31 85 85#hotel@lecilaos.re#http://leschenets-lecilaos.re/', None, 54, 'Cilaos', 97413, 'FoodEstablishment', 'Restaurant', None),\n",
              " (1, 'ac5515a8-d78e-35ed-a51e-6fc6b1ddbb2b', 'Neptune (Le)', -21.34144, 55.462664, '117, boulevard Hubert Delisle', '2021-07-13', 'Neptune (Le)#+33 2 62 61 61 61#reservation@lebattantdeslames.com#http://www.lebattantdeslames.com/', None, 54, 'Saint-Pierre', 97410, 'ActivityProvider', 'LeisureSportActivityProvider', None),\n",
              " (2, '43079596-c868-3cfe-a280-aeaf15d5666c', 'Grand Large (Le)', -21.34144, 55.462664, '117, boulevard Hubert Delisle', '2021-07-13', 'Grand Large (Le)#+33 2 62 61 61 61#reservation@lebattantdeslames.com#http://www.lebattantdeslames.com/', None, 54, 'Saint-Pierre', 97410, 'FoodEstablishment', 'Restaurant', None),\n",
              " (3, 'f2a140d5-152c-300b-accb-67619012a89a', 'Concorde (Le)', -20.89625806, 55.44723605, '91 bis, allée des Topazes - Bellepierre', '2019-10-10', 'Concorde (Le)#+33 2 62 51 51 51#info@hotel-bellepierre.com#http://www.hotel-bellepierre.com/', None, 54, 'Saint-Denis', 97400, 'FoodEstablishment', 'Restaurant', 'ActivityProvider'),\n",
              " (4, '9c77eb5d-8fd9-3700-8e77-e830870e9669', \"Jardin de la Maison d'Edith (Le)\", -20.889919, 55.407147, '59, chemin Commins', '2020-05-07', \"Jardin de la Maison d'Edith (Le)#+33 6 92 69 66 05#maisondedith@gmail.com#http://www.maisondedith.com/\", None, 54, 'Saint-Denis', 97417, 'CulturalSite', None, None)]"
            ],
            "text/html": [
              "<table>\n",
              "    <thead>\n",
              "        <tr>\n",
              "            <th>index</th>\n",
              "            <th>ID</th>\n",
              "            <th>Nom_du_POI</th>\n",
              "            <th>Latitude</th>\n",
              "            <th>Longitude</th>\n",
              "            <th>Adresse_postale</th>\n",
              "            <th>Date_de_mise_a_jour</th>\n",
              "            <th>Contacts_du_POI</th>\n",
              "            <th>Description</th>\n",
              "            <th>region</th>\n",
              "            <th>commune</th>\n",
              "            <th>code_postal</th>\n",
              "            <th>category_0</th>\n",
              "            <th>category_1</th>\n",
              "            <th>category_2</th>\n",
              "        </tr>\n",
              "    </thead>\n",
              "    <tbody>\n",
              "        <tr>\n",
              "            <td>0</td>\n",
              "            <td>187a27ff-8ad2-3298-9b2f-064023dd042b</td>\n",
              "            <td>Lentille des Gourmets (La)</td>\n",
              "            <td>-21.13588418</td>\n",
              "            <td>55.479501</td>\n",
              "            <td>40 E, chemin des Trois Mares</td>\n",
              "            <td>2022-05-30</td>\n",
              "            <td>Lentille des Gourmets (La)#+33 2 62 31 85 85#hotel@lecilaos.re#http://leschenets-lecilaos.re/</td>\n",
              "            <td>None</td>\n",
              "            <td>54</td>\n",
              "            <td>Cilaos</td>\n",
              "            <td>97413</td>\n",
              "            <td>FoodEstablishment</td>\n",
              "            <td>Restaurant</td>\n",
              "            <td>None</td>\n",
              "        </tr>\n",
              "        <tr>\n",
              "            <td>1</td>\n",
              "            <td>ac5515a8-d78e-35ed-a51e-6fc6b1ddbb2b</td>\n",
              "            <td>Neptune (Le)</td>\n",
              "            <td>-21.34144</td>\n",
              "            <td>55.462664</td>\n",
              "            <td>117, boulevard Hubert Delisle</td>\n",
              "            <td>2021-07-13</td>\n",
              "            <td>Neptune (Le)#+33 2 62 61 61 61#reservation@lebattantdeslames.com#http://www.lebattantdeslames.com/</td>\n",
              "            <td>None</td>\n",
              "            <td>54</td>\n",
              "            <td>Saint-Pierre</td>\n",
              "            <td>97410</td>\n",
              "            <td>ActivityProvider</td>\n",
              "            <td>LeisureSportActivityProvider</td>\n",
              "            <td>None</td>\n",
              "        </tr>\n",
              "        <tr>\n",
              "            <td>2</td>\n",
              "            <td>43079596-c868-3cfe-a280-aeaf15d5666c</td>\n",
              "            <td>Grand Large (Le)</td>\n",
              "            <td>-21.34144</td>\n",
              "            <td>55.462664</td>\n",
              "            <td>117, boulevard Hubert Delisle</td>\n",
              "            <td>2021-07-13</td>\n",
              "            <td>Grand Large (Le)#+33 2 62 61 61 61#reservation@lebattantdeslames.com#http://www.lebattantdeslames.com/</td>\n",
              "            <td>None</td>\n",
              "            <td>54</td>\n",
              "            <td>Saint-Pierre</td>\n",
              "            <td>97410</td>\n",
              "            <td>FoodEstablishment</td>\n",
              "            <td>Restaurant</td>\n",
              "            <td>None</td>\n",
              "        </tr>\n",
              "        <tr>\n",
              "            <td>3</td>\n",
              "            <td>f2a140d5-152c-300b-accb-67619012a89a</td>\n",
              "            <td>Concorde (Le)</td>\n",
              "            <td>-20.89625806</td>\n",
              "            <td>55.44723605</td>\n",
              "            <td>91 bis, allée des Topazes - Bellepierre</td>\n",
              "            <td>2019-10-10</td>\n",
              "            <td>Concorde (Le)#+33 2 62 51 51 51#info@hotel-bellepierre.com#http://www.hotel-bellepierre.com/</td>\n",
              "            <td>None</td>\n",
              "            <td>54</td>\n",
              "            <td>Saint-Denis</td>\n",
              "            <td>97400</td>\n",
              "            <td>FoodEstablishment</td>\n",
              "            <td>Restaurant</td>\n",
              "            <td>ActivityProvider</td>\n",
              "        </tr>\n",
              "        <tr>\n",
              "            <td>4</td>\n",
              "            <td>9c77eb5d-8fd9-3700-8e77-e830870e9669</td>\n",
              "            <td>Jardin de la Maison d&#x27;Edith (Le)</td>\n",
              "            <td>-20.889919</td>\n",
              "            <td>55.407147</td>\n",
              "            <td>59, chemin Commins</td>\n",
              "            <td>2020-05-07</td>\n",
              "            <td>Jardin de la Maison d&#x27;Edith (Le)#+33 6 92 69 66 05#maisondedith@gmail.com#http://www.maisondedith.com/</td>\n",
              "            <td>None</td>\n",
              "            <td>54</td>\n",
              "            <td>Saint-Denis</td>\n",
              "            <td>97417</td>\n",
              "            <td>CulturalSite</td>\n",
              "            <td>None</td>\n",
              "            <td>None</td>\n",
              "        </tr>\n",
              "    </tbody>\n",
              "</table>"
            ]
          },
          "metadata": {},
          "execution_count": 32
        }
      ]
    },
    {
      "cell_type": "markdown",
      "source": [
        "Dataframe/table du fichier reunion_poi_2.csv :\n"
      ],
      "metadata": {
        "id": "_0uwsObB0RkT"
      }
    },
    {
      "cell_type": "code",
      "source": [
        "poi_reunion_2 = pd.read_csv('/content/drive/MyDrive/CSV4DB/reunion_poi_2.csv')"
      ],
      "metadata": {
        "id": "P25grqaq23nz"
      },
      "execution_count": 33,
      "outputs": []
    },
    {
      "cell_type": "code",
      "source": [
        "%sql persist poi_reunion_2"
      ],
      "metadata": {
        "colab": {
          "base_uri": "https://localhost:8080/",
          "height": 53
        },
        "id": "rIh_m0H33z1t",
        "outputId": "d1d542a5-9acd-48d0-c133-1e36d7fa0bf0"
      },
      "execution_count": 34,
      "outputs": [
        {
          "output_type": "stream",
          "name": "stdout",
          "text": [
            " * sqlite:///Itineraires.db\n"
          ]
        },
        {
          "output_type": "execute_result",
          "data": {
            "text/plain": [
              "'Persisted poi_reunion_2'"
            ],
            "application/vnd.google.colaboratory.intrinsic+json": {
              "type": "string"
            }
          },
          "metadata": {},
          "execution_count": 34
        }
      ]
    },
    {
      "cell_type": "markdown",
      "source": [
        "Vérifications :"
      ],
      "metadata": {
        "id": "rKVNaHIC30hT"
      }
    },
    {
      "cell_type": "code",
      "source": [
        "poi_reunion_2.count()"
      ],
      "metadata": {
        "colab": {
          "base_uri": "https://localhost:8080/"
        },
        "id": "ccwozY7b31Av",
        "outputId": "1572f421-3a69-4e91-c082-168340ae6b26"
      },
      "execution_count": 35,
      "outputs": [
        {
          "output_type": "execute_result",
          "data": {
            "text/plain": [
              "ID                     314\n",
              "Nom_du_POI             314\n",
              "Latitude               314\n",
              "Longitude              314\n",
              "Adresse_postale        227\n",
              "Date_de_mise_a_jour    314\n",
              "Contacts_du_POI        227\n",
              "Description             28\n",
              "region                 314\n",
              "commune                314\n",
              "code_postal            314\n",
              "category_0             307\n",
              "category_1             105\n",
              "category_2              21\n",
              "dtype: int64"
            ]
          },
          "metadata": {},
          "execution_count": 35
        }
      ]
    },
    {
      "cell_type": "code",
      "source": [
        "%%sql\n",
        "SELECT count(*) FROM poi_reunion_2;"
      ],
      "metadata": {
        "colab": {
          "base_uri": "https://localhost:8080/",
          "height": 80
        },
        "id": "3mhC3FKb31Vs",
        "outputId": "5419d3c4-3511-4266-e06d-ccb6f006d303"
      },
      "execution_count": 36,
      "outputs": [
        {
          "output_type": "stream",
          "name": "stdout",
          "text": [
            " * sqlite:///Itineraires.db\n"
          ]
        },
        {
          "output_type": "execute_result",
          "data": {
            "text/plain": [
              "[(314,)]"
            ],
            "text/html": [
              "<table>\n",
              "    <thead>\n",
              "        <tr>\n",
              "            <th>count(*)</th>\n",
              "        </tr>\n",
              "    </thead>\n",
              "    <tbody>\n",
              "        <tr>\n",
              "            <td>314</td>\n",
              "        </tr>\n",
              "    </tbody>\n",
              "</table>"
            ]
          },
          "metadata": {},
          "execution_count": 36
        }
      ]
    },
    {
      "cell_type": "markdown",
      "source": [
        "Dataframe/table du fichier reunion_activity.csv :"
      ],
      "metadata": {
        "id": "44sloxhTCiQK"
      }
    },
    {
      "cell_type": "code",
      "source": [
        "poi_reunion_activity = pd.read_csv('/content/drive/MyDrive/CSV4DB/reunion_activity.csv')"
      ],
      "metadata": {
        "id": "nW4Stger9oJI"
      },
      "execution_count": 38,
      "outputs": []
    },
    {
      "cell_type": "code",
      "source": [
        "%sql persist poi_reunion_activity\n"
      ],
      "metadata": {
        "colab": {
          "base_uri": "https://localhost:8080/",
          "height": 53
        },
        "id": "KhNj7NTrurAh",
        "outputId": "3ed61a2d-69ea-4b92-845f-debdb8f9ee9b"
      },
      "execution_count": null,
      "outputs": [
        {
          "output_type": "stream",
          "name": "stdout",
          "text": [
            " * sqlite:///Itineraires.db\n"
          ]
        },
        {
          "output_type": "execute_result",
          "data": {
            "text/plain": [
              "'Persisted poi_reunion_activity'"
            ],
            "application/vnd.google.colaboratory.intrinsic+json": {
              "type": "string"
            }
          },
          "metadata": {},
          "execution_count": 27
        }
      ]
    },
    {
      "cell_type": "markdown",
      "source": [
        "Vérifications :"
      ],
      "metadata": {
        "id": "PN9_RAu_E9ph"
      }
    },
    {
      "cell_type": "code",
      "source": [
        "poi_reunion_activity.count()"
      ],
      "metadata": {
        "colab": {
          "base_uri": "https://localhost:8080/"
        },
        "id": "m1GSHhGk1Uwl",
        "outputId": "8fd568dd-0ddd-449f-812c-2def006681fe"
      },
      "execution_count": null,
      "outputs": [
        {
          "output_type": "execute_result",
          "data": {
            "text/plain": [
              "ID                     241\n",
              "Nom_du_POI             241\n",
              "Latitude               241\n",
              "Longitude              241\n",
              "Adresse_postale        233\n",
              "Date_de_mise_a_jour    241\n",
              "Contacts_du_POI        233\n",
              "Description              1\n",
              "region                 241\n",
              "commune                241\n",
              "code_postal            241\n",
              "category_0             241\n",
              "category_1             241\n",
              "category_2               2\n",
              "dtype: int64"
            ]
          },
          "metadata": {},
          "execution_count": 28
        }
      ]
    },
    {
      "cell_type": "code",
      "source": [
        "%%sql\n",
        "SELECT COUNT(*) FROM poi_reunion_activity"
      ],
      "metadata": {
        "colab": {
          "base_uri": "https://localhost:8080/"
        },
        "id": "Lgyt-PQr11kB",
        "outputId": "ccc6db7c-ed4a-4fa1-f073-e9ae04eaef93"
      },
      "execution_count": 39,
      "outputs": [
        {
          "output_type": "stream",
          "name": "stdout",
          "text": [
            " * sqlite:///Itineraires.db\n",
            "(sqlite3.OperationalError) no such table: poi_reunion_activity\n",
            "[SQL: SELECT COUNT(*) FROM poi_reunion_activity]\n",
            "(Background on this error at: https://sqlalche.me/e/14/e3q8)\n"
          ]
        }
      ]
    },
    {
      "cell_type": "markdown",
      "source": [
        "Dataframe/table du fichier reunion_coordonnees.csv :"
      ],
      "metadata": {
        "id": "8UU5cT0S1Now"
      }
    },
    {
      "cell_type": "code",
      "source": [
        "poi_reunion_coordonnees = pd.read_csv('/content/drive/MyDrive/CSV4DB/reunion_coordonnees.csv')"
      ],
      "metadata": {
        "id": "REul3NYh8NKB"
      },
      "execution_count": 41,
      "outputs": []
    },
    {
      "cell_type": "code",
      "source": [
        "%%sql\n",
        "persist poi_reunion_coordonnees"
      ],
      "metadata": {
        "colab": {
          "base_uri": "https://localhost:8080/",
          "height": 53
        },
        "id": "jduBd62E81qh",
        "outputId": "ffb419a0-5ac6-4883-f7b6-c2ae6802aab2"
      },
      "execution_count": 42,
      "outputs": [
        {
          "output_type": "stream",
          "name": "stdout",
          "text": [
            " * sqlite:///Itineraires.db\n"
          ]
        },
        {
          "output_type": "execute_result",
          "data": {
            "text/plain": [
              "'Persisted poi_reunion_coordonnees'"
            ],
            "application/vnd.google.colaboratory.intrinsic+json": {
              "type": "string"
            }
          },
          "metadata": {},
          "execution_count": 42
        }
      ]
    },
    {
      "cell_type": "markdown",
      "source": [
        "Vérifications :"
      ],
      "metadata": {
        "id": "8NNx1vg85G8b"
      }
    },
    {
      "cell_type": "code",
      "source": [
        "poi_reunion_coordonnees.count()"
      ],
      "metadata": {
        "colab": {
          "base_uri": "https://localhost:8080/"
        },
        "id": "tboTB6jw9NyN",
        "outputId": "1cc58f14-becb-41c0-bf08-2ea06ec3b1c1"
      },
      "execution_count": 43,
      "outputs": [
        {
          "output_type": "execute_result",
          "data": {
            "text/plain": [
              "ID            1750\n",
              "Nom_du_POI    1750\n",
              "Latitude      1750\n",
              "Longitude     1750\n",
              "dtype: int64"
            ]
          },
          "metadata": {},
          "execution_count": 43
        }
      ]
    },
    {
      "cell_type": "code",
      "source": [
        "%%sql\n",
        "SELECT COUNT(*) FROM poi_reunion_coordonnees;"
      ],
      "metadata": {
        "colab": {
          "base_uri": "https://localhost:8080/",
          "height": 80
        },
        "id": "slPUXR4G_SGg",
        "outputId": "d515e60d-c930-430d-dac1-495fd17eb55d"
      },
      "execution_count": 44,
      "outputs": [
        {
          "output_type": "stream",
          "name": "stdout",
          "text": [
            " * sqlite:///Itineraires.db\n"
          ]
        },
        {
          "output_type": "execute_result",
          "data": {
            "text/plain": [
              "[(1750,)]"
            ],
            "text/html": [
              "<table>\n",
              "    <thead>\n",
              "        <tr>\n",
              "            <th>COUNT(*)</th>\n",
              "        </tr>\n",
              "    </thead>\n",
              "    <tbody>\n",
              "        <tr>\n",
              "            <td>1750</td>\n",
              "        </tr>\n",
              "    </tbody>\n",
              "</table>"
            ]
          },
          "metadata": {},
          "execution_count": 44
        }
      ]
    },
    {
      "cell_type": "markdown",
      "source": [
        "Dataframe/table du fichier reunion_food.csv :"
      ],
      "metadata": {
        "id": "eBUikgsJ5s7J"
      }
    },
    {
      "cell_type": "code",
      "source": [
        "poi_reunion_food = pd.read_csv('/content/drive/MyDrive/CSV4DB/reunion_food.csv')"
      ],
      "metadata": {
        "id": "xatrdZxyBu8y"
      },
      "execution_count": 45,
      "outputs": []
    },
    {
      "cell_type": "code",
      "source": [
        "%%sql\n",
        "persist poi_reunion_food"
      ],
      "metadata": {
        "colab": {
          "base_uri": "https://localhost:8080/",
          "height": 53
        },
        "id": "ocumWQ5WYCPU",
        "outputId": "ae9e0b0e-83cf-41db-87e6-67b58d1ab689"
      },
      "execution_count": 46,
      "outputs": [
        {
          "output_type": "stream",
          "name": "stdout",
          "text": [
            " * sqlite:///Itineraires.db\n"
          ]
        },
        {
          "output_type": "execute_result",
          "data": {
            "text/plain": [
              "'Persisted poi_reunion_food'"
            ],
            "application/vnd.google.colaboratory.intrinsic+json": {
              "type": "string"
            }
          },
          "metadata": {},
          "execution_count": 46
        }
      ]
    },
    {
      "cell_type": "markdown",
      "source": [
        "Vérifications"
      ],
      "metadata": {
        "id": "1hS8dbGc6XlA"
      }
    },
    {
      "cell_type": "code",
      "source": [
        "poi_reunion_food.count()"
      ],
      "metadata": {
        "colab": {
          "base_uri": "https://localhost:8080/"
        },
        "id": "eFoVw9t_OWlV",
        "outputId": "cd49aba7-40de-41e9-da69-07cfe7ad6e6a"
      },
      "execution_count": 47,
      "outputs": [
        {
          "output_type": "execute_result",
          "data": {
            "text/plain": [
              "ID                     1195\n",
              "Nom_du_POI             1195\n",
              "Latitude               1195\n",
              "Longitude              1195\n",
              "Adresse_postale        1195\n",
              "Date_de_mise_a_jour    1195\n",
              "Contacts_du_POI        1195\n",
              "Description               0\n",
              "region                 1195\n",
              "commune                1195\n",
              "code_postal            1195\n",
              "category_0             1195\n",
              "category_1              878\n",
              "category_2               55\n",
              "dtype: int64"
            ]
          },
          "metadata": {},
          "execution_count": 47
        }
      ]
    },
    {
      "cell_type": "code",
      "source": [
        "%%sql\n",
        "SELECT COUNT(*) FROM poi_reunion_food;"
      ],
      "metadata": {
        "colab": {
          "base_uri": "https://localhost:8080/",
          "height": 80
        },
        "id": "_r-Dob9YPLCQ",
        "outputId": "cdd44d1d-1140-4bae-db1a-265010514103"
      },
      "execution_count": 48,
      "outputs": [
        {
          "output_type": "stream",
          "name": "stdout",
          "text": [
            " * sqlite:///Itineraires.db\n"
          ]
        },
        {
          "output_type": "execute_result",
          "data": {
            "text/plain": [
              "[(1195,)]"
            ],
            "text/html": [
              "<table>\n",
              "    <thead>\n",
              "        <tr>\n",
              "            <th>COUNT(*)</th>\n",
              "        </tr>\n",
              "    </thead>\n",
              "    <tbody>\n",
              "        <tr>\n",
              "            <td>1195</td>\n",
              "        </tr>\n",
              "    </tbody>\n",
              "</table>"
            ]
          },
          "metadata": {},
          "execution_count": 48
        }
      ]
    },
    {
      "cell_type": "markdown",
      "source": [
        "Dataframe/table du fichier reunion_ville_cp.csv :"
      ],
      "metadata": {
        "id": "K93qmxV96wrQ"
      }
    },
    {
      "cell_type": "code",
      "source": [
        "poi_reunion_ville_cp = pd.read_csv('/content/drive/MyDrive/CSV4DB/reunion_ville_cp.csv')"
      ],
      "metadata": {
        "id": "jFbTCj8DQ6Fk"
      },
      "execution_count": 49,
      "outputs": []
    },
    {
      "cell_type": "code",
      "source": [
        "%%sql\n",
        "persist poi_reunion_ville_cp"
      ],
      "metadata": {
        "colab": {
          "base_uri": "https://localhost:8080/",
          "height": 53
        },
        "id": "JZq2r3ctRZ1Y",
        "outputId": "97201410-9a3f-449e-982e-e971a6628b55"
      },
      "execution_count": 50,
      "outputs": [
        {
          "output_type": "stream",
          "name": "stdout",
          "text": [
            " * sqlite:///Itineraires.db\n"
          ]
        },
        {
          "output_type": "execute_result",
          "data": {
            "text/plain": [
              "'Persisted poi_reunion_ville_cp'"
            ],
            "application/vnd.google.colaboratory.intrinsic+json": {
              "type": "string"
            }
          },
          "metadata": {},
          "execution_count": 50
        }
      ]
    },
    {
      "cell_type": "markdown",
      "source": [
        "Vérifications :"
      ],
      "metadata": {
        "id": "UPhKzUR17gaO"
      }
    },
    {
      "cell_type": "code",
      "source": [
        "poi_reunion_ville_cp.count()"
      ],
      "metadata": {
        "colab": {
          "base_uri": "https://localhost:8080/"
        },
        "id": "XbHsy-UBRaCQ",
        "outputId": "5e724037-0f9c-4258-c498-8904285f4d64"
      },
      "execution_count": 51,
      "outputs": [
        {
          "output_type": "execute_result",
          "data": {
            "text/plain": [
              "code_postal    37\n",
              "commune        37\n",
              "region         37\n",
              "dtype: int64"
            ]
          },
          "metadata": {},
          "execution_count": 51
        }
      ]
    },
    {
      "cell_type": "code",
      "source": [
        "%%sql\n",
        "SELECT COUNT(*) FROM poi_reunion_ville_cp"
      ],
      "metadata": {
        "colab": {
          "base_uri": "https://localhost:8080/",
          "height": 80
        },
        "id": "t2s8utdlR4EU",
        "outputId": "a0fc7432-9529-4a58-d406-542ec1561bab"
      },
      "execution_count": 52,
      "outputs": [
        {
          "output_type": "stream",
          "name": "stdout",
          "text": [
            " * sqlite:///Itineraires.db\n"
          ]
        },
        {
          "output_type": "execute_result",
          "data": {
            "text/plain": [
              "[(37,)]"
            ],
            "text/html": [
              "<table>\n",
              "    <thead>\n",
              "        <tr>\n",
              "            <th>COUNT(*)</th>\n",
              "        </tr>\n",
              "    </thead>\n",
              "    <tbody>\n",
              "        <tr>\n",
              "            <td>37</td>\n",
              "        </tr>\n",
              "    </tbody>\n",
              "</table>"
            ]
          },
          "metadata": {},
          "execution_count": 52
        }
      ]
    },
    {
      "cell_type": "markdown",
      "source": [
        "Dataframe/table du fichier ontology_hierarchy_descending (2).csv :"
      ],
      "metadata": {
        "id": "8BYRIczD8RTu"
      }
    },
    {
      "cell_type": "code",
      "source": [
        "ontology_hierarchy_descending = pd.read_csv('/content/drive/MyDrive/CSV4DB/ontology_hierarchy_descending (2).csv')"
      ],
      "metadata": {
        "id": "C3Ujrawtb1BR"
      },
      "execution_count": 53,
      "outputs": []
    },
    {
      "cell_type": "code",
      "source": [
        "%sql persist ontology_hierarchy_descending"
      ],
      "metadata": {
        "colab": {
          "base_uri": "https://localhost:8080/",
          "height": 53
        },
        "id": "moTq7N-HcY3R",
        "outputId": "c07429af-59f5-44fa-cfb5-84daa85d9ee3"
      },
      "execution_count": 54,
      "outputs": [
        {
          "output_type": "stream",
          "name": "stdout",
          "text": [
            " * sqlite:///Itineraires.db\n"
          ]
        },
        {
          "output_type": "execute_result",
          "data": {
            "text/plain": [
              "'Persisted ontology_hierarchy_descending'"
            ],
            "application/vnd.google.colaboratory.intrinsic+json": {
              "type": "string"
            }
          },
          "metadata": {},
          "execution_count": 54
        }
      ]
    },
    {
      "cell_type": "markdown",
      "source": [
        "Vérifications :"
      ],
      "metadata": {
        "id": "_Cpp6smy9jJO"
      }
    },
    {
      "cell_type": "code",
      "source": [
        "ontology_hierarchy_descending.count()"
      ],
      "metadata": {
        "colab": {
          "base_uri": "https://localhost:8080/"
        },
        "id": "WtIM5PwHebWc",
        "outputId": "fb651133-7320-49fa-8e8c-986eabdffc83"
      },
      "execution_count": 55,
      "outputs": [
        {
          "output_type": "execute_result",
          "data": {
            "text/plain": [
              "PointOfInterest    231\n",
              "PlaceOfInterest    231\n",
              "activity0          231\n",
              "activity1          231\n",
              "activity2           62\n",
              "dtype: int64"
            ]
          },
          "metadata": {},
          "execution_count": 55
        }
      ]
    },
    {
      "cell_type": "code",
      "source": [
        "%%sql\n",
        "SELECT count(*) FROM ontology_hierarchy_descending;"
      ],
      "metadata": {
        "colab": {
          "base_uri": "https://localhost:8080/",
          "height": 80
        },
        "id": "luzSEyLo9pj3",
        "outputId": "9c7fe68b-960c-4bb1-e0c7-d039f5e6fc6c"
      },
      "execution_count": 56,
      "outputs": [
        {
          "output_type": "stream",
          "name": "stdout",
          "text": [
            " * sqlite:///Itineraires.db\n"
          ]
        },
        {
          "output_type": "execute_result",
          "data": {
            "text/plain": [
              "[(231,)]"
            ],
            "text/html": [
              "<table>\n",
              "    <thead>\n",
              "        <tr>\n",
              "            <th>count(*)</th>\n",
              "        </tr>\n",
              "    </thead>\n",
              "    <tbody>\n",
              "        <tr>\n",
              "            <td>231</td>\n",
              "        </tr>\n",
              "    </tbody>\n",
              "</table>"
            ]
          },
          "metadata": {},
          "execution_count": 56
        }
      ]
    },
    {
      "cell_type": "markdown",
      "source": [
        "Dataframe/table du fichier subclass_class_relations.csv :"
      ],
      "metadata": {
        "id": "KcHE9Ogp9ygq"
      }
    },
    {
      "cell_type": "code",
      "source": [
        "activity_subclass_class_relations = pd.read_csv('/content/drive/MyDrive/CSV4DB/subclass_class_relations.csv')"
      ],
      "metadata": {
        "id": "CrPkpUsG990-"
      },
      "execution_count": 57,
      "outputs": []
    },
    {
      "cell_type": "code",
      "source": [
        "%sql persist activity_subclass_class_relations"
      ],
      "metadata": {
        "colab": {
          "base_uri": "https://localhost:8080/",
          "height": 53
        },
        "id": "kMLZmzsP-oQR",
        "outputId": "7c48a12e-c8e3-493f-c9dd-39eab770405d"
      },
      "execution_count": 58,
      "outputs": [
        {
          "output_type": "stream",
          "name": "stdout",
          "text": [
            " * sqlite:///Itineraires.db\n"
          ]
        },
        {
          "output_type": "execute_result",
          "data": {
            "text/plain": [
              "'Persisted activity_subclass_class_relations'"
            ],
            "application/vnd.google.colaboratory.intrinsic+json": {
              "type": "string"
            }
          },
          "metadata": {},
          "execution_count": 58
        }
      ]
    },
    {
      "cell_type": "markdown",
      "source": [
        "\n",
        "Vérifications :"
      ],
      "metadata": {
        "id": "aWik3PLv-Tro"
      }
    },
    {
      "cell_type": "code",
      "source": [
        "activity_subclass_class_relations.count()"
      ],
      "metadata": {
        "colab": {
          "base_uri": "https://localhost:8080/"
        },
        "id": "vmgO_d6A-SoA",
        "outputId": "b56fe797-a616-4d49-a210-e936b3bdee9b"
      },
      "execution_count": 59,
      "outputs": [
        {
          "output_type": "execute_result",
          "data": {
            "text/plain": [
              "subclass    250\n",
              "class       250\n",
              "dtype: int64"
            ]
          },
          "metadata": {},
          "execution_count": 59
        }
      ]
    },
    {
      "cell_type": "code",
      "source": [
        "%%sql\n",
        "SELECT count(*) FROM activity_subclass_class_relations;"
      ],
      "metadata": {
        "colab": {
          "base_uri": "https://localhost:8080/",
          "height": 80
        },
        "id": "LxHy1s_z-wbW",
        "outputId": "d5645092-6c1b-413f-cd0f-200f0157c58b"
      },
      "execution_count": 60,
      "outputs": [
        {
          "output_type": "stream",
          "name": "stdout",
          "text": [
            " * sqlite:///Itineraires.db\n"
          ]
        },
        {
          "output_type": "execute_result",
          "data": {
            "text/plain": [
              "[(250,)]"
            ],
            "text/html": [
              "<table>\n",
              "    <thead>\n",
              "        <tr>\n",
              "            <th>count(*)</th>\n",
              "        </tr>\n",
              "    </thead>\n",
              "    <tbody>\n",
              "        <tr>\n",
              "            <td>250</td>\n",
              "        </tr>\n",
              "    </tbody>\n",
              "</table>"
            ]
          },
          "metadata": {},
          "execution_count": 60
        }
      ]
    },
    {
      "cell_type": "markdown",
      "source": [
        "========================================================================\n",
        "Présence des tables : \n",
        "\n",
        "*   city_repository \n",
        "*   activity_hierarchy\n",
        "*   poi_reunion_clean\n",
        "*   poi_reunion_2.\n",
        "*   poi_reunion_activity\n",
        "*   poi_reunion_coordonnees\n",
        "*   poi_reunion_food\n",
        "*   poi_reunion_ville_cp\n",
        "*   ontology_hierarchy_descending\n",
        "*   activity_subclass_class_relations\n",
        "\n",
        "\n",
        "\n",
        "Exemples de requêtes :"
      ],
      "metadata": {
        "id": "c8f-PbIk-9xL"
      }
    },
    {
      "cell_type": "code",
      "source": [
        "%%sql\n",
        "SELECT nom_commune, COUNT(Lieu_dit), gps_latitude, gps_longitude\n",
        "FROM city_repository\n",
        "GROUP BY nom_commune\n",
        "ORDER BY 2 DESC\n",
        "LIMIT 5"
      ],
      "metadata": {
        "colab": {
          "base_uri": "https://localhost:8080/",
          "height": 165
        },
        "id": "JuFPDm6FEerw",
        "outputId": "bfebc3db-8abd-4845-a8a3-a3f1d8239080"
      },
      "execution_count": 61,
      "outputs": [
        {
          "output_type": "stream",
          "name": "stdout",
          "text": [
            " * sqlite:///Itineraires.db\n"
          ]
        },
        {
          "output_type": "execute_result",
          "data": {
            "text/plain": [
              "[('ST DENIS', 12, -20.933029099, 55.446977555),\n",
              " ('ST PAUL', 10, -21.044520611, 55.322330771),\n",
              " ('ST PIERRE', 6, -21.312265663, 55.49381116),\n",
              " ('LE TAMPON', 5, -21.223167157, 55.558552873),\n",
              " ('STE MARIE', 3, -20.946751887, 55.530655328)]"
            ],
            "text/html": [
              "<table>\n",
              "    <thead>\n",
              "        <tr>\n",
              "            <th>nom_commune</th>\n",
              "            <th>COUNT(Lieu_dit)</th>\n",
              "            <th>gps_latitude</th>\n",
              "            <th>gps_longitude</th>\n",
              "        </tr>\n",
              "    </thead>\n",
              "    <tbody>\n",
              "        <tr>\n",
              "            <td>ST DENIS</td>\n",
              "            <td>12</td>\n",
              "            <td>-20.933029099</td>\n",
              "            <td>55.446977555</td>\n",
              "        </tr>\n",
              "        <tr>\n",
              "            <td>ST PAUL</td>\n",
              "            <td>10</td>\n",
              "            <td>-21.044520611</td>\n",
              "            <td>55.322330771</td>\n",
              "        </tr>\n",
              "        <tr>\n",
              "            <td>ST PIERRE</td>\n",
              "            <td>6</td>\n",
              "            <td>-21.312265663</td>\n",
              "            <td>55.49381116</td>\n",
              "        </tr>\n",
              "        <tr>\n",
              "            <td>LE TAMPON</td>\n",
              "            <td>5</td>\n",
              "            <td>-21.223167157</td>\n",
              "            <td>55.558552873</td>\n",
              "        </tr>\n",
              "        <tr>\n",
              "            <td>STE MARIE</td>\n",
              "            <td>3</td>\n",
              "            <td>-20.946751887</td>\n",
              "            <td>55.530655328</td>\n",
              "        </tr>\n",
              "    </tbody>\n",
              "</table>"
            ]
          },
          "metadata": {},
          "execution_count": 61
        }
      ]
    },
    {
      "cell_type": "code",
      "source": [
        "%%sql\n",
        "SELECT * FROM ontology_hierarchy_descending\n",
        "LIMIT 5"
      ],
      "metadata": {
        "colab": {
          "base_uri": "https://localhost:8080/",
          "height": 165
        },
        "id": "0RYAIZG7QO7q",
        "outputId": "8fcb0e63-5fce-4d97-ab25-0a7542184870"
      },
      "execution_count": 62,
      "outputs": [
        {
          "output_type": "stream",
          "name": "stdout",
          "text": [
            " * sqlite:///Itineraires.db\n"
          ]
        },
        {
          "output_type": "execute_result",
          "data": {
            "text/plain": [
              "[(0, 'PointOfInterest', 'PlaceOfInterest', 'ActivityProvider', 'CulturalActivityProvider', None),\n",
              " (1, 'PointOfInterest', 'PlaceOfInterest', 'ActivityProvider', 'LeisureSportActivityProvider', None),\n",
              " (2, 'PointOfInterest', 'PlaceOfInterest', 'CulturalSite', 'ArcheologicalSite', 'MegalithDolmenMenhir'),\n",
              " (3, 'PointOfInterest', 'PlaceOfInterest', 'CulturalSite', 'ArcheologicalSite', 'RomanPath'),\n",
              " (4, 'PointOfInterest', 'PlaceOfInterest', 'CulturalSite', 'ArcheologicalSite', 'Ruins')]"
            ],
            "text/html": [
              "<table>\n",
              "    <thead>\n",
              "        <tr>\n",
              "            <th>index</th>\n",
              "            <th>PointOfInterest</th>\n",
              "            <th>PlaceOfInterest</th>\n",
              "            <th>activity0</th>\n",
              "            <th>activity1</th>\n",
              "            <th>activity2</th>\n",
              "        </tr>\n",
              "    </thead>\n",
              "    <tbody>\n",
              "        <tr>\n",
              "            <td>0</td>\n",
              "            <td>PointOfInterest</td>\n",
              "            <td>PlaceOfInterest</td>\n",
              "            <td>ActivityProvider</td>\n",
              "            <td>CulturalActivityProvider</td>\n",
              "            <td>None</td>\n",
              "        </tr>\n",
              "        <tr>\n",
              "            <td>1</td>\n",
              "            <td>PointOfInterest</td>\n",
              "            <td>PlaceOfInterest</td>\n",
              "            <td>ActivityProvider</td>\n",
              "            <td>LeisureSportActivityProvider</td>\n",
              "            <td>None</td>\n",
              "        </tr>\n",
              "        <tr>\n",
              "            <td>2</td>\n",
              "            <td>PointOfInterest</td>\n",
              "            <td>PlaceOfInterest</td>\n",
              "            <td>CulturalSite</td>\n",
              "            <td>ArcheologicalSite</td>\n",
              "            <td>MegalithDolmenMenhir</td>\n",
              "        </tr>\n",
              "        <tr>\n",
              "            <td>3</td>\n",
              "            <td>PointOfInterest</td>\n",
              "            <td>PlaceOfInterest</td>\n",
              "            <td>CulturalSite</td>\n",
              "            <td>ArcheologicalSite</td>\n",
              "            <td>RomanPath</td>\n",
              "        </tr>\n",
              "        <tr>\n",
              "            <td>4</td>\n",
              "            <td>PointOfInterest</td>\n",
              "            <td>PlaceOfInterest</td>\n",
              "            <td>CulturalSite</td>\n",
              "            <td>ArcheologicalSite</td>\n",
              "            <td>Ruins</td>\n",
              "        </tr>\n",
              "    </tbody>\n",
              "</table>"
            ]
          },
          "metadata": {},
          "execution_count": 62
        }
      ]
    },
    {
      "cell_type": "code",
      "source": [
        "%%sql\n",
        "SELECT class, subclass  \n",
        "FROM activity_subclass_class_relations\n",
        "LIMIT 5"
      ],
      "metadata": {
        "colab": {
          "base_uri": "https://localhost:8080/",
          "height": 165
        },
        "id": "CEPhEcFRQfGR",
        "outputId": "52048aa2-3f6e-4534-cc3a-9e3d7e5092af"
      },
      "execution_count": 63,
      "outputs": [
        {
          "output_type": "stream",
          "name": "stdout",
          "text": [
            " * sqlite:///Itineraires.db\n"
          ]
        },
        {
          "output_type": "execute_result",
          "data": {
            "text/plain": [
              "[('ReligiousSite', 'Abbey'),\n",
              " ('PlaceOfInterest', 'ActivityProvider'),\n",
              " ('Transport', 'Airfield'),\n",
              " ('Transport', 'Airport'),\n",
              " ('NaturalHeritage', 'AlpinePasture')]"
            ],
            "text/html": [
              "<table>\n",
              "    <thead>\n",
              "        <tr>\n",
              "            <th>class</th>\n",
              "            <th>subclass</th>\n",
              "        </tr>\n",
              "    </thead>\n",
              "    <tbody>\n",
              "        <tr>\n",
              "            <td>ReligiousSite</td>\n",
              "            <td>Abbey</td>\n",
              "        </tr>\n",
              "        <tr>\n",
              "            <td>PlaceOfInterest</td>\n",
              "            <td>ActivityProvider</td>\n",
              "        </tr>\n",
              "        <tr>\n",
              "            <td>Transport</td>\n",
              "            <td>Airfield</td>\n",
              "        </tr>\n",
              "        <tr>\n",
              "            <td>Transport</td>\n",
              "            <td>Airport</td>\n",
              "        </tr>\n",
              "        <tr>\n",
              "            <td>NaturalHeritage</td>\n",
              "            <td>AlpinePasture</td>\n",
              "        </tr>\n",
              "    </tbody>\n",
              "</table>"
            ]
          },
          "metadata": {},
          "execution_count": 63
        }
      ]
    },
    {
      "cell_type": "code",
      "source": [
        "%%sql\n",
        "SELECT activity_name \n",
        "FROM activity_hierarchy\n",
        "WHERE activity_to =\n",
        "(SELECT activity_id \n",
        "FROM activity_hierarchy\n",
        "WHERE activity_name = 'CulturalSite')\n"
      ],
      "metadata": {
        "colab": {
          "base_uri": "https://localhost:8080/",
          "height": 294
        },
        "id": "YDZux0O2BR0n",
        "outputId": "e52c3205-9cfc-4bb3-f64e-a054ae55dc0a"
      },
      "execution_count": 64,
      "outputs": [
        {
          "output_type": "stream",
          "name": "stdout",
          "text": [
            " * sqlite:///Itineraires.db\n"
          ]
        },
        {
          "output_type": "execute_result",
          "data": {
            "text/plain": [
              "[('ArcheologicalSite',),\n",
              " ('CityHeritage',),\n",
              " ('DefenceSite',),\n",
              " ('InterpretationCentre',),\n",
              " ('Library',),\n",
              " ('Museum',),\n",
              " ('ParkAndGarden',),\n",
              " ('ReligiousSite',),\n",
              " ('RemarkableBuilding',),\n",
              " ('RemembranceSite',),\n",
              " ('TechnicalHeritage',)]"
            ],
            "text/html": [
              "<table>\n",
              "    <thead>\n",
              "        <tr>\n",
              "            <th>activity_name</th>\n",
              "        </tr>\n",
              "    </thead>\n",
              "    <tbody>\n",
              "        <tr>\n",
              "            <td>ArcheologicalSite</td>\n",
              "        </tr>\n",
              "        <tr>\n",
              "            <td>CityHeritage</td>\n",
              "        </tr>\n",
              "        <tr>\n",
              "            <td>DefenceSite</td>\n",
              "        </tr>\n",
              "        <tr>\n",
              "            <td>InterpretationCentre</td>\n",
              "        </tr>\n",
              "        <tr>\n",
              "            <td>Library</td>\n",
              "        </tr>\n",
              "        <tr>\n",
              "            <td>Museum</td>\n",
              "        </tr>\n",
              "        <tr>\n",
              "            <td>ParkAndGarden</td>\n",
              "        </tr>\n",
              "        <tr>\n",
              "            <td>ReligiousSite</td>\n",
              "        </tr>\n",
              "        <tr>\n",
              "            <td>RemarkableBuilding</td>\n",
              "        </tr>\n",
              "        <tr>\n",
              "            <td>RemembranceSite</td>\n",
              "        </tr>\n",
              "        <tr>\n",
              "            <td>TechnicalHeritage</td>\n",
              "        </tr>\n",
              "    </tbody>\n",
              "</table>"
            ]
          },
          "metadata": {},
          "execution_count": 64
        }
      ]
    },
    {
      "cell_type": "code",
      "source": [
        "%%sql\n",
        "SELECT category_1, COUNT(category_1)\n",
        "FROM poi_reunion_clean\n",
        "WHERE category_0 = 'CulturalSite'\n",
        "GROUP BY category_1\n",
        "LIMIT 5;"
      ],
      "metadata": {
        "colab": {
          "base_uri": "https://localhost:8080/",
          "height": 144
        },
        "id": "m8yJpQM5EdJA",
        "outputId": "c37e3882-03d6-4ee6-bbf0-59f311886eb9"
      },
      "execution_count": 65,
      "outputs": [
        {
          "output_type": "stream",
          "name": "stdout",
          "text": [
            " * sqlite:///Itineraires.db\n"
          ]
        },
        {
          "output_type": "execute_result",
          "data": {
            "text/plain": [
              "[(None, 0),\n",
              " ('ReligiousSite', 9),\n",
              " ('RemarkableBuilding', 1),\n",
              " ('TechnicalHeritage', 33)]"
            ],
            "text/html": [
              "<table>\n",
              "    <thead>\n",
              "        <tr>\n",
              "            <th>category_1</th>\n",
              "            <th>COUNT(category_1)</th>\n",
              "        </tr>\n",
              "    </thead>\n",
              "    <tbody>\n",
              "        <tr>\n",
              "            <td>None</td>\n",
              "            <td>0</td>\n",
              "        </tr>\n",
              "        <tr>\n",
              "            <td>ReligiousSite</td>\n",
              "            <td>9</td>\n",
              "        </tr>\n",
              "        <tr>\n",
              "            <td>RemarkableBuilding</td>\n",
              "            <td>1</td>\n",
              "        </tr>\n",
              "        <tr>\n",
              "            <td>TechnicalHeritage</td>\n",
              "            <td>33</td>\n",
              "        </tr>\n",
              "    </tbody>\n",
              "</table>"
            ]
          },
          "metadata": {},
          "execution_count": 65
        }
      ]
    },
    {
      "cell_type": "code",
      "source": [
        "# Résultat de la requête dans un DF\n",
        "# activity_CulturalSite = _\n",
        "# display(activity_CulturalSite)\n",
        "%%sql\n",
        "result << SELECT Nom_du_POI, commune, code_postal, Latitude, Longitude, category_1\n",
        "FROM poi_reunion_clean\n",
        "WHERE category_1 IN\n",
        "(\n",
        "  SELECT activity_name \n",
        "FROM activity_hierarchy\n",
        "WHERE activity_to =\n",
        "(SELECT activity_id \n",
        "FROM activity_hierarchy\n",
        "WHERE activity_name = 'CulturalSite')\n",
        ")\n",
        "ORDER BY 3;"
      ],
      "metadata": {
        "colab": {
          "base_uri": "https://localhost:8080/"
        },
        "id": "VZxgRhp1DuyK",
        "outputId": "5d438bb8-07ca-4927-f3a8-09083274347a"
      },
      "execution_count": 171,
      "outputs": [
        {
          "output_type": "stream",
          "name": "stdout",
          "text": [
            " * sqlite:///Itineraires.db\n",
            "Returning data to local variable result\n"
          ]
        }
      ]
    },
    {
      "cell_type": "code",
      "source": [
        "print(result)"
      ],
      "metadata": {
        "colab": {
          "base_uri": "https://localhost:8080/"
        },
        "id": "c_4w33ShrPHh",
        "outputId": "463c8b68-7b6f-4c35-a931-227530e23ed7"
      },
      "execution_count": 174,
      "outputs": [
        {
          "output_type": "stream",
          "name": "stdout",
          "text": [
            "+-----------------------------------------------------------------+-------------------------+-------------+--------------+-------------+--------------------+\n",
            "|                            Nom_du_POI                           |         commune         | code_postal |   Latitude   |  Longitude  |     category_1     |\n",
            "+-----------------------------------------------------------------+-------------------------+-------------+--------------+-------------+--------------------+\n",
            "|                        Temple Kali Kampal                       |       Saint-Denis       |    97400    |  -20.880661  |  55.458077  |   ReligiousSite    |\n",
            "|                      Cathédrale Saint-Denis                     |       Saint-Denis       |    97400    |  -20.877163  |  55.448789  |   ReligiousSite    |\n",
            "|                       Mosquée Noor-e-Islam                      |       Saint-Denis       |    97400    |  -20.879185  |  55.452474  |   ReligiousSite    |\n",
            "|                        Saga du Rhum (La)                        |       Saint-Pierre      |    97410    |  -21.312109  |  55.465557  | TechnicalHeritage  |\n",
            "|                     Rhums et Punchs Isautier                    |       Saint-Pierre      |    97410    |  -21.320276  |  55.474025  | TechnicalHeritage  |\n",
            "|                     Charrette de Baster (La)                    |       Saint-Pierre      |    97410    |  -21.325298  |  55.484798  | TechnicalHeritage  |\n",
            "|                   Coopérative Provanille (La)                   |        Bras-Panon       |    97412    |  -21.000724  |  55.687307  | TechnicalHeritage  |\n",
            "|                       Chai de Cilaos (Le)                       |          Cilaos         |    97413    |  -21.134936  |   55.47241  | TechnicalHeritage  |\n",
            "|                              Edena                              |      La Possession      |    97419    |  -20.962967  |  55.321357  | TechnicalHeritage  |\n",
            "|                         Atelier Mascarin                        |         Le Port         |    97420    |  -20.949323  |  55.288668  | TechnicalHeritage  |\n",
            "|                      Galvanisation Réunion                      |         Le Port         |    97420    |  -20.931438  |  55.290552  | TechnicalHeritage  |\n",
            "|                 Part des Anges Distillation (La)                |        Saint-Paul       |    97422    |  -21.07987   |  55.272865  | TechnicalHeritage  |\n",
            "|                     Maison du Géranium (La)                     |        Saint-Paul       |    97423    |  -21.050558  |  55.352149  | TechnicalHeritage  |\n",
            "|                    Ferme du Piton Rouge (La)                    |       Les Avirons       |    97425    |  -21.238314  |  55.342359  | TechnicalHeritage  |\n",
            "|                            Crête D'or                           |       L'Étang-Salé      |    97427    |  -21.277105  |  55.373238  | TechnicalHeritage  |\n",
            "|                     Maison de l'Abeille (La)                    |        Petite-Île       |    97429    | -21.35991853 | 55.56013895 | TechnicalHeritage  |\n",
            "|                       Ferme Auberge Dy-Na                       |        Petite-Île       |    97429    |  -21.339637  |  55.587062  | TechnicalHeritage  |\n",
            "| Coopérative Agricole des Huiles Essentielles de Bourbon - CAHEB |        Le Tampon        |    97430    |  -21.287056  |  55.520454  | TechnicalHeritage  |\n",
            "|     Au Coeur de la Cascade Biberon - Cueillette de Goyaviers    | La Plaine-des-Palmistes |    97431    |  -21.126268  |  55.627094  | TechnicalHeritage  |\n",
            "|             Verger Delatre - Cueillette de Goyavier             | La Plaine-des-Palmistes |    97431    | -21.13170728 | 55.61492483 | TechnicalHeritage  |\n",
            "|   Place de la Mairie et de l'Eglise Notre Dame de l'Assomption  |         Salazie         |    97433    |  -21.028035  |  55.539164  |   ReligiousSite    |\n",
            "|                         Chapelle Pointue                        |        Saint-Paul       |    97435    |  -21.055922  |   55.26375  |   ReligiousSite    |\n",
            "|                     Fontaine Aromatique (La)                    |        Saint-Leu        |    97436    |  -21.157974  |  55.297404  | TechnicalHeritage  |\n",
            "|                             AVPPHSM                             |       Saint-Benoît      |    97437    |  -21.094911  |  55.696433  | TechnicalHeritage  |\n",
            "|                      Eglise de Sainte-Anne                      |       Saint-Benoît      |    97437    |  -21.08012   |  55.742847  |   ReligiousSite    |\n",
            "|                       Domaine de Coco (Le)                      |       Saint-Benoît      |    97437    |  -21.081206  |  55.719019  | TechnicalHeritage  |\n",
            "|                    Plantation Vanilla Bourbon                   |       Sainte-Rose       |    97439    |   -21.1317   |   55.7779   | TechnicalHeritage  |\n",
            "|                      Vanille des Laves (La)                     |       Sainte-Rose       |    97439    |  -21.198249  |  55.819757  | TechnicalHeritage  |\n",
            "|                       Notre Dame des Laves                      |       Sainte-Rose       |    97439    |  -21.160573  |  55.824108  |   ReligiousSite    |\n",
            "|               Pont suspendu de la Rivière de l'Est              |       Sainte-Rose       |    97439    |  -21.123006  |  55.746848  | RemarkableBuilding |\n",
            "|               Jardin des Mille et une Saveurs (Le)              |       Saint-André       |    97440    |  -20.966579  |  55.689321  | TechnicalHeritage  |\n",
            "|         Distillerie de Savanna et Sucrerie de Bois Rouge        |       Saint-André       |    97440    | -20.91596959 |  55.6378762 | TechnicalHeritage  |\n",
            "|                        Temple du Colosse                        |       Saint-André       |    97440    |  -20.936403  |  55.671817  |   ReligiousSite    |\n",
            "|                      Temple du Petit Bazar                      |       Saint-André       |    97440    |  -20.94859   |  55.648538  |   ReligiousSite    |\n",
            "|                 Plantation de la Vanille Roulof                 |       Saint-André       |    97440    |    -20.95    |    55.653   | TechnicalHeritage  |\n",
            "|                         Vanilleraie (La)                        |      Sainte-Suzanne     |    97441    | -20.90451225 | 55.58860344 | TechnicalHeritage  |\n",
            "|                       Vanille 100% Réunion                      |      Saint-Philippe     |    97442    |  -21.369393  |  55.726152  | TechnicalHeritage  |\n",
            "|                       Sucrerie du Gol (La)                      |       Saint-Louis       |    97450    | -21.27878288 |  55.3972088 | TechnicalHeritage  |\n",
            "|                             Sorébra                             |       Saint-Louis       |    97450    |  -21.291131  |  55.396338  | TechnicalHeritage  |\n",
            "|                      Maison du Laurina (La)                     |       Saint-Joseph      |    97480    |  -21.297456  |  55.631174  | TechnicalHeritage  |\n",
            "|                        Far Far de Bézaves                       |       Saint-Joseph      |    97480    | -21.35326414 | 55.61309405 | TechnicalHeritage  |\n",
            "|                   Labyrinthe en Champ Thé (Le)                  |       Saint-Joseph      |    97480    |  -21.297089  |  55.637855  | TechnicalHeritage  |\n",
            "|                         Jardin de Vandas                        |       Saint-Joseph      |    97480    |  -21.378103  |  55.606516  | TechnicalHeritage  |\n",
            "+-----------------------------------------------------------------+-------------------------+-------------+--------------+-------------+--------------------+\n"
          ]
        }
      ]
    },
    {
      "cell_type": "code",
      "source": [
        "result.csv('/content/drive/MyDrive/CSV4DB/result.csv')"
      ],
      "metadata": {
        "colab": {
          "base_uri": "https://localhost:8080/",
          "height": 34
        },
        "id": "GryyJ9f5rr3A",
        "outputId": "908c3456-9b10-4fb2-854d-6a9a899d5d88"
      },
      "execution_count": 175,
      "outputs": [
        {
          "output_type": "execute_result",
          "data": {
            "text/plain": [
              "CSV results at /content/drive/MyDrive/CSV4DB/result.csv"
            ],
            "text/html": [
              "<a href=\"/content/drive/MyDrive/CSV4DB/result.csv\">CSV results</a>"
            ]
          },
          "metadata": {},
          "execution_count": 175
        }
      ]
    },
    {
      "cell_type": "code",
      "source": [
        "result = pd.read_csv('/content/drive/MyDrive/CSV4DB/result.csv')\n",
        "result"
      ],
      "metadata": {
        "colab": {
          "base_uri": "https://localhost:8080/",
          "height": 207
        },
        "id": "Xlb6reG9ry-c",
        "outputId": "df1e6acf-7daa-4690-f87d-d846e5a2d065"
      },
      "execution_count": 186,
      "outputs": [
        {
          "output_type": "execute_result",
          "data": {
            "text/plain": [
              "                 Nom_du_POI       commune  code_postal    POI_Lat   POI_Long  \\\n",
              "0        Temple Kali Kampal   Saint-Denis        97400 -20.880661  55.458077   \n",
              "1    Cathédrale Saint-Denis   Saint-Denis        97400 -20.877163  55.448789   \n",
              "2      Mosquée Noor-e-Islam   Saint-Denis        97400 -20.879185  55.452474   \n",
              "3         Saga du Rhum (La)  Saint-Pierre        97410 -21.312109  55.465557   \n",
              "4  Rhums et Punchs Isautier  Saint-Pierre        97410 -21.320276  55.474025   \n",
              "\n",
              "          category_1  \n",
              "0      ReligiousSite  \n",
              "1      ReligiousSite  \n",
              "2      ReligiousSite  \n",
              "3  TechnicalHeritage  \n",
              "4  TechnicalHeritage  "
            ],
            "text/html": [
              "\n",
              "  <div id=\"df-4a380102-fd77-42dc-8a41-477a6e399c08\">\n",
              "    <div class=\"colab-df-container\">\n",
              "      <div>\n",
              "<style scoped>\n",
              "    .dataframe tbody tr th:only-of-type {\n",
              "        vertical-align: middle;\n",
              "    }\n",
              "\n",
              "    .dataframe tbody tr th {\n",
              "        vertical-align: top;\n",
              "    }\n",
              "\n",
              "    .dataframe thead th {\n",
              "        text-align: right;\n",
              "    }\n",
              "</style>\n",
              "<table border=\"1\" class=\"dataframe\">\n",
              "  <thead>\n",
              "    <tr style=\"text-align: right;\">\n",
              "      <th></th>\n",
              "      <th>Nom_du_POI</th>\n",
              "      <th>commune</th>\n",
              "      <th>code_postal</th>\n",
              "      <th>POI_Lat</th>\n",
              "      <th>POI_Long</th>\n",
              "      <th>category_1</th>\n",
              "    </tr>\n",
              "  </thead>\n",
              "  <tbody>\n",
              "    <tr>\n",
              "      <th>0</th>\n",
              "      <td>Temple Kali Kampal</td>\n",
              "      <td>Saint-Denis</td>\n",
              "      <td>97400</td>\n",
              "      <td>-20.880661</td>\n",
              "      <td>55.458077</td>\n",
              "      <td>ReligiousSite</td>\n",
              "    </tr>\n",
              "    <tr>\n",
              "      <th>1</th>\n",
              "      <td>Cathédrale Saint-Denis</td>\n",
              "      <td>Saint-Denis</td>\n",
              "      <td>97400</td>\n",
              "      <td>-20.877163</td>\n",
              "      <td>55.448789</td>\n",
              "      <td>ReligiousSite</td>\n",
              "    </tr>\n",
              "    <tr>\n",
              "      <th>2</th>\n",
              "      <td>Mosquée Noor-e-Islam</td>\n",
              "      <td>Saint-Denis</td>\n",
              "      <td>97400</td>\n",
              "      <td>-20.879185</td>\n",
              "      <td>55.452474</td>\n",
              "      <td>ReligiousSite</td>\n",
              "    </tr>\n",
              "    <tr>\n",
              "      <th>3</th>\n",
              "      <td>Saga du Rhum (La)</td>\n",
              "      <td>Saint-Pierre</td>\n",
              "      <td>97410</td>\n",
              "      <td>-21.312109</td>\n",
              "      <td>55.465557</td>\n",
              "      <td>TechnicalHeritage</td>\n",
              "    </tr>\n",
              "    <tr>\n",
              "      <th>4</th>\n",
              "      <td>Rhums et Punchs Isautier</td>\n",
              "      <td>Saint-Pierre</td>\n",
              "      <td>97410</td>\n",
              "      <td>-21.320276</td>\n",
              "      <td>55.474025</td>\n",
              "      <td>TechnicalHeritage</td>\n",
              "    </tr>\n",
              "  </tbody>\n",
              "</table>\n",
              "</div>\n",
              "      <button class=\"colab-df-convert\" onclick=\"convertToInteractive('df-4a380102-fd77-42dc-8a41-477a6e399c08')\"\n",
              "              title=\"Convert this dataframe to an interactive table.\"\n",
              "              style=\"display:none;\">\n",
              "        \n",
              "  <svg xmlns=\"http://www.w3.org/2000/svg\" height=\"24px\"viewBox=\"0 0 24 24\"\n",
              "       width=\"24px\">\n",
              "    <path d=\"M0 0h24v24H0V0z\" fill=\"none\"/>\n",
              "    <path d=\"M18.56 5.44l.94 2.06.94-2.06 2.06-.94-2.06-.94-.94-2.06-.94 2.06-2.06.94zm-11 1L8.5 8.5l.94-2.06 2.06-.94-2.06-.94L8.5 2.5l-.94 2.06-2.06.94zm10 10l.94 2.06.94-2.06 2.06-.94-2.06-.94-.94-2.06-.94 2.06-2.06.94z\"/><path d=\"M17.41 7.96l-1.37-1.37c-.4-.4-.92-.59-1.43-.59-.52 0-1.04.2-1.43.59L10.3 9.45l-7.72 7.72c-.78.78-.78 2.05 0 2.83L4 21.41c.39.39.9.59 1.41.59.51 0 1.02-.2 1.41-.59l7.78-7.78 2.81-2.81c.8-.78.8-2.07 0-2.86zM5.41 20L4 18.59l7.72-7.72 1.47 1.35L5.41 20z\"/>\n",
              "  </svg>\n",
              "      </button>\n",
              "      \n",
              "  <style>\n",
              "    .colab-df-container {\n",
              "      display:flex;\n",
              "      flex-wrap:wrap;\n",
              "      gap: 12px;\n",
              "    }\n",
              "\n",
              "    .colab-df-convert {\n",
              "      background-color: #E8F0FE;\n",
              "      border: none;\n",
              "      border-radius: 50%;\n",
              "      cursor: pointer;\n",
              "      display: none;\n",
              "      fill: #1967D2;\n",
              "      height: 32px;\n",
              "      padding: 0 0 0 0;\n",
              "      width: 32px;\n",
              "    }\n",
              "\n",
              "    .colab-df-convert:hover {\n",
              "      background-color: #E2EBFA;\n",
              "      box-shadow: 0px 1px 2px rgba(60, 64, 67, 0.3), 0px 1px 3px 1px rgba(60, 64, 67, 0.15);\n",
              "      fill: #174EA6;\n",
              "    }\n",
              "\n",
              "    [theme=dark] .colab-df-convert {\n",
              "      background-color: #3B4455;\n",
              "      fill: #D2E3FC;\n",
              "    }\n",
              "\n",
              "    [theme=dark] .colab-df-convert:hover {\n",
              "      background-color: #434B5C;\n",
              "      box-shadow: 0px 1px 3px 1px rgba(0, 0, 0, 0.15);\n",
              "      filter: drop-shadow(0px 1px 2px rgba(0, 0, 0, 0.3));\n",
              "      fill: #FFFFFF;\n",
              "    }\n",
              "  </style>\n",
              "\n",
              "      <script>\n",
              "        const buttonEl =\n",
              "          document.querySelector('#df-4a380102-fd77-42dc-8a41-477a6e399c08 button.colab-df-convert');\n",
              "        buttonEl.style.display =\n",
              "          google.colab.kernel.accessAllowed ? 'block' : 'none';\n",
              "\n",
              "        async function convertToInteractive(key) {\n",
              "          const element = document.querySelector('#df-4a380102-fd77-42dc-8a41-477a6e399c08');\n",
              "          const dataTable =\n",
              "            await google.colab.kernel.invokeFunction('convertToInteractive',\n",
              "                                                     [key], {});\n",
              "          if (!dataTable) return;\n",
              "\n",
              "          const docLinkHtml = 'Like what you see? Visit the ' +\n",
              "            '<a target=\"_blank\" href=https://colab.research.google.com/notebooks/data_table.ipynb>data table notebook</a>'\n",
              "            + ' to learn more about interactive tables.';\n",
              "          element.innerHTML = '';\n",
              "          dataTable['output_type'] = 'display_data';\n",
              "          await google.colab.output.renderOutput(dataTable, element);\n",
              "          const docLink = document.createElement('div');\n",
              "          docLink.innerHTML = docLinkHtml;\n",
              "          element.appendChild(docLink);\n",
              "        }\n",
              "      </script>\n",
              "    </div>\n",
              "  </div>\n",
              "  "
            ]
          },
          "metadata": {},
          "execution_count": 186
        }
      ]
    },
    {
      "cell_type": "code",
      "source": [
        "# COnversion des coordonnées géographiques\n",
        "gdf = gdp.GeoDataFrame(\n",
        "    result, geometry=gdp.points_from_xy(result.Longitude, result.Latitude))"
      ],
      "metadata": {
        "id": "h4_iVNJzsLqh"
      },
      "execution_count": 179,
      "outputs": []
    },
    {
      "cell_type": "code",
      "source": [
        "# Polygones des départements français\n",
        "import zipfile\n",
        "import requests\n",
        "\n",
        "# A partir de l'url :\n",
        "url_dep = \"http://osm13.openstreetmap.fr/~cquest/openfla/export/departements-20180101-shp.zip\"\n",
        "\n",
        "file_dep = \"departements-20180101-shp.zip\"\n",
        "\n",
        "r = requests.get(url_dep)\n",
        "\n",
        "open(file_dep, 'wb').write(r.content)\n",
        "\n",
        "with zipfile.ZipFile(file_dep, 'r') as unzip: unzip.extractall(\"dep.shp\")\n",
        "\n",
        "dep = gpd.read_file(\"dep.shp\")\n",
        "\n",
        "# dep.head()"
      ],
      "metadata": {
        "colab": {
          "base_uri": "https://localhost:8080/",
          "height": 207
        },
        "id": "emJpVsesqAt7",
        "outputId": "cabd2136-300f-42fb-c7b7-986199c2d41b"
      },
      "execution_count": 196,
      "outputs": [
        {
          "output_type": "execute_result",
          "data": {
            "text/plain": [
              "  code_insee               nom  nuts3              wikipedia  surf_km2  \\\n",
              "0        974        La Réunion  FR940          fr:La Réunion    2505.0   \n",
              "1         11              Aude  FR811  fr:Aude (département)    6343.0   \n",
              "2         43       Haute-Loire  FR723         fr:Haute-Loire    5003.0   \n",
              "3         13  Bouches-du-Rhône  FR823    fr:Bouches-du-Rhône    5247.0   \n",
              "4         47    Lot-et-Garonne  FR614      fr:Lot-et-Garonne    5385.0   \n",
              "\n",
              "                                            geometry  \n",
              "0  MULTIPOLYGON (((55.21643 -21.03904, 55.21652 -...  \n",
              "1  POLYGON ((1.68872 43.27368, 1.69001 43.27423, ...  \n",
              "2  POLYGON ((3.08206 45.28988, 3.08209 45.29031, ...  \n",
              "3  MULTIPOLYGON (((4.23014 43.46047, 4.23025 43.4...  \n",
              "4  POLYGON ((-0.14058 44.22648, -0.12931 44.23218...  "
            ],
            "text/html": [
              "\n",
              "  <div id=\"df-01f84336-6dc3-4ccd-8282-631a970afe44\">\n",
              "    <div class=\"colab-df-container\">\n",
              "      <div>\n",
              "<style scoped>\n",
              "    .dataframe tbody tr th:only-of-type {\n",
              "        vertical-align: middle;\n",
              "    }\n",
              "\n",
              "    .dataframe tbody tr th {\n",
              "        vertical-align: top;\n",
              "    }\n",
              "\n",
              "    .dataframe thead th {\n",
              "        text-align: right;\n",
              "    }\n",
              "</style>\n",
              "<table border=\"1\" class=\"dataframe\">\n",
              "  <thead>\n",
              "    <tr style=\"text-align: right;\">\n",
              "      <th></th>\n",
              "      <th>code_insee</th>\n",
              "      <th>nom</th>\n",
              "      <th>nuts3</th>\n",
              "      <th>wikipedia</th>\n",
              "      <th>surf_km2</th>\n",
              "      <th>geometry</th>\n",
              "    </tr>\n",
              "  </thead>\n",
              "  <tbody>\n",
              "    <tr>\n",
              "      <th>0</th>\n",
              "      <td>974</td>\n",
              "      <td>La Réunion</td>\n",
              "      <td>FR940</td>\n",
              "      <td>fr:La Réunion</td>\n",
              "      <td>2505.0</td>\n",
              "      <td>MULTIPOLYGON (((55.21643 -21.03904, 55.21652 -...</td>\n",
              "    </tr>\n",
              "    <tr>\n",
              "      <th>1</th>\n",
              "      <td>11</td>\n",
              "      <td>Aude</td>\n",
              "      <td>FR811</td>\n",
              "      <td>fr:Aude (département)</td>\n",
              "      <td>6343.0</td>\n",
              "      <td>POLYGON ((1.68872 43.27368, 1.69001 43.27423, ...</td>\n",
              "    </tr>\n",
              "    <tr>\n",
              "      <th>2</th>\n",
              "      <td>43</td>\n",
              "      <td>Haute-Loire</td>\n",
              "      <td>FR723</td>\n",
              "      <td>fr:Haute-Loire</td>\n",
              "      <td>5003.0</td>\n",
              "      <td>POLYGON ((3.08206 45.28988, 3.08209 45.29031, ...</td>\n",
              "    </tr>\n",
              "    <tr>\n",
              "      <th>3</th>\n",
              "      <td>13</td>\n",
              "      <td>Bouches-du-Rhône</td>\n",
              "      <td>FR823</td>\n",
              "      <td>fr:Bouches-du-Rhône</td>\n",
              "      <td>5247.0</td>\n",
              "      <td>MULTIPOLYGON (((4.23014 43.46047, 4.23025 43.4...</td>\n",
              "    </tr>\n",
              "    <tr>\n",
              "      <th>4</th>\n",
              "      <td>47</td>\n",
              "      <td>Lot-et-Garonne</td>\n",
              "      <td>FR614</td>\n",
              "      <td>fr:Lot-et-Garonne</td>\n",
              "      <td>5385.0</td>\n",
              "      <td>POLYGON ((-0.14058 44.22648, -0.12931 44.23218...</td>\n",
              "    </tr>\n",
              "  </tbody>\n",
              "</table>\n",
              "</div>\n",
              "      <button class=\"colab-df-convert\" onclick=\"convertToInteractive('df-01f84336-6dc3-4ccd-8282-631a970afe44')\"\n",
              "              title=\"Convert this dataframe to an interactive table.\"\n",
              "              style=\"display:none;\">\n",
              "        \n",
              "  <svg xmlns=\"http://www.w3.org/2000/svg\" height=\"24px\"viewBox=\"0 0 24 24\"\n",
              "       width=\"24px\">\n",
              "    <path d=\"M0 0h24v24H0V0z\" fill=\"none\"/>\n",
              "    <path d=\"M18.56 5.44l.94 2.06.94-2.06 2.06-.94-2.06-.94-.94-2.06-.94 2.06-2.06.94zm-11 1L8.5 8.5l.94-2.06 2.06-.94-2.06-.94L8.5 2.5l-.94 2.06-2.06.94zm10 10l.94 2.06.94-2.06 2.06-.94-2.06-.94-.94-2.06-.94 2.06-2.06.94z\"/><path d=\"M17.41 7.96l-1.37-1.37c-.4-.4-.92-.59-1.43-.59-.52 0-1.04.2-1.43.59L10.3 9.45l-7.72 7.72c-.78.78-.78 2.05 0 2.83L4 21.41c.39.39.9.59 1.41.59.51 0 1.02-.2 1.41-.59l7.78-7.78 2.81-2.81c.8-.78.8-2.07 0-2.86zM5.41 20L4 18.59l7.72-7.72 1.47 1.35L5.41 20z\"/>\n",
              "  </svg>\n",
              "      </button>\n",
              "      \n",
              "  <style>\n",
              "    .colab-df-container {\n",
              "      display:flex;\n",
              "      flex-wrap:wrap;\n",
              "      gap: 12px;\n",
              "    }\n",
              "\n",
              "    .colab-df-convert {\n",
              "      background-color: #E8F0FE;\n",
              "      border: none;\n",
              "      border-radius: 50%;\n",
              "      cursor: pointer;\n",
              "      display: none;\n",
              "      fill: #1967D2;\n",
              "      height: 32px;\n",
              "      padding: 0 0 0 0;\n",
              "      width: 32px;\n",
              "    }\n",
              "\n",
              "    .colab-df-convert:hover {\n",
              "      background-color: #E2EBFA;\n",
              "      box-shadow: 0px 1px 2px rgba(60, 64, 67, 0.3), 0px 1px 3px 1px rgba(60, 64, 67, 0.15);\n",
              "      fill: #174EA6;\n",
              "    }\n",
              "\n",
              "    [theme=dark] .colab-df-convert {\n",
              "      background-color: #3B4455;\n",
              "      fill: #D2E3FC;\n",
              "    }\n",
              "\n",
              "    [theme=dark] .colab-df-convert:hover {\n",
              "      background-color: #434B5C;\n",
              "      box-shadow: 0px 1px 3px 1px rgba(0, 0, 0, 0.15);\n",
              "      filter: drop-shadow(0px 1px 2px rgba(0, 0, 0, 0.3));\n",
              "      fill: #FFFFFF;\n",
              "    }\n",
              "  </style>\n",
              "\n",
              "      <script>\n",
              "        const buttonEl =\n",
              "          document.querySelector('#df-01f84336-6dc3-4ccd-8282-631a970afe44 button.colab-df-convert');\n",
              "        buttonEl.style.display =\n",
              "          google.colab.kernel.accessAllowed ? 'block' : 'none';\n",
              "\n",
              "        async function convertToInteractive(key) {\n",
              "          const element = document.querySelector('#df-01f84336-6dc3-4ccd-8282-631a970afe44');\n",
              "          const dataTable =\n",
              "            await google.colab.kernel.invokeFunction('convertToInteractive',\n",
              "                                                     [key], {});\n",
              "          if (!dataTable) return;\n",
              "\n",
              "          const docLinkHtml = 'Like what you see? Visit the ' +\n",
              "            '<a target=\"_blank\" href=https://colab.research.google.com/notebooks/data_table.ipynb>data table notebook</a>'\n",
              "            + ' to learn more about interactive tables.';\n",
              "          element.innerHTML = '';\n",
              "          dataTable['output_type'] = 'display_data';\n",
              "          await google.colab.output.renderOutput(dataTable, element);\n",
              "          const docLink = document.createElement('div');\n",
              "          docLink.innerHTML = docLinkHtml;\n",
              "          element.appendChild(docLink);\n",
              "        }\n",
              "      </script>\n",
              "    </div>\n",
              "  </div>\n",
              "  "
            ]
          },
          "metadata": {},
          "execution_count": 196
        }
      ]
    },
    {
      "cell_type": "code",
      "source": [
        "# Visualisation de la localisation\n",
        "fig, ax = plt.subplots(figsize = (10,10))\n",
        "dep[dep.code_insee == '974'].plot(ax=ax,color='white', edgecolor='black')\n",
        "gdf.plot(ax=ax,column=\"category_1\", legend=True)\n",
        "ax.set_title('Ile de La Réunion')"
      ],
      "metadata": {
        "colab": {
          "base_uri": "https://localhost:8080/",
          "height": 548
        },
        "id": "GmnKmEuls3sE",
        "outputId": "3aae08cb-a9a5-4b19-c56e-a0922b9c9a5f"
      },
      "execution_count": 198,
      "outputs": [
        {
          "output_type": "execute_result",
          "data": {
            "text/plain": [
              "Text(0.5, 1.0, 'Ile de La Réunion')"
            ]
          },
          "metadata": {},
          "execution_count": 198
        },
        {
          "output_type": "display_data",
          "data": {
            "text/plain": [
              "<Figure size 720x720 with 1 Axes>"
            ],
            "image/png": "[encoded data removed]"
          },
          "metadata": {
            "needs_background": "light"
          }
        }
      ]
    },
    {
      "cell_type": "code",
      "source": [
        "%%sql\n",
        "SELECT prc.Nom_du_POI, prvc.commune, prvc.code_postal, prc.Latitude \"POI_Lat\", prc.Longitude \"POI_Long\", prc.category_1\n",
        "FROM poi_reunion_clean prc, poi_reunion_ville_cp prvc\n",
        "WHERE prc.code_postal = prvc.code_postal\n",
        "AND category_1 IN\n",
        "(\n",
        "  SELECT activity_name \n",
        "FROM activity_hierarchy\n",
        "WHERE activity_to =\n",
        "(SELECT activity_id \n",
        "FROM activity_hierarchy\n",
        "WHERE activity_name = 'CulturalSite')\n",
        ")\n",
        "ORDER BY 3\n",
        "LIMIT 5;"
      ],
      "metadata": {
        "colab": {
          "base_uri": "https://localhost:8080/",
          "height": 165
        },
        "id": "QXZZtsgRUq68",
        "outputId": "9ab8cd34-7290-4b6e-c710-f42bbf5bb4a3"
      },
      "execution_count": 110,
      "outputs": [
        {
          "output_type": "stream",
          "name": "stdout",
          "text": [
            " * sqlite:///Itineraires.db\n"
          ]
        },
        {
          "output_type": "execute_result",
          "data": {
            "text/plain": [
              "[('Temple Kali Kampal', 'Saint-Denis', 97400, -20.880661, 55.458077, 'ReligiousSite'),\n",
              " ('Cathédrale Saint-Denis', 'Saint-Denis', 97400, -20.877163, 55.448789, 'ReligiousSite'),\n",
              " ('Mosquée Noor-e-Islam', 'Saint-Denis', 97400, -20.879185, 55.452474, 'ReligiousSite'),\n",
              " ('Saga du Rhum (La)', 'Saint-Pierre', 97410, -21.312109, 55.465557, 'TechnicalHeritage'),\n",
              " ('Rhums et Punchs Isautier', 'Saint-Pierre', 97410, -21.320276, 55.474025, 'TechnicalHeritage')]"
            ],
            "text/html": [
              "<table>\n",
              "    <thead>\n",
              "        <tr>\n",
              "            <th>Nom_du_POI</th>\n",
              "            <th>commune</th>\n",
              "            <th>code_postal</th>\n",
              "            <th>POI_Lat</th>\n",
              "            <th>POI_Long</th>\n",
              "            <th>category_1</th>\n",
              "        </tr>\n",
              "    </thead>\n",
              "    <tbody>\n",
              "        <tr>\n",
              "            <td>Temple Kali Kampal</td>\n",
              "            <td>Saint-Denis</td>\n",
              "            <td>97400</td>\n",
              "            <td>-20.880661</td>\n",
              "            <td>55.458077</td>\n",
              "            <td>ReligiousSite</td>\n",
              "        </tr>\n",
              "        <tr>\n",
              "            <td>Cathédrale Saint-Denis</td>\n",
              "            <td>Saint-Denis</td>\n",
              "            <td>97400</td>\n",
              "            <td>-20.877163</td>\n",
              "            <td>55.448789</td>\n",
              "            <td>ReligiousSite</td>\n",
              "        </tr>\n",
              "        <tr>\n",
              "            <td>Mosquée Noor-e-Islam</td>\n",
              "            <td>Saint-Denis</td>\n",
              "            <td>97400</td>\n",
              "            <td>-20.879185</td>\n",
              "            <td>55.452474</td>\n",
              "            <td>ReligiousSite</td>\n",
              "        </tr>\n",
              "        <tr>\n",
              "            <td>Saga du Rhum (La)</td>\n",
              "            <td>Saint-Pierre</td>\n",
              "            <td>97410</td>\n",
              "            <td>-21.312109</td>\n",
              "            <td>55.465557</td>\n",
              "            <td>TechnicalHeritage</td>\n",
              "        </tr>\n",
              "        <tr>\n",
              "            <td>Rhums et Punchs Isautier</td>\n",
              "            <td>Saint-Pierre</td>\n",
              "            <td>97410</td>\n",
              "            <td>-21.320276</td>\n",
              "            <td>55.474025</td>\n",
              "            <td>TechnicalHeritage</td>\n",
              "        </tr>\n",
              "    </tbody>\n",
              "</table>"
            ]
          },
          "metadata": {},
          "execution_count": 110
        }
      ]
    },
    {
      "cell_type": "code",
      "source": [
        "%%sql\n",
        "result <<\n",
        "SELECT prc.Nom_du_POI, prvc.commune, prvc.code_postal, prc.Latitude \"POI_Lat\", prc.Longitude \"POI_Long\", prc.category_1\n",
        "FROM poi_reunion_clean prc, poi_reunion_ville_cp prvc\n",
        "WHERE prc.code_postal = prvc.code_postal\n",
        "AND category_1 IN\n",
        "(\n",
        "  SELECT activity_name \n",
        "FROM activity_hierarchy\n",
        "WHERE activity_to =\n",
        "(SELECT activity_id \n",
        "FROM activity_hierarchy\n",
        "WHERE activity_name = 'CulturalSite')\n",
        ")\n",
        "ORDER BY 3\n",
        "LIMIT 5;"
      ],
      "metadata": {
        "colab": {
          "base_uri": "https://localhost:8080/"
        },
        "id": "Oyy_uU5rGlFY",
        "outputId": "8b2d297b-6791-432c-f965-f3856659a40a"
      },
      "execution_count": 181,
      "outputs": [
        {
          "output_type": "stream",
          "name": "stdout",
          "text": [
            " * sqlite:///Itineraires.db\n",
            "Returning data to local variable result\n"
          ]
        }
      ]
    },
    {
      "cell_type": "code",
      "source": [
        "result.csv('/content/drive/MyDrive/CSV4DB/result.csv')"
      ],
      "metadata": {
        "colab": {
          "base_uri": "https://localhost:8080/",
          "height": 34
        },
        "id": "qC36TuzcNmSs",
        "outputId": "86b46ceb-5184-413f-ea97-17a2606fc48c"
      },
      "execution_count": 182,
      "outputs": [
        {
          "output_type": "execute_result",
          "data": {
            "text/plain": [
              "CSV results at /content/drive/MyDrive/CSV4DB/result.csv"
            ],
            "text/html": [
              "<a href=\"/content/drive/MyDrive/CSV4DB/result.csv\">CSV results</a>"
            ]
          },
          "metadata": {},
          "execution_count": 182
        }
      ]
    },
    {
      "cell_type": "code",
      "source": [
        "result = pd.read_csv('/content/drive/MyDrive/CSV4DB/result.csv')"
      ],
      "metadata": {
        "id": "wyrwqLPyKNqM"
      },
      "execution_count": 123,
      "outputs": []
    },
    {
      "cell_type": "code",
      "source": [
        "gdf = gdp.GeoDataFrame(\n",
        "    activity_CulturalSite_csv, geometry=gdp.points_from_xy(activity_CulturalSite_csv.POI_Long, activity_CulturalSite_csv.POI_Lat))\n"
      ],
      "metadata": {
        "id": "DTsOT_LlIz2d"
      },
      "execution_count": 124,
      "outputs": []
    },
    {
      "cell_type": "code",
      "source": [
        "gdf.head()"
      ],
      "metadata": {
        "colab": {
          "base_uri": "https://localhost:8080/",
          "height": 207
        },
        "id": "i4V6ei0ePBCA",
        "outputId": "c30e3ecd-8c35-47da-9185-a97135664ce5"
      },
      "execution_count": 115,
      "outputs": [
        {
          "output_type": "execute_result",
          "data": {
            "text/plain": [
              "                 Nom_du_POI       commune  code_postal    POI_Lat   POI_Long  \\\n",
              "0        Temple Kali Kampal   Saint-Denis        97400 -20.880661  55.458077   \n",
              "1    Cathédrale Saint-Denis   Saint-Denis        97400 -20.877163  55.448789   \n",
              "2      Mosquée Noor-e-Islam   Saint-Denis        97400 -20.879185  55.452474   \n",
              "3         Saga du Rhum (La)  Saint-Pierre        97410 -21.312109  55.465557   \n",
              "4  Rhums et Punchs Isautier  Saint-Pierre        97410 -21.320276  55.474025   \n",
              "\n",
              "          category_1                    geometry  \n",
              "0      ReligiousSite  POINT (55.45808 -20.88066)  \n",
              "1      ReligiousSite  POINT (55.44879 -20.87716)  \n",
              "2      ReligiousSite  POINT (55.45247 -20.87918)  \n",
              "3  TechnicalHeritage  POINT (55.46556 -21.31211)  \n",
              "4  TechnicalHeritage  POINT (55.47402 -21.32028)  "
            ],
            "text/html": [
              "\n",
              "  <div id=\"df-e637af25-a27a-48d1-ad15-c2bb89e34050\">\n",
              "    <div class=\"colab-df-container\">\n",
              "      <div>\n",
              "<style scoped>\n",
              "    .dataframe tbody tr th:only-of-type {\n",
              "        vertical-align: middle;\n",
              "    }\n",
              "\n",
              "    .dataframe tbody tr th {\n",
              "        vertical-align: top;\n",
              "    }\n",
              "\n",
              "    .dataframe thead th {\n",
              "        text-align: right;\n",
              "    }\n",
              "</style>\n",
              "<table border=\"1\" class=\"dataframe\">\n",
              "  <thead>\n",
              "    <tr style=\"text-align: right;\">\n",
              "      <th></th>\n",
              "      <th>Nom_du_POI</th>\n",
              "      <th>commune</th>\n",
              "      <th>code_postal</th>\n",
              "      <th>POI_Lat</th>\n",
              "      <th>POI_Long</th>\n",
              "      <th>category_1</th>\n",
              "      <th>geometry</th>\n",
              "    </tr>\n",
              "  </thead>\n",
              "  <tbody>\n",
              "    <tr>\n",
              "      <th>0</th>\n",
              "      <td>Temple Kali Kampal</td>\n",
              "      <td>Saint-Denis</td>\n",
              "      <td>97400</td>\n",
              "      <td>-20.880661</td>\n",
              "      <td>55.458077</td>\n",
              "      <td>ReligiousSite</td>\n",
              "      <td>POINT (55.45808 -20.88066)</td>\n",
              "    </tr>\n",
              "    <tr>\n",
              "      <th>1</th>\n",
              "      <td>Cathédrale Saint-Denis</td>\n",
              "      <td>Saint-Denis</td>\n",
              "      <td>97400</td>\n",
              "      <td>-20.877163</td>\n",
              "      <td>55.448789</td>\n",
              "      <td>ReligiousSite</td>\n",
              "      <td>POINT (55.44879 -20.87716)</td>\n",
              "    </tr>\n",
              "    <tr>\n",
              "      <th>2</th>\n",
              "      <td>Mosquée Noor-e-Islam</td>\n",
              "      <td>Saint-Denis</td>\n",
              "      <td>97400</td>\n",
              "      <td>-20.879185</td>\n",
              "      <td>55.452474</td>\n",
              "      <td>ReligiousSite</td>\n",
              "      <td>POINT (55.45247 -20.87918)</td>\n",
              "    </tr>\n",
              "    <tr>\n",
              "      <th>3</th>\n",
              "      <td>Saga du Rhum (La)</td>\n",
              "      <td>Saint-Pierre</td>\n",
              "      <td>97410</td>\n",
              "      <td>-21.312109</td>\n",
              "      <td>55.465557</td>\n",
              "      <td>TechnicalHeritage</td>\n",
              "      <td>POINT (55.46556 -21.31211)</td>\n",
              "    </tr>\n",
              "    <tr>\n",
              "      <th>4</th>\n",
              "      <td>Rhums et Punchs Isautier</td>\n",
              "      <td>Saint-Pierre</td>\n",
              "      <td>97410</td>\n",
              "      <td>-21.320276</td>\n",
              "      <td>55.474025</td>\n",
              "      <td>TechnicalHeritage</td>\n",
              "      <td>POINT (55.47402 -21.32028)</td>\n",
              "    </tr>\n",
              "  </tbody>\n",
              "</table>\n",
              "</div>\n",
              "      <button class=\"colab-df-convert\" onclick=\"convertToInteractive('df-e637af25-a27a-48d1-ad15-c2bb89e34050')\"\n",
              "              title=\"Convert this dataframe to an interactive table.\"\n",
              "              style=\"display:none;\">\n",
              "        \n",
              "  <svg xmlns=\"http://www.w3.org/2000/svg\" height=\"24px\"viewBox=\"0 0 24 24\"\n",
              "       width=\"24px\">\n",
              "    <path d=\"M0 0h24v24H0V0z\" fill=\"none\"/>\n",
              "    <path d=\"M18.56 5.44l.94 2.06.94-2.06 2.06-.94-2.06-.94-.94-2.06-.94 2.06-2.06.94zm-11 1L8.5 8.5l.94-2.06 2.06-.94-2.06-.94L8.5 2.5l-.94 2.06-2.06.94zm10 10l.94 2.06.94-2.06 2.06-.94-2.06-.94-.94-2.06-.94 2.06-2.06.94z\"/><path d=\"M17.41 7.96l-1.37-1.37c-.4-.4-.92-.59-1.43-.59-.52 0-1.04.2-1.43.59L10.3 9.45l-7.72 7.72c-.78.78-.78 2.05 0 2.83L4 21.41c.39.39.9.59 1.41.59.51 0 1.02-.2 1.41-.59l7.78-7.78 2.81-2.81c.8-.78.8-2.07 0-2.86zM5.41 20L4 18.59l7.72-7.72 1.47 1.35L5.41 20z\"/>\n",
              "  </svg>\n",
              "      </button>\n",
              "      \n",
              "  <style>\n",
              "    .colab-df-container {\n",
              "      display:flex;\n",
              "      flex-wrap:wrap;\n",
              "      gap: 12px;\n",
              "    }\n",
              "\n",
              "    .colab-df-convert {\n",
              "      background-color: #E8F0FE;\n",
              "      border: none;\n",
              "      border-radius: 50%;\n",
              "      cursor: pointer;\n",
              "      display: none;\n",
              "      fill: #1967D2;\n",
              "      height: 32px;\n",
              "      padding: 0 0 0 0;\n",
              "      width: 32px;\n",
              "    }\n",
              "\n",
              "    .colab-df-convert:hover {\n",
              "      background-color: #E2EBFA;\n",
              "      box-shadow: 0px 1px 2px rgba(60, 64, 67, 0.3), 0px 1px 3px 1px rgba(60, 64, 67, 0.15);\n",
              "      fill: #174EA6;\n",
              "    }\n",
              "\n",
              "    [theme=dark] .colab-df-convert {\n",
              "      background-color: #3B4455;\n",
              "      fill: #D2E3FC;\n",
              "    }\n",
              "\n",
              "    [theme=dark] .colab-df-convert:hover {\n",
              "      background-color: #434B5C;\n",
              "      box-shadow: 0px 1px 3px 1px rgba(0, 0, 0, 0.15);\n",
              "      filter: drop-shadow(0px 1px 2px rgba(0, 0, 0, 0.3));\n",
              "      fill: #FFFFFF;\n",
              "    }\n",
              "  </style>\n",
              "\n",
              "      <script>\n",
              "        const buttonEl =\n",
              "          document.querySelector('#df-e637af25-a27a-48d1-ad15-c2bb89e34050 button.colab-df-convert');\n",
              "        buttonEl.style.display =\n",
              "          google.colab.kernel.accessAllowed ? 'block' : 'none';\n",
              "\n",
              "        async function convertToInteractive(key) {\n",
              "          const element = document.querySelector('#df-e637af25-a27a-48d1-ad15-c2bb89e34050');\n",
              "          const dataTable =\n",
              "            await google.colab.kernel.invokeFunction('convertToInteractive',\n",
              "                                                     [key], {});\n",
              "          if (!dataTable) return;\n",
              "\n",
              "          const docLinkHtml = 'Like what you see? Visit the ' +\n",
              "            '<a target=\"_blank\" href=https://colab.research.google.com/notebooks/data_table.ipynb>data table notebook</a>'\n",
              "            + ' to learn more about interactive tables.';\n",
              "          element.innerHTML = '';\n",
              "          dataTable['output_type'] = 'display_data';\n",
              "          await google.colab.output.renderOutput(dataTable, element);\n",
              "          const docLink = document.createElement('div');\n",
              "          docLink.innerHTML = docLinkHtml;\n",
              "          element.appendChild(docLink);\n",
              "        }\n",
              "      </script>\n",
              "    </div>\n",
              "  </div>\n",
              "  "
            ]
          },
          "metadata": {},
          "execution_count": 115
        }
      ]
    },
    {
      "cell_type": "code",
      "source": [
        "fig, ax = plt.subplots(figsize = (10,10))\n",
        "dep[dep.nuts3 == 'FR940'].plot(ax=ax,color='white', edgecolor='black')\n",
        "gdf.plot(ax=ax,column=\"category_1\", legend=True)\n",
        "ax.set_title('Ile de La Réunion')"
      ],
      "metadata": {
        "colab": {
          "base_uri": "https://localhost:8080/",
          "height": 548
        },
        "id": "QVUHK-ydmN8j",
        "outputId": "c2177759-71e4-40ed-fbc0-71fba14383e2"
      },
      "execution_count": 168,
      "outputs": [
        {
          "output_type": "execute_result",
          "data": {
            "text/plain": [
              "Text(0.5, 1.0, 'Ile de La Réunion')"
            ]
          },
          "metadata": {},
          "execution_count": 168
        },
        {
          "output_type": "display_data",
          "data": {
            "text/plain": [
              "<Figure size 720x720 with 1 Axes>"
            ],
            "image/png": "[encoded data removed]"
          },
          "metadata": {
            "needs_background": "light"
          }
        }
      ]
    },
    {
      "cell_type": "code",
      "source": [
        "%%sql\n",
        "SELECT *\n",
        "FROM city_repository\n",
        "LIMIT 10;"
      ],
      "metadata": {
        "colab": {
          "base_uri": "https://localhost:8080/",
          "height": 271
        },
        "id": "SC0Cl8XzWpiN",
        "outputId": "9c2e8c4a-7aab-4f76-c6f8-26e062b39b6f"
      },
      "execution_count": null,
      "outputs": [
        {
          "output_type": "stream",
          "name": "stdout",
          "text": [
            " * sqlite:///Itineraires.db\n"
          ]
        },
        {
          "output_type": "execute_result",
          "data": {
            "text/plain": [
              "[(1, 'ST DENIS', 97490, 'BOIS DE NEFLES ST DENIS', -20.933029099, 55.446977555, '2023-02-11 22:31:51'),\n",
              " (2, 'ST DENIS', 97490, 'ST DENIS CHAUDRON', -20.933029099, 55.446977555, '2023-02-11 22:31:51'),\n",
              " (3, 'ST DENIS', 97490, 'LA BRETAGNE', -20.933029099, 55.446977555, '2023-02-11 22:31:51'),\n",
              " (4, 'ST DENIS', 97490, 'MOUFIA', -20.933029099, 55.446977555, '2023-02-11 22:31:51'),\n",
              " (5, 'ST DENIS', 97490, 'STE CLOTILDE', -20.933029099, 55.446977555, '2023-02-11 22:31:51'),\n",
              " (6, 'ST JOSEPH', 97480, 'LES LIANES', -21.306243323, 55.641977434, '2023-02-11 22:31:51'),\n",
              " (7, 'ST JOSEPH', 97480, 'VINCENDO', -21.306243323, 55.641977434, '2023-02-11 22:31:51'),\n",
              " (8, 'ST JOSEPH', 97480, None, -21.306243323, 55.641977434, '2023-02-11 22:31:51'),\n",
              " (9, 'ST JOSEPH', 97480, 'JEAN PETIT', -21.306243323, 55.641977434, '2023-02-11 22:31:51'),\n",
              " (10, 'ST BENOIT', 97470, None, -21.091842698, 55.649276452, '2023-02-11 22:31:51')]"
            ],
            "text/html": [
              "<table>\n",
              "    <thead>\n",
              "        <tr>\n",
              "            <th>city_id</th>\n",
              "            <th>nom_commune</th>\n",
              "            <th>code_postal</th>\n",
              "            <th>Lieu_dit</th>\n",
              "            <th>gps_latitude</th>\n",
              "            <th>gps_longitude</th>\n",
              "            <th>Date_maj</th>\n",
              "        </tr>\n",
              "    </thead>\n",
              "    <tbody>\n",
              "        <tr>\n",
              "            <td>1</td>\n",
              "            <td>ST DENIS</td>\n",
              "            <td>97490</td>\n",
              "            <td>BOIS DE NEFLES ST DENIS</td>\n",
              "            <td>-20.933029099</td>\n",
              "            <td>55.446977555</td>\n",
              "            <td>2023-02-11 22:31:51</td>\n",
              "        </tr>\n",
              "        <tr>\n",
              "            <td>2</td>\n",
              "            <td>ST DENIS</td>\n",
              "            <td>97490</td>\n",
              "            <td>ST DENIS CHAUDRON</td>\n",
              "            <td>-20.933029099</td>\n",
              "            <td>55.446977555</td>\n",
              "            <td>2023-02-11 22:31:51</td>\n",
              "        </tr>\n",
              "        <tr>\n",
              "            <td>3</td>\n",
              "            <td>ST DENIS</td>\n",
              "            <td>97490</td>\n",
              "            <td>LA BRETAGNE</td>\n",
              "            <td>-20.933029099</td>\n",
              "            <td>55.446977555</td>\n",
              "            <td>2023-02-11 22:31:51</td>\n",
              "        </tr>\n",
              "        <tr>\n",
              "            <td>4</td>\n",
              "            <td>ST DENIS</td>\n",
              "            <td>97490</td>\n",
              "            <td>MOUFIA</td>\n",
              "            <td>-20.933029099</td>\n",
              "            <td>55.446977555</td>\n",
              "            <td>2023-02-11 22:31:51</td>\n",
              "        </tr>\n",
              "        <tr>\n",
              "            <td>5</td>\n",
              "            <td>ST DENIS</td>\n",
              "            <td>97490</td>\n",
              "            <td>STE CLOTILDE</td>\n",
              "            <td>-20.933029099</td>\n",
              "            <td>55.446977555</td>\n",
              "            <td>2023-02-11 22:31:51</td>\n",
              "        </tr>\n",
              "        <tr>\n",
              "            <td>6</td>\n",
              "            <td>ST JOSEPH</td>\n",
              "            <td>97480</td>\n",
              "            <td>LES LIANES</td>\n",
              "            <td>-21.306243323</td>\n",
              "            <td>55.641977434</td>\n",
              "            <td>2023-02-11 22:31:51</td>\n",
              "        </tr>\n",
              "        <tr>\n",
              "            <td>7</td>\n",
              "            <td>ST JOSEPH</td>\n",
              "            <td>97480</td>\n",
              "            <td>VINCENDO</td>\n",
              "            <td>-21.306243323</td>\n",
              "            <td>55.641977434</td>\n",
              "            <td>2023-02-11 22:31:51</td>\n",
              "        </tr>\n",
              "        <tr>\n",
              "            <td>8</td>\n",
              "            <td>ST JOSEPH</td>\n",
              "            <td>97480</td>\n",
              "            <td>None</td>\n",
              "            <td>-21.306243323</td>\n",
              "            <td>55.641977434</td>\n",
              "            <td>2023-02-11 22:31:51</td>\n",
              "        </tr>\n",
              "        <tr>\n",
              "            <td>9</td>\n",
              "            <td>ST JOSEPH</td>\n",
              "            <td>97480</td>\n",
              "            <td>JEAN PETIT</td>\n",
              "            <td>-21.306243323</td>\n",
              "            <td>55.641977434</td>\n",
              "            <td>2023-02-11 22:31:51</td>\n",
              "        </tr>\n",
              "        <tr>\n",
              "            <td>10</td>\n",
              "            <td>ST BENOIT</td>\n",
              "            <td>97470</td>\n",
              "            <td>None</td>\n",
              "            <td>-21.091842698</td>\n",
              "            <td>55.649276452</td>\n",
              "            <td>2023-02-11 22:31:51</td>\n",
              "        </tr>\n",
              "    </tbody>\n",
              "</table>"
            ]
          },
          "metadata": {},
          "execution_count": 59
        }
      ]
    },
    {
      "cell_type": "code",
      "source": [
        "%%sql\n",
        "SELECT Nom_du_POI, Adresse_postale, commune, Description, category_0, category_1, category_2\n",
        "FROM poi_reunion_activity \n",
        "WHERE category_1 ='LeisureSportActivityProvider'\n",
        "LIMIT 5;\n"
      ],
      "metadata": {
        "colab": {
          "base_uri": "https://localhost:8080/",
          "height": 165
        },
        "id": "FAYT3k44MiQC",
        "outputId": "2ec6f7ca-03a6-42eb-96aa-1e1eee2b7df3"
      },
      "execution_count": null,
      "outputs": [
        {
          "output_type": "stream",
          "name": "stdout",
          "text": [
            " * sqlite:///Itineraires.db\n"
          ]
        },
        {
          "output_type": "execute_result",
          "data": {
            "text/plain": [
              "[('Neptune (Le)', '117, boulevard Hubert Delisle', 'Saint-Pierre', None, 'ActivityProvider', 'LeisureSportActivityProvider', None),\n",
              " ('Zen (Le)', '2, rue Doret', 'Saint-Denis', None, 'ActivityProvider', 'LeisureSportActivityProvider', None),\n",
              " ('Varangue (La)', '14, rue du Stade - Montgaillard', 'Saint-Denis', None, 'ActivityProvider', 'LeisureSportActivityProvider', None),\n",
              " ('Casino du Sud', '42, boulevard Hubert Delisle', 'Saint-Pierre', None, 'ActivityProvider', 'LeisureSportActivityProvider', None),\n",
              " ('Théâtre Vladimir Canter', '15 avenue René Cassin - Campus Universitaire du Moufia', 'Saint-Denis', None, 'ActivityProvider', 'LeisureSportActivityProvider', None)]"
            ],
            "text/html": [
              "<table>\n",
              "    <thead>\n",
              "        <tr>\n",
              "            <th>Nom_du_POI</th>\n",
              "            <th>Adresse_postale</th>\n",
              "            <th>commune</th>\n",
              "            <th>Description</th>\n",
              "            <th>category_0</th>\n",
              "            <th>category_1</th>\n",
              "            <th>category_2</th>\n",
              "        </tr>\n",
              "    </thead>\n",
              "    <tbody>\n",
              "        <tr>\n",
              "            <td>Neptune (Le)</td>\n",
              "            <td>117, boulevard Hubert Delisle</td>\n",
              "            <td>Saint-Pierre</td>\n",
              "            <td>None</td>\n",
              "            <td>ActivityProvider</td>\n",
              "            <td>LeisureSportActivityProvider</td>\n",
              "            <td>None</td>\n",
              "        </tr>\n",
              "        <tr>\n",
              "            <td>Zen (Le)</td>\n",
              "            <td>2, rue Doret</td>\n",
              "            <td>Saint-Denis</td>\n",
              "            <td>None</td>\n",
              "            <td>ActivityProvider</td>\n",
              "            <td>LeisureSportActivityProvider</td>\n",
              "            <td>None</td>\n",
              "        </tr>\n",
              "        <tr>\n",
              "            <td>Varangue (La)</td>\n",
              "            <td>14, rue du Stade - Montgaillard</td>\n",
              "            <td>Saint-Denis</td>\n",
              "            <td>None</td>\n",
              "            <td>ActivityProvider</td>\n",
              "            <td>LeisureSportActivityProvider</td>\n",
              "            <td>None</td>\n",
              "        </tr>\n",
              "        <tr>\n",
              "            <td>Casino du Sud</td>\n",
              "            <td>42, boulevard Hubert Delisle</td>\n",
              "            <td>Saint-Pierre</td>\n",
              "            <td>None</td>\n",
              "            <td>ActivityProvider</td>\n",
              "            <td>LeisureSportActivityProvider</td>\n",
              "            <td>None</td>\n",
              "        </tr>\n",
              "        <tr>\n",
              "            <td>Théâtre Vladimir Canter</td>\n",
              "            <td>15 avenue René Cassin - Campus Universitaire du Moufia</td>\n",
              "            <td>Saint-Denis</td>\n",
              "            <td>None</td>\n",
              "            <td>ActivityProvider</td>\n",
              "            <td>LeisureSportActivityProvider</td>\n",
              "            <td>None</td>\n",
              "        </tr>\n",
              "    </tbody>\n",
              "</table>"
            ]
          },
          "metadata": {},
          "execution_count": 60
        }
      ]
    },
    {
      "cell_type": "code",
      "source": [
        "%%sql\n",
        "SELECT category_1, count(category_1) \n",
        "FROM poi_reunion_2 \n",
        "GROUP BY category_1\n",
        "LIMIT 5;"
      ],
      "metadata": {
        "colab": {
          "base_uri": "https://localhost:8080/",
          "height": 165
        },
        "id": "lhhr7APJPX-A",
        "outputId": "f23f39b0-a2ae-4eb2-c8f8-36f53c068f99"
      },
      "execution_count": null,
      "outputs": [
        {
          "output_type": "stream",
          "name": "stdout",
          "text": [
            " * sqlite:///Itineraires.db\n"
          ]
        },
        {
          "output_type": "execute_result",
          "data": {
            "text/plain": [
              "[(None, 0),\n",
              " ('Coastline', 3),\n",
              " ('Mountain', 7),\n",
              " ('NaturalHeritage', 18),\n",
              " ('PointOfView', 13)]"
            ],
            "text/html": [
              "<table>\n",
              "    <thead>\n",
              "        <tr>\n",
              "            <th>category_1</th>\n",
              "            <th>count(category_1)</th>\n",
              "        </tr>\n",
              "    </thead>\n",
              "    <tbody>\n",
              "        <tr>\n",
              "            <td>None</td>\n",
              "            <td>0</td>\n",
              "        </tr>\n",
              "        <tr>\n",
              "            <td>Coastline</td>\n",
              "            <td>3</td>\n",
              "        </tr>\n",
              "        <tr>\n",
              "            <td>Mountain</td>\n",
              "            <td>7</td>\n",
              "        </tr>\n",
              "        <tr>\n",
              "            <td>NaturalHeritage</td>\n",
              "            <td>18</td>\n",
              "        </tr>\n",
              "        <tr>\n",
              "            <td>PointOfView</td>\n",
              "            <td>13</td>\n",
              "        </tr>\n",
              "    </tbody>\n",
              "</table>"
            ]
          },
          "metadata": {},
          "execution_count": 61
        }
      ]
    },
    {
      "cell_type": "code",
      "source": [
        "%%sql\n",
        "SELECT category_2, count(category_2) \n",
        "FROM poi_reunion_2  \n",
        "GROUP BY category_2\n",
        "LIMIT 5;"
      ],
      "metadata": {
        "colab": {
          "base_uri": "https://localhost:8080/",
          "height": 165
        },
        "id": "OgSLzA4rSLWT",
        "outputId": "60f1b49c-0642-493f-b1b2-f2415fc00dc3"
      },
      "execution_count": null,
      "outputs": [
        {
          "output_type": "stream",
          "name": "stdout",
          "text": [
            " * sqlite:///Itineraires.db\n"
          ]
        },
        {
          "output_type": "execute_result",
          "data": {
            "text/plain": [
              "[(None, 0), ('Bridge', 1), ('Church', 5), ('Mosque', 1), ('Source', 11)]"
            ],
            "text/html": [
              "<table>\n",
              "    <thead>\n",
              "        <tr>\n",
              "            <th>category_2</th>\n",
              "            <th>count(category_2)</th>\n",
              "        </tr>\n",
              "    </thead>\n",
              "    <tbody>\n",
              "        <tr>\n",
              "            <td>None</td>\n",
              "            <td>0</td>\n",
              "        </tr>\n",
              "        <tr>\n",
              "            <td>Bridge</td>\n",
              "            <td>1</td>\n",
              "        </tr>\n",
              "        <tr>\n",
              "            <td>Church</td>\n",
              "            <td>5</td>\n",
              "        </tr>\n",
              "        <tr>\n",
              "            <td>Mosque</td>\n",
              "            <td>1</td>\n",
              "        </tr>\n",
              "        <tr>\n",
              "            <td>Source</td>\n",
              "            <td>11</td>\n",
              "        </tr>\n",
              "    </tbody>\n",
              "</table>"
            ]
          },
          "metadata": {},
          "execution_count": 62
        }
      ]
    },
    {
      "cell_type": "code",
      "source": [
        "%%sql\n",
        "SELECT Nom_du_POI, Adresse_postale \n",
        "FROM poi_reunion_2\n",
        "WHERE category_0 = 'Beach' \n",
        "AND commune = 'Saint-Leu';"
      ],
      "metadata": {
        "colab": {
          "base_uri": "https://localhost:8080/",
          "height": 100
        },
        "id": "aK9tsDITYKTj",
        "outputId": "14aa3231-fea6-461c-cd32-ee8694cadad4"
      },
      "execution_count": null,
      "outputs": [
        {
          "output_type": "stream",
          "name": "stdout",
          "text": [
            " * sqlite:///Itineraires.db\n"
          ]
        },
        {
          "output_type": "execute_result",
          "data": {
            "text/plain": [
              "[('Plage Citerne 46', None), ('Plage de Saint-Leu', None)]"
            ],
            "text/html": [
              "<table>\n",
              "    <thead>\n",
              "        <tr>\n",
              "            <th>Nom_du_POI</th>\n",
              "            <th>Adresse_postale</th>\n",
              "        </tr>\n",
              "    </thead>\n",
              "    <tbody>\n",
              "        <tr>\n",
              "            <td>Plage Citerne 46</td>\n",
              "            <td>None</td>\n",
              "        </tr>\n",
              "        <tr>\n",
              "            <td>Plage de Saint-Leu</td>\n",
              "            <td>None</td>\n",
              "        </tr>\n",
              "    </tbody>\n",
              "</table>"
            ]
          },
          "metadata": {},
          "execution_count": 63
        }
      ]
    },
    {
      "cell_type": "code",
      "source": [
        "%%sql\n",
        "SELECT commune, count(commune) as nb_poi \n",
        "FROM poi_reunion_clean\n",
        "GROUP BY commune\n",
        "ORDER BY nb_poi DESC\n",
        "LIMIT 10;"
      ],
      "metadata": {
        "colab": {
          "base_uri": "https://localhost:8080/",
          "height": 271
        },
        "id": "3pyGuHbzSrZY",
        "outputId": "567f6346-9ddd-45ca-99ce-53e9e869bbf7"
      },
      "execution_count": null,
      "outputs": [
        {
          "output_type": "stream",
          "name": "stdout",
          "text": [
            " * sqlite:///Itineraires.db\n"
          ]
        },
        {
          "output_type": "execute_result",
          "data": {
            "text/plain": [
              "[('Saint-Paul', 370),\n",
              " ('Saint-Denis', 302),\n",
              " ('Saint-Pierre', 283),\n",
              " ('Saint-Leu', 100),\n",
              " ('Saint-André', 73),\n",
              " ('Le Port', 63),\n",
              " ('Le Tampon', 57),\n",
              " ('Saint-Benoît', 51),\n",
              " ('Sainte-Marie', 47),\n",
              " ('Saint-Louis', 44)]"
            ],
            "text/html": [
              "<table>\n",
              "    <thead>\n",
              "        <tr>\n",
              "            <th>commune</th>\n",
              "            <th>nb_poi</th>\n",
              "        </tr>\n",
              "    </thead>\n",
              "    <tbody>\n",
              "        <tr>\n",
              "            <td>Saint-Paul</td>\n",
              "            <td>370</td>\n",
              "        </tr>\n",
              "        <tr>\n",
              "            <td>Saint-Denis</td>\n",
              "            <td>302</td>\n",
              "        </tr>\n",
              "        <tr>\n",
              "            <td>Saint-Pierre</td>\n",
              "            <td>283</td>\n",
              "        </tr>\n",
              "        <tr>\n",
              "            <td>Saint-Leu</td>\n",
              "            <td>100</td>\n",
              "        </tr>\n",
              "        <tr>\n",
              "            <td>Saint-André</td>\n",
              "            <td>73</td>\n",
              "        </tr>\n",
              "        <tr>\n",
              "            <td>Le Port</td>\n",
              "            <td>63</td>\n",
              "        </tr>\n",
              "        <tr>\n",
              "            <td>Le Tampon</td>\n",
              "            <td>57</td>\n",
              "        </tr>\n",
              "        <tr>\n",
              "            <td>Saint-Benoît</td>\n",
              "            <td>51</td>\n",
              "        </tr>\n",
              "        <tr>\n",
              "            <td>Sainte-Marie</td>\n",
              "            <td>47</td>\n",
              "        </tr>\n",
              "        <tr>\n",
              "            <td>Saint-Louis</td>\n",
              "            <td>44</td>\n",
              "        </tr>\n",
              "    </tbody>\n",
              "</table>"
            ]
          },
          "metadata": {},
          "execution_count": 64
        }
      ]
    },
    {
      "cell_type": "code",
      "source": [
        "%%sql\n",
        "SELECT * \n",
        "FROM poi_reunion_food\n",
        "where category_2 = 'ActivityProvider'\n",
        "LIMIT 5;"
      ],
      "metadata": {
        "colab": {
          "base_uri": "https://localhost:8080/",
          "height": 251
        },
        "id": "8ae3bmS-X4Sk",
        "outputId": "e4a9d945-2580-475a-f0ab-d4fb50ac89fc"
      },
      "execution_count": null,
      "outputs": [
        {
          "output_type": "stream",
          "name": "stdout",
          "text": [
            " * sqlite:///Itineraires.db\n"
          ]
        },
        {
          "output_type": "execute_result",
          "data": {
            "text/plain": [
              "[(2, 'f2a140d5-152c-300b-accb-67619012a89a', 'Concorde (Le)', -20.89625806, 55.44723605, '91 bis, allée des Topazes - Bellepierre', '2019-10-10', 'Concorde (Le)#+33 2 62 51 51 51#info@hotel-bellepierre.com#http://www.hotel-bellepierre.com/', None, 54, 'Saint-Denis', 97400, 'FoodEstablishment', 'Restaurant', 'ActivityProvider'),\n",
              " (35, '4543e20f-0675-3254-9506-48b083a4a84a', 'El Pueblo', -21.343484, 55.476775, '8, boulevard Hubert Delisle', '2019-10-10', 'El Pueblo#+33 2 62 38 56 40##', None, 54, 'Saint-Pierre', 97410, 'FoodEstablishment', 'Restaurant', 'ActivityProvider'),\n",
              " (36, '457271d5-8321-36b2-a1ba-20ea232b0483', 'Artocarpe', -20.876704, 55.448779, 'Résidence Edouard - 9, ruelle Edouard', '2021-09-28', 'Artocarpe#+33 2 62 21 55 48#artocarpe@orange.fr#', None, 54, 'Saint-Denis', 97400, 'FoodEstablishment', 'Restaurant', 'ActivityProvider'),\n",
              " (54, '316dd449-7195-3841-b20d-bd33fcdfb22f', 'Madiana Restaurant - Bar - Tapas', -21.343185, 55.467639, '83 Boulevard Hubert Delisle', '2019-10-10', 'Madiana Restaurant - Bar - Tapas#+33 6 93 13 68 79##', None, 54, 'Saint-Pierre', 97410, 'FoodEstablishment', 'Restaurant', 'ActivityProvider'),\n",
              " (85, '708d105f-f963-3c34-8f87-4bb3b0ea6c5a', 'Zanzibar Café (Le)', -20.8786009, 55.45154099, '41, rue Pasteur', '2019-10-10', 'Zanzibar Café (Le)#+33 2 62 20 01 18##', None, 54, 'Saint-Denis', 97400, 'FoodEstablishment', 'Restaurant', 'ActivityProvider')]"
            ],
            "text/html": [
              "<table>\n",
              "    <thead>\n",
              "        <tr>\n",
              "            <th>index</th>\n",
              "            <th>ID</th>\n",
              "            <th>Nom_du_POI</th>\n",
              "            <th>Latitude</th>\n",
              "            <th>Longitude</th>\n",
              "            <th>Adresse_postale</th>\n",
              "            <th>Date_de_mise_a_jour</th>\n",
              "            <th>Contacts_du_POI</th>\n",
              "            <th>Description</th>\n",
              "            <th>region</th>\n",
              "            <th>commune</th>\n",
              "            <th>code_postal</th>\n",
              "            <th>category_0</th>\n",
              "            <th>category_1</th>\n",
              "            <th>category_2</th>\n",
              "        </tr>\n",
              "    </thead>\n",
              "    <tbody>\n",
              "        <tr>\n",
              "            <td>2</td>\n",
              "            <td>f2a140d5-152c-300b-accb-67619012a89a</td>\n",
              "            <td>Concorde (Le)</td>\n",
              "            <td>-20.89625806</td>\n",
              "            <td>55.44723605</td>\n",
              "            <td>91 bis, allée des Topazes - Bellepierre</td>\n",
              "            <td>2019-10-10</td>\n",
              "            <td>Concorde (Le)#+33 2 62 51 51 51#info@hotel-bellepierre.com#http://www.hotel-bellepierre.com/</td>\n",
              "            <td>None</td>\n",
              "            <td>54</td>\n",
              "            <td>Saint-Denis</td>\n",
              "            <td>97400</td>\n",
              "            <td>FoodEstablishment</td>\n",
              "            <td>Restaurant</td>\n",
              "            <td>ActivityProvider</td>\n",
              "        </tr>\n",
              "        <tr>\n",
              "            <td>35</td>\n",
              "            <td>4543e20f-0675-3254-9506-48b083a4a84a</td>\n",
              "            <td>El Pueblo</td>\n",
              "            <td>-21.343484</td>\n",
              "            <td>55.476775</td>\n",
              "            <td>8, boulevard Hubert Delisle</td>\n",
              "            <td>2019-10-10</td>\n",
              "            <td>El Pueblo#+33 2 62 38 56 40##</td>\n",
              "            <td>None</td>\n",
              "            <td>54</td>\n",
              "            <td>Saint-Pierre</td>\n",
              "            <td>97410</td>\n",
              "            <td>FoodEstablishment</td>\n",
              "            <td>Restaurant</td>\n",
              "            <td>ActivityProvider</td>\n",
              "        </tr>\n",
              "        <tr>\n",
              "            <td>36</td>\n",
              "            <td>457271d5-8321-36b2-a1ba-20ea232b0483</td>\n",
              "            <td>Artocarpe</td>\n",
              "            <td>-20.876704</td>\n",
              "            <td>55.448779</td>\n",
              "            <td>Résidence Edouard - 9, ruelle Edouard</td>\n",
              "            <td>2021-09-28</td>\n",
              "            <td>Artocarpe#+33 2 62 21 55 48#artocarpe@orange.fr#</td>\n",
              "            <td>None</td>\n",
              "            <td>54</td>\n",
              "            <td>Saint-Denis</td>\n",
              "            <td>97400</td>\n",
              "            <td>FoodEstablishment</td>\n",
              "            <td>Restaurant</td>\n",
              "            <td>ActivityProvider</td>\n",
              "        </tr>\n",
              "        <tr>\n",
              "            <td>54</td>\n",
              "            <td>316dd449-7195-3841-b20d-bd33fcdfb22f</td>\n",
              "            <td>Madiana Restaurant - Bar - Tapas</td>\n",
              "            <td>-21.343185</td>\n",
              "            <td>55.467639</td>\n",
              "            <td>83 Boulevard Hubert Delisle</td>\n",
              "            <td>2019-10-10</td>\n",
              "            <td>Madiana Restaurant - Bar - Tapas#+33 6 93 13 68 79##</td>\n",
              "            <td>None</td>\n",
              "            <td>54</td>\n",
              "            <td>Saint-Pierre</td>\n",
              "            <td>97410</td>\n",
              "            <td>FoodEstablishment</td>\n",
              "            <td>Restaurant</td>\n",
              "            <td>ActivityProvider</td>\n",
              "        </tr>\n",
              "        <tr>\n",
              "            <td>85</td>\n",
              "            <td>708d105f-f963-3c34-8f87-4bb3b0ea6c5a</td>\n",
              "            <td>Zanzibar Café (Le)</td>\n",
              "            <td>-20.8786009</td>\n",
              "            <td>55.45154099</td>\n",
              "            <td>41, rue Pasteur</td>\n",
              "            <td>2019-10-10</td>\n",
              "            <td>Zanzibar Café (Le)#+33 2 62 20 01 18##</td>\n",
              "            <td>None</td>\n",
              "            <td>54</td>\n",
              "            <td>Saint-Denis</td>\n",
              "            <td>97400</td>\n",
              "            <td>FoodEstablishment</td>\n",
              "            <td>Restaurant</td>\n",
              "            <td>ActivityProvider</td>\n",
              "        </tr>\n",
              "    </tbody>\n",
              "</table>"
            ]
          },
          "metadata": {},
          "execution_count": 65
        }
      ]
    },
    {
      "cell_type": "code",
      "source": [
        "%%sql\n",
        "SELECT * FROM (\n",
        "SELECT Nom_du_POI, Adresse_postale, \"Activité1\" \n",
        "FROM poi_reunion_2\n",
        "WHERE commune = 'Saint-Denis' \n",
        "LIMIT 2)\n",
        "UNION\n",
        "SELECT * FROM (\n",
        "SELECT Nom_du_POI, Adresse_postale, \"Activité2\" \n",
        "FROM poi_reunion_activity\n",
        "where commune = 'Saint-Denis'\n",
        "limit 2)\n",
        "UNION\n",
        "SELECT * FROM (\n",
        "SELECT Nom_du_POI, Adresse_postale, \"Restaurant\" \n",
        "FROM poi_reunion_food\n",
        "where commune = 'Saint-Denis'\n",
        "limit 2)\n",
        "ORDER BY 3;"
      ],
      "metadata": {
        "colab": {
          "base_uri": "https://localhost:8080/",
          "height": 186
        },
        "id": "LdgPSOnIZWDC",
        "outputId": "2aa15fbe-9972-4599-a77c-863b725e4959"
      },
      "execution_count": null,
      "outputs": [
        {
          "output_type": "stream",
          "name": "stdout",
          "text": [
            " * sqlite:///Itineraires.db\n"
          ]
        },
        {
          "output_type": "execute_result",
          "data": {
            "text/plain": [
              "[(\"Jardin de la Maison d'Edith (Le)\", '59, chemin Commins', 'Activité1'),\n",
              " ('Musée Léon Dierx', '28, rue de Paris', 'Activité1'),\n",
              " ('Varangue (La)', '14, rue du Stade - Montgaillard', 'Activité2'),\n",
              " ('Zen (Le)', '2, rue Doret', 'Activité2'),\n",
              " ('Concorde (Le)', '91 bis, allée des Topazes - Bellepierre', 'Restaurant'),\n",
              " (\"Oasis (L')\", '2, rue Doret', 'Restaurant')]"
            ],
            "text/html": [
              "<table>\n",
              "    <thead>\n",
              "        <tr>\n",
              "            <th>Nom_du_POI</th>\n",
              "            <th>Adresse_postale</th>\n",
              "            <th>Activité1</th>\n",
              "        </tr>\n",
              "    </thead>\n",
              "    <tbody>\n",
              "        <tr>\n",
              "            <td>Jardin de la Maison d&#x27;Edith (Le)</td>\n",
              "            <td>59, chemin Commins</td>\n",
              "            <td>Activité1</td>\n",
              "        </tr>\n",
              "        <tr>\n",
              "            <td>Musée Léon Dierx</td>\n",
              "            <td>28, rue de Paris</td>\n",
              "            <td>Activité1</td>\n",
              "        </tr>\n",
              "        <tr>\n",
              "            <td>Varangue (La)</td>\n",
              "            <td>14, rue du Stade - Montgaillard</td>\n",
              "            <td>Activité2</td>\n",
              "        </tr>\n",
              "        <tr>\n",
              "            <td>Zen (Le)</td>\n",
              "            <td>2, rue Doret</td>\n",
              "            <td>Activité2</td>\n",
              "        </tr>\n",
              "        <tr>\n",
              "            <td>Concorde (Le)</td>\n",
              "            <td>91 bis, allée des Topazes - Bellepierre</td>\n",
              "            <td>Restaurant</td>\n",
              "        </tr>\n",
              "        <tr>\n",
              "            <td>Oasis (L&#x27;)</td>\n",
              "            <td>2, rue Doret</td>\n",
              "            <td>Restaurant</td>\n",
              "        </tr>\n",
              "    </tbody>\n",
              "</table>"
            ]
          },
          "metadata": {},
          "execution_count": 66
        }
      ]
    }
  ]
}