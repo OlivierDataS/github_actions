{
  "nbformat": 4,
  "nbformat_minor": 0,
  "metadata": {
    "colab": {
      "provenance": [],
      "authorship_tag": "ABX9TyP3oiGqk4Vg6lS899HUFB8f",
      "include_colab_link": true
    },
    "kernelspec": {
      "name": "python3",
      "display_name": "Python 3"
    },
    "language_info": {
      "name": "python"
    },
    "accelerator": "GPU",
    "gpuClass": "standard"
  },
  "cells": [
    {
      "cell_type": "markdown",
      "metadata": {
        "id": "view-in-github",
        "colab_type": "text"
      },
      "source": [
        "<a href=\"https://colab.research.google.com/github/OlivierDataS/github_actions/blob/master/Projet_Sql.ipynb\" target=\"_parent\"><img src=\"https://colab.research.google.com/assets/colab-badge.svg\" alt=\"Open In Colab\"/></a>"
      ]
    },
    {
      "cell_type": "markdown",
      "source": [
        "Installation de l'environnement"
      ],
      "metadata": {
        "id": "F68PSVmH8sAc"
      }
    },
    {
      "cell_type": "code",
      "source": [
        "# For Python\n",
        "pip install pandas\n",
        "\n",
        "# ORM for databases\n",
        "pip install sqlalchemy # ORM for databases\n",
        "\n",
        "#Python SQL Toolkit - SqlAlchemy installation\n",
        "pip install ipython-sql"
      ],
      "metadata": {
        "id": "p8qI8mN48wFU",
        "colab": {
          "base_uri": "https://localhost:8080/",
          "height": 136
        },
        "outputId": "28c7c852-4490-4c62-df14-ec93c8f87182"
      },
      "execution_count": 2,
      "outputs": [
        {
          "output_type": "error",
          "ename": "SyntaxError",
          "evalue": "ignored",
          "traceback": [
            "\u001b[0;36m  File \u001b[0;32m\"<ipython-input-2-af1d0e2250cd>\"\u001b[0;36m, line \u001b[0;32m2\u001b[0m\n\u001b[0;31m    pip install pandas\u001b[0m\n\u001b[0m        ^\u001b[0m\n\u001b[0;31mSyntaxError\u001b[0m\u001b[0;31m:\u001b[0m invalid syntax\n"
          ]
        }
      ]
    },
    {
      "cell_type": "markdown",
      "source": [
        "Activation de SqlMagic"
      ],
      "metadata": {
        "id": "0ewl5UkU893O"
      }
    },
    {
      "cell_type": "code",
      "source": [
        "%load_ext sql\n",
        "#%reload_ext sql\n",
        "%config SqlMagic.displaycon = False\n",
        "%config SqlMagic.feedback = False\n",
        "%config SqlMagic.displaylimit = 50\n",
        "%config SqlMagic.autocommit=True"
      ],
      "metadata": {
        "colab": {
          "base_uri": "https://localhost:8080/"
        },
        "id": "uKveGh1M9NYn",
        "outputId": "f721e04e-09bf-4618-f7dd-666e197da6c6"
      },
      "execution_count": 3,
      "outputs": [
        {
          "output_type": "stream",
          "name": "stderr",
          "text": [
            "/usr/local/lib/python3.8/dist-packages/IPython/core/interactiveshell.py:3326: UserWarning: Config option `displaycon` not recognized by `SqlMagic`.  Did you mean `displaylimit`?\n",
            "  exec(code_obj, self.user_global_ns, self.user_ns)\n"
          ]
        }
      ]
    },
    {
      "cell_type": "markdown",
      "source": [
        "Connection/creation à la BD/schema"
      ],
      "metadata": {
        "id": "VNZUxe9O_Amt"
      }
    },
    {
      "cell_type": "code",
      "source": [
        "%sql sqlite:///Itineraires.db"
      ],
      "metadata": {
        "colab": {
          "base_uri": "https://localhost:8080/",
          "height": 35
        },
        "id": "vWeWMnre_VzR",
        "outputId": "6c913fec-15b3-4c41-f134-a809a6e523bc"
      },
      "execution_count": 4,
      "outputs": [
        {
          "output_type": "execute_result",
          "data": {
            "text/plain": [
              "'Connected: @Itineraires.db'"
            ],
            "application/vnd.google.colaboratory.intrinsic+json": {
              "type": "string"
            }
          },
          "metadata": {},
          "execution_count": 4
        }
      ]
    },
    {
      "cell_type": "markdown",
      "source": [
        "Load tools for Python"
      ],
      "metadata": {
        "id": "CAVXV71INgJG"
      }
    },
    {
      "cell_type": "code",
      "source": [
        "import pandas as pd\n",
        "from google.colab import files\n",
        "import io\n",
        "#from sqlalchemy import create_engine, ForeignKey\n",
        "#from sqlalchemy import Column, Date, Integer, String\n",
        "#from sqlalchemy.ext.declarative import declarative_base\n",
        "import sqlite3\n",
        "conn = sqlite3.connect('Itineraires.db')"
      ],
      "metadata": {
        "id": "dIdVysEBNmw4"
      },
      "execution_count": 5,
      "outputs": []
    },
    {
      "cell_type": "code",
      "source": [
        "#engine = create_engine(\"sqlite:///Itineraires.db\")\n",
        "#connection = engine.raw_connection()"
      ],
      "metadata": {
        "id": "ngTdkHMOTtjV"
      },
      "execution_count": null,
      "outputs": []
    },
    {
      "cell_type": "markdown",
      "source": [
        "Création de la table de référentiel des villes"
      ],
      "metadata": {
        "id": "PCU375lz0zXm"
      }
    },
    {
      "cell_type": "code",
      "source": [
        "%%sql\n",
        "CREATE TABLE IF NOT EXISTS city_repository (\n",
        "city_id INTEGER PRIMARY KEY AUTOINCREMENT,\n",
        "nom_commune VARCHAR,\n",
        "code_postal INTEGER NOT NULL,\n",
        "Lieu_dit VARCHAR,\n",
        "gps_latitude FLOAT,\n",
        "gps_longitude FLOAT,\n",
        "Date_maj TIMESTAMP DEFAULT CURRENT_TIMESTAMP\n",
        ");"
      ],
      "metadata": {
        "colab": {
          "base_uri": "https://localhost:8080/"
        },
        "id": "sbOHU4gJ3lKF",
        "outputId": "811aa40b-57ae-47dd-88da-f17e82937699"
      },
      "execution_count": 6,
      "outputs": [
        {
          "output_type": "stream",
          "name": "stdout",
          "text": [
            " * sqlite:///Itineraires.db\n"
          ]
        },
        {
          "output_type": "execute_result",
          "data": {
            "text/plain": [
              "[]"
            ]
          },
          "metadata": {},
          "execution_count": 6
        }
      ]
    },
    {
      "cell_type": "markdown",
      "source": [
        "Import des données, soit par l'intermédiaire d'un script sql :"
      ],
      "metadata": {
        "id": "NmRLiJOCOWeI"
      }
    },
    {
      "cell_type": "code",
      "source": [
        "%%sql\n",
        "INSERT INTO city_repository (nom_commune, code_postal, Lieu_dit, gps_latitude, gps_longitude) VALUES ('ST DENIS',97490,'BOIS DE NEFLES ST DENIS',-20.933029099,55.446977555);\n",
        "INSERT INTO city_repository (nom_commune, code_postal, Lieu_dit, gps_latitude, gps_longitude) VALUES ('ST DENIS',97490,'ST DENIS CHAUDRON',-20.933029099,55.446977555);\n",
        "INSERT INTO city_repository (nom_commune, code_postal, Lieu_dit, gps_latitude, gps_longitude) VALUES ('ST DENIS',97490,'LA BRETAGNE',-20.933029099,55.446977555);\n",
        "INSERT INTO city_repository (nom_commune, code_postal, Lieu_dit, gps_latitude, gps_longitude) VALUES ('ST DENIS',97490,'MOUFIA',-20.933029099,55.446977555);\n",
        "INSERT INTO city_repository (nom_commune, code_postal, Lieu_dit, gps_latitude, gps_longitude) VALUES ('ST DENIS',97490,'STE CLOTILDE',-20.933029099,55.446977555);\n",
        "INSERT INTO city_repository (nom_commune, code_postal, Lieu_dit, gps_latitude, gps_longitude) VALUES ('ST JOSEPH',97480,'LES LIANES',-21.306243323,55.641977434);\n",
        "INSERT INTO city_repository (nom_commune, code_postal, Lieu_dit, gps_latitude, gps_longitude) VALUES ('ST JOSEPH',97480,'VINCENDO',-21.306243323,55.641977434);\n",
        "INSERT INTO city_repository (nom_commune, code_postal, Lieu_dit, gps_latitude, gps_longitude) VALUES ('ST JOSEPH',97480,,-21.306243323,55.641977434);\n",
        "INSERT INTO city_repository (nom_commune, code_postal, Lieu_dit, gps_latitude, gps_longitude) VALUES ('ST JOSEPH',97480,'JEAN PETIT',-21.306243323,55.641977434);\n",
        "INSERT INTO city_repository (nom_commune, code_postal, Lieu_dit, gps_latitude, gps_longitude) VALUES ('ST BENOIT',97470,,-21.091842698,55.649276452);\n",
        "INSERT INTO city_repository (nom_commune, code_postal, Lieu_dit, gps_latitude, gps_longitude) VALUES ('ST BENOIT',97470,'BEAUFONDS',-21.091842698,55.649276452);\n",
        "INSERT INTO city_repository (nom_commune, code_postal, Lieu_dit, gps_latitude, gps_longitude) VALUES ('ST PAUL',97460,,-21.044520611,55.322330771);\n",
        "INSERT INTO city_repository (nom_commune, code_postal, Lieu_dit, gps_latitude, gps_longitude) VALUES ('ST PAUL',97460,'BELLEMENE',-21.044520611,55.322330771);\n",
        "INSERT INTO city_repository (nom_commune, code_postal, Lieu_dit, gps_latitude, gps_longitude) VALUES ('ST PAUL',97460,'PLATEAU CAILLOUX',-21.044520611,55.322330771);\n",
        "INSERT INTO city_repository (nom_commune, code_postal, Lieu_dit, gps_latitude, gps_longitude) VALUES ('ST LOUIS',97450,,-21.233608573,55.421584199);\n",
        "INSERT INTO city_repository (nom_commune, code_postal, Lieu_dit, gps_latitude, gps_longitude) VALUES ('ST PHILIPPE',97442,,-21.303827331,55.745038691);\n",
        "INSERT INTO city_repository (nom_commune, code_postal, Lieu_dit, gps_latitude, gps_longitude) VALUES ('ST PHILIPPE',97442,'BASSE VALLEE',-21.303827331,55.745038691);\n",
        "INSERT INTO city_repository (nom_commune, code_postal, Lieu_dit, gps_latitude, gps_longitude) VALUES ('STE SUZANNE',97441,,-20.945801093,55.593086604);\n",
        "INSERT INTO city_repository (nom_commune, code_postal, Lieu_dit, gps_latitude, gps_longitude) VALUES ('ST ANDRE',97440,,-20.963355482,55.642351104);\n",
        "INSERT INTO city_repository (nom_commune, code_postal, Lieu_dit, gps_latitude, gps_longitude) VALUES ('ST ANDRE',97440,'LA CRESSONNIERE',-20.963355482,55.642351104);\n",
        "INSERT INTO city_repository (nom_commune, code_postal, Lieu_dit, gps_latitude, gps_longitude) VALUES ('ST ANDRE',97440,'CAMBUSTON',-20.963355482,55.642351104);\n",
        "INSERT INTO city_repository (nom_commune, code_postal, Lieu_dit, gps_latitude, gps_longitude) VALUES ('STE ROSE',97439,,-21.192230578,55.754535198);\n",
        "INSERT INTO city_repository (nom_commune, code_postal, Lieu_dit, gps_latitude, gps_longitude) VALUES ('STE ROSE',97439,'LE PITON STE ROSE',-21.192230578,55.754535198);\n",
        "INSERT INTO city_repository (nom_commune, code_postal, Lieu_dit, gps_latitude, gps_longitude) VALUES ('STE MARIE',97438,'RIVIERE DES PLUIES',-20.946751887,55.530655328);\n",
        "INSERT INTO city_repository (nom_commune, code_postal, Lieu_dit, gps_latitude, gps_longitude) VALUES ('STE MARIE',97438,'LA GRANDE MONTEE',-20.946751887,55.530655328);\n",
        "INSERT INTO city_repository (nom_commune, code_postal, Lieu_dit, gps_latitude, gps_longitude) VALUES ('STE MARIE',97438,,-20.946751887,55.530655328);\n",
        "INSERT INTO city_repository (nom_commune, code_postal, Lieu_dit, gps_latitude, gps_longitude) VALUES ('STE MARIE',97438,'ROLAND GARROS AEROPORT',-20.946751887,55.530655328);\n",
        "INSERT INTO city_repository (nom_commune, code_postal, Lieu_dit, gps_latitude, gps_longitude) VALUES ('ST BENOIT',97437,'STE ANNE',-21.091842698,55.649276452);\n",
        "INSERT INTO city_repository (nom_commune, code_postal, Lieu_dit, gps_latitude, gps_longitude) VALUES ('ST LEU',97436,,-21.166060117,55.333293615);\n",
        "INSERT INTO city_repository (nom_commune, code_postal, Lieu_dit, gps_latitude, gps_longitude) VALUES ('ST PAUL',97435,'TAN ROUGE',-21.044520611,55.322330771);\n",
        "INSERT INTO city_repository (nom_commune, code_postal, Lieu_dit, gps_latitude, gps_longitude) VALUES ('ST PAUL',97435,'ST GILLES LES HAUTS',-21.044520611,55.322330771);\n",
        "INSERT INTO city_repository (nom_commune, code_postal, Lieu_dit, gps_latitude, gps_longitude) VALUES ('ST PAUL',97435,'BERNICA',-21.044520611,55.322330771);\n",
        "INSERT INTO city_repository (nom_commune, code_postal, Lieu_dit, gps_latitude, gps_longitude) VALUES ('ST PAUL',97434,'LA SALINE LES BAINS',-21.044520611,55.322330771);\n",
        "INSERT INTO city_repository (nom_commune, code_postal, Lieu_dit, gps_latitude, gps_longitude) VALUES ('ST PAUL',97434,'ST GILLES LES BAINS',-21.044520611,55.322330771);\n",
        "INSERT INTO city_repository (nom_commune, code_postal, Lieu_dit, gps_latitude, gps_longitude) VALUES ('SALAZIE',97433,'HELL BOURG',-21.046742072,55.5080505);\n",
        "INSERT INTO city_repository (nom_commune, code_postal, Lieu_dit, gps_latitude, gps_longitude) VALUES ('SALAZIE',97433,,-21.046742072,55.5080505);\n",
        "INSERT INTO city_repository (nom_commune, code_postal, Lieu_dit, gps_latitude, gps_longitude) VALUES ('ST PIERRE',97432,'RAVINE DES CABRIS',-21.312265663,55.49381116);\n",
        "INSERT INTO city_repository (nom_commune, code_postal, Lieu_dit, gps_latitude, gps_longitude) VALUES ('LA PLAINE DES PALMISTES',97431,,-21.151967542,55.644258467);\n",
        "INSERT INTO city_repository (nom_commune, code_postal, Lieu_dit, gps_latitude, gps_longitude) VALUES ('LE TAMPON',97430,'PONT D YVES',-21.223167157,55.558552873);\n",
        "INSERT INTO city_repository (nom_commune, code_postal, Lieu_dit, gps_latitude, gps_longitude) VALUES ('LE TAMPON',97430,,-21.223167157,55.558552873);\n",
        "INSERT INTO city_repository (nom_commune, code_postal, Lieu_dit, gps_latitude, gps_longitude) VALUES ('LE TAMPON',97430,'LES TROIS MARES',-21.223167157,55.558552873);\n",
        "INSERT INTO city_repository (nom_commune, code_postal, Lieu_dit, gps_latitude, gps_longitude) VALUES ('LE TAMPON',97430,'TAMPON 14EME KM',-21.223167157,55.558552873);\n",
        "INSERT INTO city_repository (nom_commune, code_postal, Lieu_dit, gps_latitude, gps_longitude) VALUES ('PETITE ILE',97429,,-21.339620557,55.568851128);\n",
        "INSERT INTO city_repository (nom_commune, code_postal, Lieu_dit, gps_latitude, gps_longitude) VALUES ('PETITE ILE',97429,'PITON GOYAVES',-21.339620557,55.568851128);\n",
        "INSERT INTO city_repository (nom_commune, code_postal, Lieu_dit, gps_latitude, gps_longitude) VALUES ('L ETANG SALE',97427,,-21.249009007,55.366858787);\n",
        "INSERT INTO city_repository (nom_commune, code_postal, Lieu_dit, gps_latitude, gps_longitude) VALUES ('L ETANG SALE',97427,'L ETANG SALE LES BAINS',-21.249009007,55.366858787);\n",
        "INSERT INTO city_repository (nom_commune, code_postal, Lieu_dit, gps_latitude, gps_longitude) VALUES ('LES TROIS BASSINS',97426,,-21.11011498,55.329677529);\n",
        "INSERT INTO city_repository (nom_commune, code_postal, Lieu_dit, gps_latitude, gps_longitude) VALUES ('LES AVIRONS',97425,,-21.209718395,55.358631255);\n",
        "INSERT INTO city_repository (nom_commune, code_postal, Lieu_dit, gps_latitude, gps_longitude) VALUES ('LES AVIRONS',97425,'TEVELAVE',-21.209718395,55.358631255);\n",
        "INSERT INTO city_repository (nom_commune, code_postal, Lieu_dit, gps_latitude, gps_longitude) VALUES ('ST LEU',97424,'LE PITON ST LEU',-21.166060117,55.333293615\n",
        "INSERT INTO city_repository (nom_commune, code_postal, Lieu_dit, gps_latitude, gps_longitude) VALUES ('ST LEU',97424,'LE PLATE',-21.166060117,55.333293615);\n",
        "INSERT INTO city_repository (nom_commune, code_postal, Lieu_dit, gps_latitude, gps_longitude) VALUES ('ST PAUL',97423,'LE GUILLAUME',-21.044520611,55.322330771);\n",
        "INSERT INTO city_repository (nom_commune, code_postal, Lieu_dit, gps_latitude, gps_longitude) VALUES ('ST PAUL',97422,'LA SALINE',-21.044520611,55.322330771);\n",
        "INSERT INTO city_repository (nom_commune, code_postal, Lieu_dit, gps_latitude, gps_longitude) VALUES ('ST LOUIS',97421,'LA RIVIERE',-21.233608573,55.421584199);\n",
        "INSERT INTO city_repository (nom_commune, code_postal, Lieu_dit, gps_latitude, gps_longitude) VALUES ('ST LOUIS',97421,'LES MAKES',-21.233608573,55.421584199);\n",
        "INSERT INTO city_repository (nom_commune, code_postal, Lieu_dit, gps_latitude, gps_longitude) VALUES ('LE PORT',97420,'LE PORT MARINE',-20.944125682,55.304499605);\n",
        "INSERT INTO city_repository (nom_commune, code_postal, Lieu_dit, gps_latitude, gps_longitude) VALUES ('LE PORT',97420,'LE PORT ZUP',-20.944125682,55.304499605);\n",
        "INSERT INTO city_repository (nom_commune, code_postal, Lieu_dit, gps_latitude, gps_longitude) VALUES ('LE PORT',97420,,-20.944125682,55.304499605);\n",
        "INSERT INTO city_repository (nom_commune, code_postal, Lieu_dit, gps_latitude, gps_longitude) VALUES ('LA POSSESSION',97419,,-20.994208353,55.397683708);\n",
        "INSERT INTO city_repository (nom_commune, code_postal, Lieu_dit, gps_latitude, gps_longitude) VALUES ('LA POSSESSION',97419,'LE DOS D ANE',-20.994208353,55.397683708);\n",
        "INSERT INTO city_repository (nom_commune, code_postal, Lieu_dit, gps_latitude, gps_longitude) VALUES ('LA POSSESSION',97419,'STE THERESE',-20.994208353,55.397683708);\n",
        "INSERT INTO city_repository (nom_commune, code_postal, Lieu_dit, gps_latitude, gps_longitude) VALUES ('LA POSSESSION',97419,'LA RIVIERE DES GALETS',-20.994208353,55.397683708);\n",
        "INSERT INTO city_repository (nom_commune, code_postal, Lieu_dit, gps_latitude, gps_longitude) VALUES ('LE TAMPON',97418,'LA PLAINE DES CAFRES',-21.223167157,55.558552873);\n",
        "INSERT INTO city_repository (nom_commune, code_postal, Lieu_dit, gps_latitude, gps_longitude) VALUES ('LE TAMPON',97418,'TAMPON 17EME KM',-21.223167157,55.558552873);\n",
        "INSERT INTO city_repository (nom_commune, code_postal, Lieu_dit, gps_latitude, gps_longitude) VALUES ('ST DENIS',97417,'ST BERNARD',-20.933029099,55.446977555);\n",
        "INSERT INTO city_repository (nom_commune, code_postal, Lieu_dit, gps_latitude, gps_longitude) VALUES ('ST DENIS',97417,'LA MONTAGNE',-20.933029099,55.446977555);\n",
        "INSERT INTO city_repository (nom_commune, code_postal, Lieu_dit, gps_latitude, gps_longitude) VALUES ('ST LEU',97416,'LA CHALOUPE',-21.166060117,55.333293615);\n",
        "INSERT INTO city_repository (nom_commune, code_postal, Lieu_dit, gps_latitude, gps_longitude) VALUES ('ENTRE DEUX',97414,,-21.204038195,55.492359292);\n",
        "INSERT INTO city_repository (nom_commune, code_postal, Lieu_dit, gps_latitude, gps_longitude) VALUES ('CILAOS',97413,'PALMISTE ROUGE',-21.143838284,55.458799844);\n",
        "INSERT INTO city_repository (nom_commune, code_postal, Lieu_dit, gps_latitude, gps_longitude) VALUES ('CILAOS',97413,,-21.143838284,55.458799844);\n",
        "INSERT INTO city_repository (nom_commune, code_postal, Lieu_dit, gps_latitude, gps_longitude) VALUES ('BRAS PANON',97412,,-21.023321429,55.619750752);\n",
        "INSERT INTO city_repository (nom_commune, code_postal, Lieu_dit, gps_latitude, gps_longitude) VALUES ('BRAS PANON',97412,'RIVIERE DU MAT',-21.023321429,55.619750752);\n",
        "INSERT INTO city_repository (nom_commune, code_postal, Lieu_dit, gps_latitude, gps_longitude) VALUES ('ST PAUL',97411,'BOIS DE NEFLES ST PAUL',-21.044520611,55.322330771);\n",
        "INSERT INTO city_repository (nom_commune, code_postal, Lieu_dit, gps_latitude, gps_longitude) VALUES ('ST PIERRE',97410,,-21.312265663,55.49381116);\n",
        "INSERT INTO city_repository (nom_commune, code_postal, Lieu_dit, gps_latitude, gps_longitude) VALUES ('ST PIERRE',97410,'BASSE TERRE',-21.312265663,55.49381116);\n",
        "INSERT INTO city_repository (nom_commune, code_postal, Lieu_dit, gps_latitude, gps_longitude) VALUES ('ST PIERRE',97410,'GRAND BOIS',-21.312265663,55.49381116);\n",
        "INSERT INTO city_repository (nom_commune, code_postal, Lieu_dit, gps_latitude, gps_longitude) VALUES ('ST PIERRE',97410,'TERRE SAINTE',-21.312265663,55.49381116);\n",
        "INSERT INTO city_repository (nom_commune, code_postal, Lieu_dit, gps_latitude, gps_longitude) VALUES ('ST PIERRE',97410,'MONT VERT',-21.312265663,55.49381116);\n",
        "INSERT INTO city_repository (nom_commune, code_postal, Lieu_dit, gps_latitude, gps_longitude) VALUES ('ST PIERRE',97410,'RAVINE BLANCHE',-21.312265663,55.49381116);\n",
        "INSERT INTO city_repository (nom_commune, code_postal, Lieu_dit, gps_latitude, gps_longitude) VALUES ('ST DENIS',97400,,-20.933029099,55.446977555);\n",
        "INSERT INTO city_repository (nom_commune, code_postal, Lieu_dit, gps_latitude, gps_longitude) VALUES ('ST DENIS',97400,'ST DENIS CAMELIAS',-20.933029099,55.446977555);\n",
        "INSERT INTO city_repository (nom_commune, code_postal, Lieu_dit, gps_latitude, gps_longitude) VALUES ('ST DENIS',97400,'LE BRULE',-20.933029099,55.446977555);\n",
        "INSERT INTO city_repository (nom_commune, code_postal, Lieu_dit, gps_latitude, gps_longitude) VALUES ('ST DENIS',97400,'BELLE PIERRE',-20.933029099,55.446977555);\n",
        "INSERT INTO city_repository (nom_commune, code_postal, Lieu_dit, gps_latitude, gps_longitude) VALUES ('ST DENIS',97400,'ST FRANCOIS',-20.933029099,55.446977555);\n",
        "INSERT INTO city_repository (nom_commune, code_postal, Lieu_dit, gps_latitude, gps_longitude) VALUES ('ST DENIS',97400,'ST DENIS TADAR',-20.933029099,55.446977555);"
      ],
      "metadata": {
        "id": "zznARae-4Pz-"
      },
      "execution_count": null,
      "outputs": []
    },
    {
      "cell_type": "markdown",
      "source": [
        "Import des données, soit par l'intermédiaire d'un fichier puis d'un dataframe (correspondance des nomps de colonnes) :"
      ],
      "metadata": {
        "id": "loLJgywI1MqQ"
      }
    },
    {
      "cell_type": "code",
      "source": [
        "File_uploaded = files.upload()"
      ],
      "metadata": {
        "colab": {
          "base_uri": "https://localhost:8080/",
          "height": 75
        },
        "id": "MiYuA74eOao3",
        "outputId": "93f3263c-b92c-4457-b947-891839eb531f"
      },
      "execution_count": 10,
      "outputs": [
        {
          "output_type": "display_data",
          "data": {
            "text/plain": [
              "<IPython.core.display.HTML object>"
            ],
            "text/html": [
              "\n",
              "     <input type=\"file\" id=\"files-1b72a15c-86fd-4a15-9b36-102c75a838e1\" name=\"files[]\" multiple disabled\n",
              "        style=\"border:none\" />\n",
              "     <output id=\"result-1b72a15c-86fd-4a15-9b36-102c75a838e1\">\n",
              "      Upload widget is only available when the cell has been executed in the\n",
              "      current browser session. Please rerun this cell to enable.\n",
              "      </output>\n",
              "      <script>// Copyright 2017 Google LLC\n",
              "//\n",
              "// Licensed under the Apache License, Version 2.0 (the \"License\");\n",
              "// you may not use this file except in compliance with the License.\n",
              "// You may obtain a copy of the License at\n",
              "//\n",
              "//      http://www.apache.org/licenses/LICENSE-2.0\n",
              "//\n",
              "// Unless required by applicable law or agreed to in writing, software\n",
              "// distributed under the License is distributed on an \"AS IS\" BASIS,\n",
              "// WITHOUT WARRANTIES OR CONDITIONS OF ANY KIND, either express or implied.\n",
              "// See the License for the specific language governing permissions and\n",
              "// limitations under the License.\n",
              "\n",
              "/**\n",
              " * @fileoverview Helpers for google.colab Python module.\n",
              " */\n",
              "(function(scope) {\n",
              "function span(text, styleAttributes = {}) {\n",
              "  const element = document.createElement('span');\n",
              "  element.textContent = text;\n",
              "  for (const key of Object.keys(styleAttributes)) {\n",
              "    element.style[key] = styleAttributes[key];\n",
              "  }\n",
              "  return element;\n",
              "}\n",
              "\n",
              "// Max number of bytes which will be uploaded at a time.\n",
              "const MAX_PAYLOAD_SIZE = 100 * 1024;\n",
              "\n",
              "function _uploadFiles(inputId, outputId) {\n",
              "  const steps = uploadFilesStep(inputId, outputId);\n",
              "  const outputElement = document.getElementById(outputId);\n",
              "  // Cache steps on the outputElement to make it available for the next call\n",
              "  // to uploadFilesContinue from Python.\n",
              "  outputElement.steps = steps;\n",
              "\n",
              "  return _uploadFilesContinue(outputId);\n",
              "}\n",
              "\n",
              "// This is roughly an async generator (not supported in the browser yet),\n",
              "// where there are multiple asynchronous steps and the Python side is going\n",
              "// to poll for completion of each step.\n",
              "// This uses a Promise to block the python side on completion of each step,\n",
              "// then passes the result of the previous step as the input to the next step.\n",
              "function _uploadFilesContinue(outputId) {\n",
              "  const outputElement = document.getElementById(outputId);\n",
              "  const steps = outputElement.steps;\n",
              "\n",
              "  const next = steps.next(outputElement.lastPromiseValue);\n",
              "  return Promise.resolve(next.value.promise).then((value) => {\n",
              "    // Cache the last promise value to make it available to the next\n",
              "    // step of the generator.\n",
              "    outputElement.lastPromiseValue = value;\n",
              "    return next.value.response;\n",
              "  });\n",
              "}\n",
              "\n",
              "/**\n",
              " * Generator function which is called between each async step of the upload\n",
              " * process.\n",
              " * @param {string} inputId Element ID of the input file picker element.\n",
              " * @param {string} outputId Element ID of the output display.\n",
              " * @return {!Iterable<!Object>} Iterable of next steps.\n",
              " */\n",
              "function* uploadFilesStep(inputId, outputId) {\n",
              "  const inputElement = document.getElementById(inputId);\n",
              "  inputElement.disabled = false;\n",
              "\n",
              "  const outputElement = document.getElementById(outputId);\n",
              "  outputElement.innerHTML = '';\n",
              "\n",
              "  const pickedPromise = new Promise((resolve) => {\n",
              "    inputElement.addEventListener('change', (e) => {\n",
              "      resolve(e.target.files);\n",
              "    });\n",
              "  });\n",
              "\n",
              "  const cancel = document.createElement('button');\n",
              "  inputElement.parentElement.appendChild(cancel);\n",
              "  cancel.textContent = 'Cancel upload';\n",
              "  const cancelPromise = new Promise((resolve) => {\n",
              "    cancel.onclick = () => {\n",
              "      resolve(null);\n",
              "    };\n",
              "  });\n",
              "\n",
              "  // Wait for the user to pick the files.\n",
              "  const files = yield {\n",
              "    promise: Promise.race([pickedPromise, cancelPromise]),\n",
              "    response: {\n",
              "      action: 'starting',\n",
              "    }\n",
              "  };\n",
              "\n",
              "  cancel.remove();\n",
              "\n",
              "  // Disable the input element since further picks are not allowed.\n",
              "  inputElement.disabled = true;\n",
              "\n",
              "  if (!files) {\n",
              "    return {\n",
              "      response: {\n",
              "        action: 'complete',\n",
              "      }\n",
              "    };\n",
              "  }\n",
              "\n",
              "  for (const file of files) {\n",
              "    const li = document.createElement('li');\n",
              "    li.append(span(file.name, {fontWeight: 'bold'}));\n",
              "    li.append(span(\n",
              "        `(${file.type || 'n/a'}) - ${file.size} bytes, ` +\n",
              "        `last modified: ${\n",
              "            file.lastModifiedDate ? file.lastModifiedDate.toLocaleDateString() :\n",
              "                                    'n/a'} - `));\n",
              "    const percent = span('0% done');\n",
              "    li.appendChild(percent);\n",
              "\n",
              "    outputElement.appendChild(li);\n",
              "\n",
              "    const fileDataPromise = new Promise((resolve) => {\n",
              "      const reader = new FileReader();\n",
              "      reader.onload = (e) => {\n",
              "        resolve(e.target.result);\n",
              "      };\n",
              "      reader.readAsArrayBuffer(file);\n",
              "    });\n",
              "    // Wait for the data to be ready.\n",
              "    let fileData = yield {\n",
              "      promise: fileDataPromise,\n",
              "      response: {\n",
              "        action: 'continue',\n",
              "      }\n",
              "    };\n",
              "\n",
              "    // Use a chunked sending to avoid message size limits. See b/62115660.\n",
              "    let position = 0;\n",
              "    do {\n",
              "      const length = Math.min(fileData.byteLength - position, MAX_PAYLOAD_SIZE);\n",
              "      const chunk = new Uint8Array(fileData, position, length);\n",
              "      position += length;\n",
              "\n",
              "      const base64 = btoa(String.fromCharCode.apply(null, chunk));\n",
              "      yield {\n",
              "        response: {\n",
              "          action: 'append',\n",
              "          file: file.name,\n",
              "          data: base64,\n",
              "        },\n",
              "      };\n",
              "\n",
              "      let percentDone = fileData.byteLength === 0 ?\n",
              "          100 :\n",
              "          Math.round((position / fileData.byteLength) * 100);\n",
              "      percent.textContent = `${percentDone}% done`;\n",
              "\n",
              "    } while (position < fileData.byteLength);\n",
              "  }\n",
              "\n",
              "  // All done.\n",
              "  yield {\n",
              "    response: {\n",
              "      action: 'complete',\n",
              "    }\n",
              "  };\n",
              "}\n",
              "\n",
              "scope.google = scope.google || {};\n",
              "scope.google.colab = scope.google.colab || {};\n",
              "scope.google.colab._files = {\n",
              "  _uploadFiles,\n",
              "  _uploadFilesContinue,\n",
              "};\n",
              "})(self);\n",
              "</script> "
            ]
          },
          "metadata": {}
        },
        {
          "output_type": "stream",
          "name": "stdout",
          "text": [
            "Saving city_repository.csv to city_repository.csv\n"
          ]
        }
      ]
    },
    {
      "cell_type": "code",
      "source": [
        "import_city_repository = pd.read_csv(io.BytesIO(File_uploaded['city_repository.csv']))"
      ],
      "metadata": {
        "id": "JCoMyRb358dL"
      },
      "execution_count": 11,
      "outputs": []
    },
    {
      "cell_type": "code",
      "source": [
        "import_city_repository.to_sql('city_repository', conn, if_exists='append', index=False)"
      ],
      "metadata": {
        "id": "7y0L_Vv98NPy"
      },
      "execution_count": 12,
      "outputs": []
    },
    {
      "cell_type": "markdown",
      "source": [
        "Vérifications"
      ],
      "metadata": {
        "id": "bGSkTpeR54ZX"
      }
    },
    {
      "cell_type": "code",
      "source": [
        "import_city_repository.head()"
      ],
      "metadata": {
        "colab": {
          "base_uri": "https://localhost:8080/",
          "height": 207
        },
        "id": "RAEP132D7bUe",
        "outputId": "29e63fa1-85bb-48ae-92f3-5fd1f3db01a5"
      },
      "execution_count": 13,
      "outputs": [
        {
          "output_type": "execute_result",
          "data": {
            "text/plain": [
              "  nom_commune  code_postal                 Lieu_dit  gps_latitude  \\\n",
              "0    ST DENIS        97490  BOIS DE NEFLES ST DENIS    -20.933029   \n",
              "1    ST DENIS        97490        ST DENIS CHAUDRON    -20.933029   \n",
              "2    ST DENIS        97490              LA BRETAGNE    -20.933029   \n",
              "3    ST DENIS        97490                   MOUFIA    -20.933029   \n",
              "4    ST DENIS        97490             STE CLOTILDE    -20.933029   \n",
              "\n",
              "   gps_longitude  \n",
              "0      55.446978  \n",
              "1      55.446978  \n",
              "2      55.446978  \n",
              "3      55.446978  \n",
              "4      55.446978  "
            ],
            "text/html": [
              "\n",
              "  <div id=\"df-4fe0fe33-66c4-47b1-80da-cb2deffc6ccb\">\n",
              "    <div class=\"colab-df-container\">\n",
              "      <div>\n",
              "<style scoped>\n",
              "    .dataframe tbody tr th:only-of-type {\n",
              "        vertical-align: middle;\n",
              "    }\n",
              "\n",
              "    .dataframe tbody tr th {\n",
              "        vertical-align: top;\n",
              "    }\n",
              "\n",
              "    .dataframe thead th {\n",
              "        text-align: right;\n",
              "    }\n",
              "</style>\n",
              "<table border=\"1\" class=\"dataframe\">\n",
              "  <thead>\n",
              "    <tr style=\"text-align: right;\">\n",
              "      <th></th>\n",
              "      <th>nom_commune</th>\n",
              "      <th>code_postal</th>\n",
              "      <th>Lieu_dit</th>\n",
              "      <th>gps_latitude</th>\n",
              "      <th>gps_longitude</th>\n",
              "    </tr>\n",
              "  </thead>\n",
              "  <tbody>\n",
              "    <tr>\n",
              "      <th>0</th>\n",
              "      <td>ST DENIS</td>\n",
              "      <td>97490</td>\n",
              "      <td>BOIS DE NEFLES ST DENIS</td>\n",
              "      <td>-20.933029</td>\n",
              "      <td>55.446978</td>\n",
              "    </tr>\n",
              "    <tr>\n",
              "      <th>1</th>\n",
              "      <td>ST DENIS</td>\n",
              "      <td>97490</td>\n",
              "      <td>ST DENIS CHAUDRON</td>\n",
              "      <td>-20.933029</td>\n",
              "      <td>55.446978</td>\n",
              "    </tr>\n",
              "    <tr>\n",
              "      <th>2</th>\n",
              "      <td>ST DENIS</td>\n",
              "      <td>97490</td>\n",
              "      <td>LA BRETAGNE</td>\n",
              "      <td>-20.933029</td>\n",
              "      <td>55.446978</td>\n",
              "    </tr>\n",
              "    <tr>\n",
              "      <th>3</th>\n",
              "      <td>ST DENIS</td>\n",
              "      <td>97490</td>\n",
              "      <td>MOUFIA</td>\n",
              "      <td>-20.933029</td>\n",
              "      <td>55.446978</td>\n",
              "    </tr>\n",
              "    <tr>\n",
              "      <th>4</th>\n",
              "      <td>ST DENIS</td>\n",
              "      <td>97490</td>\n",
              "      <td>STE CLOTILDE</td>\n",
              "      <td>-20.933029</td>\n",
              "      <td>55.446978</td>\n",
              "    </tr>\n",
              "  </tbody>\n",
              "</table>\n",
              "</div>\n",
              "      <button class=\"colab-df-convert\" onclick=\"convertToInteractive('df-4fe0fe33-66c4-47b1-80da-cb2deffc6ccb')\"\n",
              "              title=\"Convert this dataframe to an interactive table.\"\n",
              "              style=\"display:none;\">\n",
              "        \n",
              "  <svg xmlns=\"http://www.w3.org/2000/svg\" height=\"24px\"viewBox=\"0 0 24 24\"\n",
              "       width=\"24px\">\n",
              "    <path d=\"M0 0h24v24H0V0z\" fill=\"none\"/>\n",
              "    <path d=\"M18.56 5.44l.94 2.06.94-2.06 2.06-.94-2.06-.94-.94-2.06-.94 2.06-2.06.94zm-11 1L8.5 8.5l.94-2.06 2.06-.94-2.06-.94L8.5 2.5l-.94 2.06-2.06.94zm10 10l.94 2.06.94-2.06 2.06-.94-2.06-.94-.94-2.06-.94 2.06-2.06.94z\"/><path d=\"M17.41 7.96l-1.37-1.37c-.4-.4-.92-.59-1.43-.59-.52 0-1.04.2-1.43.59L10.3 9.45l-7.72 7.72c-.78.78-.78 2.05 0 2.83L4 21.41c.39.39.9.59 1.41.59.51 0 1.02-.2 1.41-.59l7.78-7.78 2.81-2.81c.8-.78.8-2.07 0-2.86zM5.41 20L4 18.59l7.72-7.72 1.47 1.35L5.41 20z\"/>\n",
              "  </svg>\n",
              "      </button>\n",
              "      \n",
              "  <style>\n",
              "    .colab-df-container {\n",
              "      display:flex;\n",
              "      flex-wrap:wrap;\n",
              "      gap: 12px;\n",
              "    }\n",
              "\n",
              "    .colab-df-convert {\n",
              "      background-color: #E8F0FE;\n",
              "      border: none;\n",
              "      border-radius: 50%;\n",
              "      cursor: pointer;\n",
              "      display: none;\n",
              "      fill: #1967D2;\n",
              "      height: 32px;\n",
              "      padding: 0 0 0 0;\n",
              "      width: 32px;\n",
              "    }\n",
              "\n",
              "    .colab-df-convert:hover {\n",
              "      background-color: #E2EBFA;\n",
              "      box-shadow: 0px 1px 2px rgba(60, 64, 67, 0.3), 0px 1px 3px 1px rgba(60, 64, 67, 0.15);\n",
              "      fill: #174EA6;\n",
              "    }\n",
              "\n",
              "    [theme=dark] .colab-df-convert {\n",
              "      background-color: #3B4455;\n",
              "      fill: #D2E3FC;\n",
              "    }\n",
              "\n",
              "    [theme=dark] .colab-df-convert:hover {\n",
              "      background-color: #434B5C;\n",
              "      box-shadow: 0px 1px 3px 1px rgba(0, 0, 0, 0.15);\n",
              "      filter: drop-shadow(0px 1px 2px rgba(0, 0, 0, 0.3));\n",
              "      fill: #FFFFFF;\n",
              "    }\n",
              "  </style>\n",
              "\n",
              "      <script>\n",
              "        const buttonEl =\n",
              "          document.querySelector('#df-4fe0fe33-66c4-47b1-80da-cb2deffc6ccb button.colab-df-convert');\n",
              "        buttonEl.style.display =\n",
              "          google.colab.kernel.accessAllowed ? 'block' : 'none';\n",
              "\n",
              "        async function convertToInteractive(key) {\n",
              "          const element = document.querySelector('#df-4fe0fe33-66c4-47b1-80da-cb2deffc6ccb');\n",
              "          const dataTable =\n",
              "            await google.colab.kernel.invokeFunction('convertToInteractive',\n",
              "                                                     [key], {});\n",
              "          if (!dataTable) return;\n",
              "\n",
              "          const docLinkHtml = 'Like what you see? Visit the ' +\n",
              "            '<a target=\"_blank\" href=https://colab.research.google.com/notebooks/data_table.ipynb>data table notebook</a>'\n",
              "            + ' to learn more about interactive tables.';\n",
              "          element.innerHTML = '';\n",
              "          dataTable['output_type'] = 'display_data';\n",
              "          await google.colab.output.renderOutput(dataTable, element);\n",
              "          const docLink = document.createElement('div');\n",
              "          docLink.innerHTML = docLinkHtml;\n",
              "          element.appendChild(docLink);\n",
              "        }\n",
              "      </script>\n",
              "    </div>\n",
              "  </div>\n",
              "  "
            ]
          },
          "metadata": {},
          "execution_count": 13
        }
      ]
    },
    {
      "cell_type": "code",
      "source": [
        "import_city_repository.count()"
      ],
      "metadata": {
        "colab": {
          "base_uri": "https://localhost:8080/"
        },
        "id": "j-RAqIiy3q6K",
        "outputId": "455925f4-83be-4fa9-87ae-db288d771168"
      },
      "execution_count": 16,
      "outputs": [
        {
          "output_type": "execute_result",
          "data": {
            "text/plain": [
              "nom_commune      85\n",
              "code_postal      85\n",
              "Lieu_dit         61\n",
              "gps_latitude     85\n",
              "gps_longitude    85\n",
              "dtype: int64"
            ]
          },
          "metadata": {},
          "execution_count": 16
        }
      ]
    },
    {
      "cell_type": "code",
      "source": [
        "%%sql\n",
        "SELECT * FROM city_repository\n",
        "LIMIT 5\n",
        "/* delete from city_repository */"
      ],
      "metadata": {
        "colab": {
          "base_uri": "https://localhost:8080/",
          "height": 165
        },
        "id": "23v0X_xi5CgR",
        "outputId": "bc24f77e-0523-40d8-aaf8-d64ecd00beab"
      },
      "execution_count": 14,
      "outputs": [
        {
          "output_type": "stream",
          "name": "stdout",
          "text": [
            " * sqlite:///Itineraires.db\n"
          ]
        },
        {
          "output_type": "execute_result",
          "data": {
            "text/plain": [
              "[(1, 'ST DENIS', 97490, 'BOIS DE NEFLES ST DENIS', -20.933029099, 55.446977555, '2023-02-09 15:49:13'),\n",
              " (2, 'ST DENIS', 97490, 'ST DENIS CHAUDRON', -20.933029099, 55.446977555, '2023-02-09 15:49:13'),\n",
              " (3, 'ST DENIS', 97490, 'LA BRETAGNE', -20.933029099, 55.446977555, '2023-02-09 15:49:13'),\n",
              " (4, 'ST DENIS', 97490, 'MOUFIA', -20.933029099, 55.446977555, '2023-02-09 15:49:13'),\n",
              " (5, 'ST DENIS', 97490, 'STE CLOTILDE', -20.933029099, 55.446977555, '2023-02-09 15:49:13')]"
            ],
            "text/html": [
              "<table>\n",
              "    <thead>\n",
              "        <tr>\n",
              "            <th>city_id</th>\n",
              "            <th>nom_commune</th>\n",
              "            <th>code_postal</th>\n",
              "            <th>Lieu_dit</th>\n",
              "            <th>gps_latitude</th>\n",
              "            <th>gps_longitude</th>\n",
              "            <th>Date_maj</th>\n",
              "        </tr>\n",
              "    </thead>\n",
              "    <tbody>\n",
              "        <tr>\n",
              "            <td>1</td>\n",
              "            <td>ST DENIS</td>\n",
              "            <td>97490</td>\n",
              "            <td>BOIS DE NEFLES ST DENIS</td>\n",
              "            <td>-20.933029099</td>\n",
              "            <td>55.446977555</td>\n",
              "            <td>2023-02-09 15:49:13</td>\n",
              "        </tr>\n",
              "        <tr>\n",
              "            <td>2</td>\n",
              "            <td>ST DENIS</td>\n",
              "            <td>97490</td>\n",
              "            <td>ST DENIS CHAUDRON</td>\n",
              "            <td>-20.933029099</td>\n",
              "            <td>55.446977555</td>\n",
              "            <td>2023-02-09 15:49:13</td>\n",
              "        </tr>\n",
              "        <tr>\n",
              "            <td>3</td>\n",
              "            <td>ST DENIS</td>\n",
              "            <td>97490</td>\n",
              "            <td>LA BRETAGNE</td>\n",
              "            <td>-20.933029099</td>\n",
              "            <td>55.446977555</td>\n",
              "            <td>2023-02-09 15:49:13</td>\n",
              "        </tr>\n",
              "        <tr>\n",
              "            <td>4</td>\n",
              "            <td>ST DENIS</td>\n",
              "            <td>97490</td>\n",
              "            <td>MOUFIA</td>\n",
              "            <td>-20.933029099</td>\n",
              "            <td>55.446977555</td>\n",
              "            <td>2023-02-09 15:49:13</td>\n",
              "        </tr>\n",
              "        <tr>\n",
              "            <td>5</td>\n",
              "            <td>ST DENIS</td>\n",
              "            <td>97490</td>\n",
              "            <td>STE CLOTILDE</td>\n",
              "            <td>-20.933029099</td>\n",
              "            <td>55.446977555</td>\n",
              "            <td>2023-02-09 15:49:13</td>\n",
              "        </tr>\n",
              "    </tbody>\n",
              "</table>"
            ]
          },
          "metadata": {},
          "execution_count": 14
        }
      ]
    },
    {
      "cell_type": "code",
      "source": [
        "%%sql\n",
        "SELECT COUNT(*) FROM city_repository"
      ],
      "metadata": {
        "colab": {
          "base_uri": "https://localhost:8080/",
          "height": 80
        },
        "id": "2zVun5Fx3hTX",
        "outputId": "c128153b-b1fa-41cc-c5a9-4fd89e7175f7"
      },
      "execution_count": 15,
      "outputs": [
        {
          "output_type": "stream",
          "name": "stdout",
          "text": [
            " * sqlite:///Itineraires.db\n"
          ]
        },
        {
          "output_type": "execute_result",
          "data": {
            "text/plain": [
              "[(85,)]"
            ],
            "text/html": [
              "<table>\n",
              "    <thead>\n",
              "        <tr>\n",
              "            <th>COUNT(*)</th>\n",
              "        </tr>\n",
              "    </thead>\n",
              "    <tbody>\n",
              "        <tr>\n",
              "            <td>85</td>\n",
              "        </tr>\n",
              "    </tbody>\n",
              "</table>"
            ]
          },
          "metadata": {},
          "execution_count": 15
        }
      ]
    },
    {
      "cell_type": "markdown",
      "source": [
        "===================================\n",
        "Chargement des données POI - les tables sont crées depuis leurs dataframes."
      ],
      "metadata": {
        "id": "tOAaVvNaocbe"
      }
    },
    {
      "cell_type": "markdown",
      "source": [
        "Dataframe/table du fichier reunion_clean.csv"
      ],
      "metadata": {
        "id": "6IKhqpL19pzJ"
      }
    },
    {
      "cell_type": "code",
      "source": [
        "File_uploaded = files.upload()"
      ],
      "metadata": {
        "colab": {
          "base_uri": "https://localhost:8080/",
          "height": 75
        },
        "id": "8S3ZF4Bzo2Rg",
        "outputId": "5900ad20-c7d2-4e13-f3a8-c3beccd5f55c"
      },
      "execution_count": 18,
      "outputs": [
        {
          "output_type": "display_data",
          "data": {
            "text/plain": [
              "<IPython.core.display.HTML object>"
            ],
            "text/html": [
              "\n",
              "     <input type=\"file\" id=\"files-1fa5056f-914a-421b-82f0-f6c45280b52b\" name=\"files[]\" multiple disabled\n",
              "        style=\"border:none\" />\n",
              "     <output id=\"result-1fa5056f-914a-421b-82f0-f6c45280b52b\">\n",
              "      Upload widget is only available when the cell has been executed in the\n",
              "      current browser session. Please rerun this cell to enable.\n",
              "      </output>\n",
              "      <script>// Copyright 2017 Google LLC\n",
              "//\n",
              "// Licensed under the Apache License, Version 2.0 (the \"License\");\n",
              "// you may not use this file except in compliance with the License.\n",
              "// You may obtain a copy of the License at\n",
              "//\n",
              "//      http://www.apache.org/licenses/LICENSE-2.0\n",
              "//\n",
              "// Unless required by applicable law or agreed to in writing, software\n",
              "// distributed under the License is distributed on an \"AS IS\" BASIS,\n",
              "// WITHOUT WARRANTIES OR CONDITIONS OF ANY KIND, either express or implied.\n",
              "// See the License for the specific language governing permissions and\n",
              "// limitations under the License.\n",
              "\n",
              "/**\n",
              " * @fileoverview Helpers for google.colab Python module.\n",
              " */\n",
              "(function(scope) {\n",
              "function span(text, styleAttributes = {}) {\n",
              "  const element = document.createElement('span');\n",
              "  element.textContent = text;\n",
              "  for (const key of Object.keys(styleAttributes)) {\n",
              "    element.style[key] = styleAttributes[key];\n",
              "  }\n",
              "  return element;\n",
              "}\n",
              "\n",
              "// Max number of bytes which will be uploaded at a time.\n",
              "const MAX_PAYLOAD_SIZE = 100 * 1024;\n",
              "\n",
              "function _uploadFiles(inputId, outputId) {\n",
              "  const steps = uploadFilesStep(inputId, outputId);\n",
              "  const outputElement = document.getElementById(outputId);\n",
              "  // Cache steps on the outputElement to make it available for the next call\n",
              "  // to uploadFilesContinue from Python.\n",
              "  outputElement.steps = steps;\n",
              "\n",
              "  return _uploadFilesContinue(outputId);\n",
              "}\n",
              "\n",
              "// This is roughly an async generator (not supported in the browser yet),\n",
              "// where there are multiple asynchronous steps and the Python side is going\n",
              "// to poll for completion of each step.\n",
              "// This uses a Promise to block the python side on completion of each step,\n",
              "// then passes the result of the previous step as the input to the next step.\n",
              "function _uploadFilesContinue(outputId) {\n",
              "  const outputElement = document.getElementById(outputId);\n",
              "  const steps = outputElement.steps;\n",
              "\n",
              "  const next = steps.next(outputElement.lastPromiseValue);\n",
              "  return Promise.resolve(next.value.promise).then((value) => {\n",
              "    // Cache the last promise value to make it available to the next\n",
              "    // step of the generator.\n",
              "    outputElement.lastPromiseValue = value;\n",
              "    return next.value.response;\n",
              "  });\n",
              "}\n",
              "\n",
              "/**\n",
              " * Generator function which is called between each async step of the upload\n",
              " * process.\n",
              " * @param {string} inputId Element ID of the input file picker element.\n",
              " * @param {string} outputId Element ID of the output display.\n",
              " * @return {!Iterable<!Object>} Iterable of next steps.\n",
              " */\n",
              "function* uploadFilesStep(inputId, outputId) {\n",
              "  const inputElement = document.getElementById(inputId);\n",
              "  inputElement.disabled = false;\n",
              "\n",
              "  const outputElement = document.getElementById(outputId);\n",
              "  outputElement.innerHTML = '';\n",
              "\n",
              "  const pickedPromise = new Promise((resolve) => {\n",
              "    inputElement.addEventListener('change', (e) => {\n",
              "      resolve(e.target.files);\n",
              "    });\n",
              "  });\n",
              "\n",
              "  const cancel = document.createElement('button');\n",
              "  inputElement.parentElement.appendChild(cancel);\n",
              "  cancel.textContent = 'Cancel upload';\n",
              "  const cancelPromise = new Promise((resolve) => {\n",
              "    cancel.onclick = () => {\n",
              "      resolve(null);\n",
              "    };\n",
              "  });\n",
              "\n",
              "  // Wait for the user to pick the files.\n",
              "  const files = yield {\n",
              "    promise: Promise.race([pickedPromise, cancelPromise]),\n",
              "    response: {\n",
              "      action: 'starting',\n",
              "    }\n",
              "  };\n",
              "\n",
              "  cancel.remove();\n",
              "\n",
              "  // Disable the input element since further picks are not allowed.\n",
              "  inputElement.disabled = true;\n",
              "\n",
              "  if (!files) {\n",
              "    return {\n",
              "      response: {\n",
              "        action: 'complete',\n",
              "      }\n",
              "    };\n",
              "  }\n",
              "\n",
              "  for (const file of files) {\n",
              "    const li = document.createElement('li');\n",
              "    li.append(span(file.name, {fontWeight: 'bold'}));\n",
              "    li.append(span(\n",
              "        `(${file.type || 'n/a'}) - ${file.size} bytes, ` +\n",
              "        `last modified: ${\n",
              "            file.lastModifiedDate ? file.lastModifiedDate.toLocaleDateString() :\n",
              "                                    'n/a'} - `));\n",
              "    const percent = span('0% done');\n",
              "    li.appendChild(percent);\n",
              "\n",
              "    outputElement.appendChild(li);\n",
              "\n",
              "    const fileDataPromise = new Promise((resolve) => {\n",
              "      const reader = new FileReader();\n",
              "      reader.onload = (e) => {\n",
              "        resolve(e.target.result);\n",
              "      };\n",
              "      reader.readAsArrayBuffer(file);\n",
              "    });\n",
              "    // Wait for the data to be ready.\n",
              "    let fileData = yield {\n",
              "      promise: fileDataPromise,\n",
              "      response: {\n",
              "        action: 'continue',\n",
              "      }\n",
              "    };\n",
              "\n",
              "    // Use a chunked sending to avoid message size limits. See b/62115660.\n",
              "    let position = 0;\n",
              "    do {\n",
              "      const length = Math.min(fileData.byteLength - position, MAX_PAYLOAD_SIZE);\n",
              "      const chunk = new Uint8Array(fileData, position, length);\n",
              "      position += length;\n",
              "\n",
              "      const base64 = btoa(String.fromCharCode.apply(null, chunk));\n",
              "      yield {\n",
              "        response: {\n",
              "          action: 'append',\n",
              "          file: file.name,\n",
              "          data: base64,\n",
              "        },\n",
              "      };\n",
              "\n",
              "      let percentDone = fileData.byteLength === 0 ?\n",
              "          100 :\n",
              "          Math.round((position / fileData.byteLength) * 100);\n",
              "      percent.textContent = `${percentDone}% done`;\n",
              "\n",
              "    } while (position < fileData.byteLength);\n",
              "  }\n",
              "\n",
              "  // All done.\n",
              "  yield {\n",
              "    response: {\n",
              "      action: 'complete',\n",
              "    }\n",
              "  };\n",
              "}\n",
              "\n",
              "scope.google = scope.google || {};\n",
              "scope.google.colab = scope.google.colab || {};\n",
              "scope.google.colab._files = {\n",
              "  _uploadFiles,\n",
              "  _uploadFilesContinue,\n",
              "};\n",
              "})(self);\n",
              "</script> "
            ]
          },
          "metadata": {}
        },
        {
          "output_type": "stream",
          "name": "stdout",
          "text": [
            "Saving reunion_clean.csv to reunion_clean.csv\n"
          ]
        }
      ]
    },
    {
      "cell_type": "code",
      "source": [
        "poi_reunion = pd.read_csv(io.BytesIO(File_uploaded['reunion_clean.csv']))"
      ],
      "metadata": {
        "id": "nzUJ26jb-JJ6"
      },
      "execution_count": 19,
      "outputs": []
    },
    {
      "cell_type": "code",
      "source": [
        "%sql persist poi_reunion"
      ],
      "metadata": {
        "colab": {
          "base_uri": "https://localhost:8080/",
          "height": 53
        },
        "id": "GWk528ZYBorK",
        "outputId": "44249f49-2987-4c43-94fb-37597c2312d7"
      },
      "execution_count": 20,
      "outputs": [
        {
          "output_type": "stream",
          "name": "stdout",
          "text": [
            " * sqlite:///Itineraires.db\n"
          ]
        },
        {
          "output_type": "execute_result",
          "data": {
            "text/plain": [
              "'Persisted poi_reunion'"
            ],
            "application/vnd.google.colaboratory.intrinsic+json": {
              "type": "string"
            }
          },
          "metadata": {},
          "execution_count": 20
        }
      ]
    },
    {
      "cell_type": "markdown",
      "source": [
        "Vérifications"
      ],
      "metadata": {
        "id": "MlZStGOnB0x9"
      }
    },
    {
      "cell_type": "code",
      "source": [
        "poi_reunion.count()"
      ],
      "metadata": {
        "colab": {
          "base_uri": "https://localhost:8080/"
        },
        "id": "C0S8dz6v-oIg",
        "outputId": "8b554076-0485-4bcd-b3b4-577621174ee4"
      },
      "execution_count": 21,
      "outputs": [
        {
          "output_type": "execute_result",
          "data": {
            "text/plain": [
              "ID                     1750\n",
              "Nom_du_POI             1750\n",
              "Latitude               1750\n",
              "Longitude              1750\n",
              "Adresse_postale        1655\n",
              "Date_de_mise_a_jour    1750\n",
              "Contacts_du_POI        1655\n",
              "Description              29\n",
              "region                 1750\n",
              "commune                1750\n",
              "code_postal            1750\n",
              "category_0             1743\n",
              "category_1             1224\n",
              "category_2               78\n",
              "dtype: int64"
            ]
          },
          "metadata": {},
          "execution_count": 21
        }
      ]
    },
    {
      "cell_type": "code",
      "source": [
        "%%sql\n",
        "SELECT count(*) FROM poi_reunion;"
      ],
      "metadata": {
        "colab": {
          "base_uri": "https://localhost:8080/",
          "height": 80
        },
        "id": "UrOSemPdCltn",
        "outputId": "aabf3759-30aa-455c-f162-a3f4bad10ade"
      },
      "execution_count": 22,
      "outputs": [
        {
          "output_type": "stream",
          "name": "stdout",
          "text": [
            " * sqlite:///Itineraires.db\n"
          ]
        },
        {
          "output_type": "execute_result",
          "data": {
            "text/plain": [
              "[(1750,)]"
            ],
            "text/html": [
              "<table>\n",
              "    <thead>\n",
              "        <tr>\n",
              "            <th>count(*)</th>\n",
              "        </tr>\n",
              "    </thead>\n",
              "    <tbody>\n",
              "        <tr>\n",
              "            <td>1750</td>\n",
              "        </tr>\n",
              "    </tbody>\n",
              "</table>"
            ]
          },
          "metadata": {},
          "execution_count": 22
        }
      ]
    },
    {
      "cell_type": "markdown",
      "source": [
        "Dataframe/table du fichier reunion_activity.csv"
      ],
      "metadata": {
        "id": "44sloxhTCiQK"
      }
    },
    {
      "cell_type": "code",
      "source": [
        "File_uploaded = files.upload()"
      ],
      "metadata": {
        "colab": {
          "base_uri": "https://localhost:8080/",
          "height": 75
        },
        "id": "rpu_ZrSTDy2r",
        "outputId": "e1c8751d-ae27-404b-bc96-fbc3bf0bf8d3"
      },
      "execution_count": 23,
      "outputs": [
        {
          "output_type": "display_data",
          "data": {
            "text/plain": [
              "<IPython.core.display.HTML object>"
            ],
            "text/html": [
              "\n",
              "     <input type=\"file\" id=\"files-e49f0ad9-2646-42c8-88bf-5664f2a0413d\" name=\"files[]\" multiple disabled\n",
              "        style=\"border:none\" />\n",
              "     <output id=\"result-e49f0ad9-2646-42c8-88bf-5664f2a0413d\">\n",
              "      Upload widget is only available when the cell has been executed in the\n",
              "      current browser session. Please rerun this cell to enable.\n",
              "      </output>\n",
              "      <script>// Copyright 2017 Google LLC\n",
              "//\n",
              "// Licensed under the Apache License, Version 2.0 (the \"License\");\n",
              "// you may not use this file except in compliance with the License.\n",
              "// You may obtain a copy of the License at\n",
              "//\n",
              "//      http://www.apache.org/licenses/LICENSE-2.0\n",
              "//\n",
              "// Unless required by applicable law or agreed to in writing, software\n",
              "// distributed under the License is distributed on an \"AS IS\" BASIS,\n",
              "// WITHOUT WARRANTIES OR CONDITIONS OF ANY KIND, either express or implied.\n",
              "// See the License for the specific language governing permissions and\n",
              "// limitations under the License.\n",
              "\n",
              "/**\n",
              " * @fileoverview Helpers for google.colab Python module.\n",
              " */\n",
              "(function(scope) {\n",
              "function span(text, styleAttributes = {}) {\n",
              "  const element = document.createElement('span');\n",
              "  element.textContent = text;\n",
              "  for (const key of Object.keys(styleAttributes)) {\n",
              "    element.style[key] = styleAttributes[key];\n",
              "  }\n",
              "  return element;\n",
              "}\n",
              "\n",
              "// Max number of bytes which will be uploaded at a time.\n",
              "const MAX_PAYLOAD_SIZE = 100 * 1024;\n",
              "\n",
              "function _uploadFiles(inputId, outputId) {\n",
              "  const steps = uploadFilesStep(inputId, outputId);\n",
              "  const outputElement = document.getElementById(outputId);\n",
              "  // Cache steps on the outputElement to make it available for the next call\n",
              "  // to uploadFilesContinue from Python.\n",
              "  outputElement.steps = steps;\n",
              "\n",
              "  return _uploadFilesContinue(outputId);\n",
              "}\n",
              "\n",
              "// This is roughly an async generator (not supported in the browser yet),\n",
              "// where there are multiple asynchronous steps and the Python side is going\n",
              "// to poll for completion of each step.\n",
              "// This uses a Promise to block the python side on completion of each step,\n",
              "// then passes the result of the previous step as the input to the next step.\n",
              "function _uploadFilesContinue(outputId) {\n",
              "  const outputElement = document.getElementById(outputId);\n",
              "  const steps = outputElement.steps;\n",
              "\n",
              "  const next = steps.next(outputElement.lastPromiseValue);\n",
              "  return Promise.resolve(next.value.promise).then((value) => {\n",
              "    // Cache the last promise value to make it available to the next\n",
              "    // step of the generator.\n",
              "    outputElement.lastPromiseValue = value;\n",
              "    return next.value.response;\n",
              "  });\n",
              "}\n",
              "\n",
              "/**\n",
              " * Generator function which is called between each async step of the upload\n",
              " * process.\n",
              " * @param {string} inputId Element ID of the input file picker element.\n",
              " * @param {string} outputId Element ID of the output display.\n",
              " * @return {!Iterable<!Object>} Iterable of next steps.\n",
              " */\n",
              "function* uploadFilesStep(inputId, outputId) {\n",
              "  const inputElement = document.getElementById(inputId);\n",
              "  inputElement.disabled = false;\n",
              "\n",
              "  const outputElement = document.getElementById(outputId);\n",
              "  outputElement.innerHTML = '';\n",
              "\n",
              "  const pickedPromise = new Promise((resolve) => {\n",
              "    inputElement.addEventListener('change', (e) => {\n",
              "      resolve(e.target.files);\n",
              "    });\n",
              "  });\n",
              "\n",
              "  const cancel = document.createElement('button');\n",
              "  inputElement.parentElement.appendChild(cancel);\n",
              "  cancel.textContent = 'Cancel upload';\n",
              "  const cancelPromise = new Promise((resolve) => {\n",
              "    cancel.onclick = () => {\n",
              "      resolve(null);\n",
              "    };\n",
              "  });\n",
              "\n",
              "  // Wait for the user to pick the files.\n",
              "  const files = yield {\n",
              "    promise: Promise.race([pickedPromise, cancelPromise]),\n",
              "    response: {\n",
              "      action: 'starting',\n",
              "    }\n",
              "  };\n",
              "\n",
              "  cancel.remove();\n",
              "\n",
              "  // Disable the input element since further picks are not allowed.\n",
              "  inputElement.disabled = true;\n",
              "\n",
              "  if (!files) {\n",
              "    return {\n",
              "      response: {\n",
              "        action: 'complete',\n",
              "      }\n",
              "    };\n",
              "  }\n",
              "\n",
              "  for (const file of files) {\n",
              "    const li = document.createElement('li');\n",
              "    li.append(span(file.name, {fontWeight: 'bold'}));\n",
              "    li.append(span(\n",
              "        `(${file.type || 'n/a'}) - ${file.size} bytes, ` +\n",
              "        `last modified: ${\n",
              "            file.lastModifiedDate ? file.lastModifiedDate.toLocaleDateString() :\n",
              "                                    'n/a'} - `));\n",
              "    const percent = span('0% done');\n",
              "    li.appendChild(percent);\n",
              "\n",
              "    outputElement.appendChild(li);\n",
              "\n",
              "    const fileDataPromise = new Promise((resolve) => {\n",
              "      const reader = new FileReader();\n",
              "      reader.onload = (e) => {\n",
              "        resolve(e.target.result);\n",
              "      };\n",
              "      reader.readAsArrayBuffer(file);\n",
              "    });\n",
              "    // Wait for the data to be ready.\n",
              "    let fileData = yield {\n",
              "      promise: fileDataPromise,\n",
              "      response: {\n",
              "        action: 'continue',\n",
              "      }\n",
              "    };\n",
              "\n",
              "    // Use a chunked sending to avoid message size limits. See b/62115660.\n",
              "    let position = 0;\n",
              "    do {\n",
              "      const length = Math.min(fileData.byteLength - position, MAX_PAYLOAD_SIZE);\n",
              "      const chunk = new Uint8Array(fileData, position, length);\n",
              "      position += length;\n",
              "\n",
              "      const base64 = btoa(String.fromCharCode.apply(null, chunk));\n",
              "      yield {\n",
              "        response: {\n",
              "          action: 'append',\n",
              "          file: file.name,\n",
              "          data: base64,\n",
              "        },\n",
              "      };\n",
              "\n",
              "      let percentDone = fileData.byteLength === 0 ?\n",
              "          100 :\n",
              "          Math.round((position / fileData.byteLength) * 100);\n",
              "      percent.textContent = `${percentDone}% done`;\n",
              "\n",
              "    } while (position < fileData.byteLength);\n",
              "  }\n",
              "\n",
              "  // All done.\n",
              "  yield {\n",
              "    response: {\n",
              "      action: 'complete',\n",
              "    }\n",
              "  };\n",
              "}\n",
              "\n",
              "scope.google = scope.google || {};\n",
              "scope.google.colab = scope.google.colab || {};\n",
              "scope.google.colab._files = {\n",
              "  _uploadFiles,\n",
              "  _uploadFilesContinue,\n",
              "};\n",
              "})(self);\n",
              "</script> "
            ]
          },
          "metadata": {}
        },
        {
          "output_type": "stream",
          "name": "stdout",
          "text": [
            "Saving reunion_activity.csv to reunion_activity.csv\n"
          ]
        }
      ]
    },
    {
      "cell_type": "code",
      "source": [
        "poi_reunion_activity = pd.read_csv(io.BytesIO(File_uploaded['reunion_activity.csv']))"
      ],
      "metadata": {
        "id": "nW4Stger9oJI"
      },
      "execution_count": 24,
      "outputs": []
    },
    {
      "cell_type": "code",
      "source": [
        "%sql persist poi_reunion_activity\n"
      ],
      "metadata": {
        "colab": {
          "base_uri": "https://localhost:8080/",
          "height": 53
        },
        "id": "KhNj7NTrurAh",
        "outputId": "d976f355-795b-477b-cf2c-dee9fa8cf44b"
      },
      "execution_count": 25,
      "outputs": [
        {
          "output_type": "stream",
          "name": "stdout",
          "text": [
            " * sqlite:///Itineraires.db\n"
          ]
        },
        {
          "output_type": "execute_result",
          "data": {
            "text/plain": [
              "'Persisted poi_reunion_activity'"
            ],
            "application/vnd.google.colaboratory.intrinsic+json": {
              "type": "string"
            }
          },
          "metadata": {},
          "execution_count": 25
        }
      ]
    },
    {
      "cell_type": "markdown",
      "source": [
        "Vérifications"
      ],
      "metadata": {
        "id": "PN9_RAu_E9ph"
      }
    },
    {
      "cell_type": "code",
      "source": [
        "poi_reunion_activity.count()"
      ],
      "metadata": {
        "colab": {
          "base_uri": "https://localhost:8080/"
        },
        "id": "m1GSHhGk1Uwl",
        "outputId": "9794e049-9db9-47ed-8941-251bff497aac"
      },
      "execution_count": 26,
      "outputs": [
        {
          "output_type": "execute_result",
          "data": {
            "text/plain": [
              "ID                     241\n",
              "Nom_du_POI             241\n",
              "Latitude               241\n",
              "Longitude              241\n",
              "Adresse_postale        233\n",
              "Date_de_mise_a_jour    241\n",
              "Contacts_du_POI        233\n",
              "Description              1\n",
              "region                 241\n",
              "commune                241\n",
              "code_postal            241\n",
              "category_0             241\n",
              "category_1             241\n",
              "category_2               2\n",
              "dtype: int64"
            ]
          },
          "metadata": {},
          "execution_count": 26
        }
      ]
    },
    {
      "cell_type": "code",
      "source": [
        "%%sql\n",
        "SELECT COUNT(*) FROM poi_reunion_activity"
      ],
      "metadata": {
        "colab": {
          "base_uri": "https://localhost:8080/",
          "height": 80
        },
        "id": "Lgyt-PQr11kB",
        "outputId": "ea6eb0cd-dbea-465d-f8d7-87b07e3c0c06"
      },
      "execution_count": 27,
      "outputs": [
        {
          "output_type": "stream",
          "name": "stdout",
          "text": [
            " * sqlite:///Itineraires.db\n"
          ]
        },
        {
          "output_type": "execute_result",
          "data": {
            "text/plain": [
              "[(241,)]"
            ],
            "text/html": [
              "<table>\n",
              "    <thead>\n",
              "        <tr>\n",
              "            <th>COUNT(*)</th>\n",
              "        </tr>\n",
              "    </thead>\n",
              "    <tbody>\n",
              "        <tr>\n",
              "            <td>241</td>\n",
              "        </tr>\n",
              "    </tbody>\n",
              "</table>"
            ]
          },
          "metadata": {},
          "execution_count": 27
        }
      ]
    },
    {
      "cell_type": "markdown",
      "source": [
        "Dataframe/table du fichier reunion_coordonnees.csv"
      ],
      "metadata": {
        "id": "8UU5cT0S1Now"
      }
    },
    {
      "cell_type": "code",
      "source": [
        "File_uploaded = files.upload()"
      ],
      "metadata": {
        "colab": {
          "base_uri": "https://localhost:8080/",
          "height": 75
        },
        "outputId": "d6ad58b5-fcab-4cd7-a7a2-7b9953c8cc78",
        "id": "2iP__Dne8HC7"
      },
      "execution_count": 28,
      "outputs": [
        {
          "output_type": "display_data",
          "data": {
            "text/plain": [
              "<IPython.core.display.HTML object>"
            ],
            "text/html": [
              "\n",
              "     <input type=\"file\" id=\"files-8d6c8027-a9c4-4cb8-911e-4debe8b675ec\" name=\"files[]\" multiple disabled\n",
              "        style=\"border:none\" />\n",
              "     <output id=\"result-8d6c8027-a9c4-4cb8-911e-4debe8b675ec\">\n",
              "      Upload widget is only available when the cell has been executed in the\n",
              "      current browser session. Please rerun this cell to enable.\n",
              "      </output>\n",
              "      <script>// Copyright 2017 Google LLC\n",
              "//\n",
              "// Licensed under the Apache License, Version 2.0 (the \"License\");\n",
              "// you may not use this file except in compliance with the License.\n",
              "// You may obtain a copy of the License at\n",
              "//\n",
              "//      http://www.apache.org/licenses/LICENSE-2.0\n",
              "//\n",
              "// Unless required by applicable law or agreed to in writing, software\n",
              "// distributed under the License is distributed on an \"AS IS\" BASIS,\n",
              "// WITHOUT WARRANTIES OR CONDITIONS OF ANY KIND, either express or implied.\n",
              "// See the License for the specific language governing permissions and\n",
              "// limitations under the License.\n",
              "\n",
              "/**\n",
              " * @fileoverview Helpers for google.colab Python module.\n",
              " */\n",
              "(function(scope) {\n",
              "function span(text, styleAttributes = {}) {\n",
              "  const element = document.createElement('span');\n",
              "  element.textContent = text;\n",
              "  for (const key of Object.keys(styleAttributes)) {\n",
              "    element.style[key] = styleAttributes[key];\n",
              "  }\n",
              "  return element;\n",
              "}\n",
              "\n",
              "// Max number of bytes which will be uploaded at a time.\n",
              "const MAX_PAYLOAD_SIZE = 100 * 1024;\n",
              "\n",
              "function _uploadFiles(inputId, outputId) {\n",
              "  const steps = uploadFilesStep(inputId, outputId);\n",
              "  const outputElement = document.getElementById(outputId);\n",
              "  // Cache steps on the outputElement to make it available for the next call\n",
              "  // to uploadFilesContinue from Python.\n",
              "  outputElement.steps = steps;\n",
              "\n",
              "  return _uploadFilesContinue(outputId);\n",
              "}\n",
              "\n",
              "// This is roughly an async generator (not supported in the browser yet),\n",
              "// where there are multiple asynchronous steps and the Python side is going\n",
              "// to poll for completion of each step.\n",
              "// This uses a Promise to block the python side on completion of each step,\n",
              "// then passes the result of the previous step as the input to the next step.\n",
              "function _uploadFilesContinue(outputId) {\n",
              "  const outputElement = document.getElementById(outputId);\n",
              "  const steps = outputElement.steps;\n",
              "\n",
              "  const next = steps.next(outputElement.lastPromiseValue);\n",
              "  return Promise.resolve(next.value.promise).then((value) => {\n",
              "    // Cache the last promise value to make it available to the next\n",
              "    // step of the generator.\n",
              "    outputElement.lastPromiseValue = value;\n",
              "    return next.value.response;\n",
              "  });\n",
              "}\n",
              "\n",
              "/**\n",
              " * Generator function which is called between each async step of the upload\n",
              " * process.\n",
              " * @param {string} inputId Element ID of the input file picker element.\n",
              " * @param {string} outputId Element ID of the output display.\n",
              " * @return {!Iterable<!Object>} Iterable of next steps.\n",
              " */\n",
              "function* uploadFilesStep(inputId, outputId) {\n",
              "  const inputElement = document.getElementById(inputId);\n",
              "  inputElement.disabled = false;\n",
              "\n",
              "  const outputElement = document.getElementById(outputId);\n",
              "  outputElement.innerHTML = '';\n",
              "\n",
              "  const pickedPromise = new Promise((resolve) => {\n",
              "    inputElement.addEventListener('change', (e) => {\n",
              "      resolve(e.target.files);\n",
              "    });\n",
              "  });\n",
              "\n",
              "  const cancel = document.createElement('button');\n",
              "  inputElement.parentElement.appendChild(cancel);\n",
              "  cancel.textContent = 'Cancel upload';\n",
              "  const cancelPromise = new Promise((resolve) => {\n",
              "    cancel.onclick = () => {\n",
              "      resolve(null);\n",
              "    };\n",
              "  });\n",
              "\n",
              "  // Wait for the user to pick the files.\n",
              "  const files = yield {\n",
              "    promise: Promise.race([pickedPromise, cancelPromise]),\n",
              "    response: {\n",
              "      action: 'starting',\n",
              "    }\n",
              "  };\n",
              "\n",
              "  cancel.remove();\n",
              "\n",
              "  // Disable the input element since further picks are not allowed.\n",
              "  inputElement.disabled = true;\n",
              "\n",
              "  if (!files) {\n",
              "    return {\n",
              "      response: {\n",
              "        action: 'complete',\n",
              "      }\n",
              "    };\n",
              "  }\n",
              "\n",
              "  for (const file of files) {\n",
              "    const li = document.createElement('li');\n",
              "    li.append(span(file.name, {fontWeight: 'bold'}));\n",
              "    li.append(span(\n",
              "        `(${file.type || 'n/a'}) - ${file.size} bytes, ` +\n",
              "        `last modified: ${\n",
              "            file.lastModifiedDate ? file.lastModifiedDate.toLocaleDateString() :\n",
              "                                    'n/a'} - `));\n",
              "    const percent = span('0% done');\n",
              "    li.appendChild(percent);\n",
              "\n",
              "    outputElement.appendChild(li);\n",
              "\n",
              "    const fileDataPromise = new Promise((resolve) => {\n",
              "      const reader = new FileReader();\n",
              "      reader.onload = (e) => {\n",
              "        resolve(e.target.result);\n",
              "      };\n",
              "      reader.readAsArrayBuffer(file);\n",
              "    });\n",
              "    // Wait for the data to be ready.\n",
              "    let fileData = yield {\n",
              "      promise: fileDataPromise,\n",
              "      response: {\n",
              "        action: 'continue',\n",
              "      }\n",
              "    };\n",
              "\n",
              "    // Use a chunked sending to avoid message size limits. See b/62115660.\n",
              "    let position = 0;\n",
              "    do {\n",
              "      const length = Math.min(fileData.byteLength - position, MAX_PAYLOAD_SIZE);\n",
              "      const chunk = new Uint8Array(fileData, position, length);\n",
              "      position += length;\n",
              "\n",
              "      const base64 = btoa(String.fromCharCode.apply(null, chunk));\n",
              "      yield {\n",
              "        response: {\n",
              "          action: 'append',\n",
              "          file: file.name,\n",
              "          data: base64,\n",
              "        },\n",
              "      };\n",
              "\n",
              "      let percentDone = fileData.byteLength === 0 ?\n",
              "          100 :\n",
              "          Math.round((position / fileData.byteLength) * 100);\n",
              "      percent.textContent = `${percentDone}% done`;\n",
              "\n",
              "    } while (position < fileData.byteLength);\n",
              "  }\n",
              "\n",
              "  // All done.\n",
              "  yield {\n",
              "    response: {\n",
              "      action: 'complete',\n",
              "    }\n",
              "  };\n",
              "}\n",
              "\n",
              "scope.google = scope.google || {};\n",
              "scope.google.colab = scope.google.colab || {};\n",
              "scope.google.colab._files = {\n",
              "  _uploadFiles,\n",
              "  _uploadFilesContinue,\n",
              "};\n",
              "})(self);\n",
              "</script> "
            ]
          },
          "metadata": {}
        },
        {
          "output_type": "stream",
          "name": "stdout",
          "text": [
            "Saving reunion_coordonnees.csv to reunion_coordonnees.csv\n"
          ]
        }
      ]
    },
    {
      "cell_type": "code",
      "source": [
        "poi_reunion_coordonnees = pd.read_csv(io.BytesIO(File_uploaded['reunion_coordonnees.csv']))"
      ],
      "metadata": {
        "id": "REul3NYh8NKB"
      },
      "execution_count": 29,
      "outputs": []
    },
    {
      "cell_type": "code",
      "source": [
        "%%sql\n",
        "persist poi_reunion_coordonnees"
      ],
      "metadata": {
        "colab": {
          "base_uri": "https://localhost:8080/",
          "height": 53
        },
        "id": "jduBd62E81qh",
        "outputId": "2b30130a-d86f-402a-e02c-4101434c3160"
      },
      "execution_count": 30,
      "outputs": [
        {
          "output_type": "stream",
          "name": "stdout",
          "text": [
            " * sqlite:///Itineraires.db\n"
          ]
        },
        {
          "output_type": "execute_result",
          "data": {
            "text/plain": [
              "'Persisted poi_reunion_coordonnees'"
            ],
            "application/vnd.google.colaboratory.intrinsic+json": {
              "type": "string"
            }
          },
          "metadata": {},
          "execution_count": 30
        }
      ]
    },
    {
      "cell_type": "markdown",
      "source": [
        "Vérifications"
      ],
      "metadata": {
        "id": "8NNx1vg85G8b"
      }
    },
    {
      "cell_type": "code",
      "source": [
        "poi_reunion_coordonnees.count()"
      ],
      "metadata": {
        "colab": {
          "base_uri": "https://localhost:8080/"
        },
        "id": "tboTB6jw9NyN",
        "outputId": "f8cbaba2-18da-455a-cbd8-846b519c6804"
      },
      "execution_count": 31,
      "outputs": [
        {
          "output_type": "execute_result",
          "data": {
            "text/plain": [
              "ID            1750\n",
              "Nom_du_POI    1750\n",
              "Latitude      1750\n",
              "Longitude     1750\n",
              "dtype: int64"
            ]
          },
          "metadata": {},
          "execution_count": 31
        }
      ]
    },
    {
      "cell_type": "code",
      "source": [
        "%%sql\n",
        "SELECT COUNT(*) FROM poi_reunion_coordonnees;"
      ],
      "metadata": {
        "colab": {
          "base_uri": "https://localhost:8080/",
          "height": 80
        },
        "id": "slPUXR4G_SGg",
        "outputId": "a2bc810f-9248-4103-e2da-80d3a75e38b2"
      },
      "execution_count": 32,
      "outputs": [
        {
          "output_type": "stream",
          "name": "stdout",
          "text": [
            " * sqlite:///Itineraires.db\n"
          ]
        },
        {
          "output_type": "execute_result",
          "data": {
            "text/plain": [
              "[(1750,)]"
            ],
            "text/html": [
              "<table>\n",
              "    <thead>\n",
              "        <tr>\n",
              "            <th>COUNT(*)</th>\n",
              "        </tr>\n",
              "    </thead>\n",
              "    <tbody>\n",
              "        <tr>\n",
              "            <td>1750</td>\n",
              "        </tr>\n",
              "    </tbody>\n",
              "</table>"
            ]
          },
          "metadata": {},
          "execution_count": 32
        }
      ]
    },
    {
      "cell_type": "markdown",
      "source": [
        "Dataframe/table du fichier reunion_food.csv"
      ],
      "metadata": {
        "id": "eBUikgsJ5s7J"
      }
    },
    {
      "cell_type": "code",
      "source": [
        "File_uploaded = files.upload()"
      ],
      "metadata": {
        "colab": {
          "base_uri": "https://localhost:8080/",
          "height": 75
        },
        "id": "620LvNOE5hei",
        "outputId": "76f2ef5f-5593-4846-947c-cdaa630d79cd"
      },
      "execution_count": 33,
      "outputs": [
        {
          "output_type": "display_data",
          "data": {
            "text/plain": [
              "<IPython.core.display.HTML object>"
            ],
            "text/html": [
              "\n",
              "     <input type=\"file\" id=\"files-ba8f7c0e-bc49-4f9e-80b6-a89381cda2bd\" name=\"files[]\" multiple disabled\n",
              "        style=\"border:none\" />\n",
              "     <output id=\"result-ba8f7c0e-bc49-4f9e-80b6-a89381cda2bd\">\n",
              "      Upload widget is only available when the cell has been executed in the\n",
              "      current browser session. Please rerun this cell to enable.\n",
              "      </output>\n",
              "      <script>// Copyright 2017 Google LLC\n",
              "//\n",
              "// Licensed under the Apache License, Version 2.0 (the \"License\");\n",
              "// you may not use this file except in compliance with the License.\n",
              "// You may obtain a copy of the License at\n",
              "//\n",
              "//      http://www.apache.org/licenses/LICENSE-2.0\n",
              "//\n",
              "// Unless required by applicable law or agreed to in writing, software\n",
              "// distributed under the License is distributed on an \"AS IS\" BASIS,\n",
              "// WITHOUT WARRANTIES OR CONDITIONS OF ANY KIND, either express or implied.\n",
              "// See the License for the specific language governing permissions and\n",
              "// limitations under the License.\n",
              "\n",
              "/**\n",
              " * @fileoverview Helpers for google.colab Python module.\n",
              " */\n",
              "(function(scope) {\n",
              "function span(text, styleAttributes = {}) {\n",
              "  const element = document.createElement('span');\n",
              "  element.textContent = text;\n",
              "  for (const key of Object.keys(styleAttributes)) {\n",
              "    element.style[key] = styleAttributes[key];\n",
              "  }\n",
              "  return element;\n",
              "}\n",
              "\n",
              "// Max number of bytes which will be uploaded at a time.\n",
              "const MAX_PAYLOAD_SIZE = 100 * 1024;\n",
              "\n",
              "function _uploadFiles(inputId, outputId) {\n",
              "  const steps = uploadFilesStep(inputId, outputId);\n",
              "  const outputElement = document.getElementById(outputId);\n",
              "  // Cache steps on the outputElement to make it available for the next call\n",
              "  // to uploadFilesContinue from Python.\n",
              "  outputElement.steps = steps;\n",
              "\n",
              "  return _uploadFilesContinue(outputId);\n",
              "}\n",
              "\n",
              "// This is roughly an async generator (not supported in the browser yet),\n",
              "// where there are multiple asynchronous steps and the Python side is going\n",
              "// to poll for completion of each step.\n",
              "// This uses a Promise to block the python side on completion of each step,\n",
              "// then passes the result of the previous step as the input to the next step.\n",
              "function _uploadFilesContinue(outputId) {\n",
              "  const outputElement = document.getElementById(outputId);\n",
              "  const steps = outputElement.steps;\n",
              "\n",
              "  const next = steps.next(outputElement.lastPromiseValue);\n",
              "  return Promise.resolve(next.value.promise).then((value) => {\n",
              "    // Cache the last promise value to make it available to the next\n",
              "    // step of the generator.\n",
              "    outputElement.lastPromiseValue = value;\n",
              "    return next.value.response;\n",
              "  });\n",
              "}\n",
              "\n",
              "/**\n",
              " * Generator function which is called between each async step of the upload\n",
              " * process.\n",
              " * @param {string} inputId Element ID of the input file picker element.\n",
              " * @param {string} outputId Element ID of the output display.\n",
              " * @return {!Iterable<!Object>} Iterable of next steps.\n",
              " */\n",
              "function* uploadFilesStep(inputId, outputId) {\n",
              "  const inputElement = document.getElementById(inputId);\n",
              "  inputElement.disabled = false;\n",
              "\n",
              "  const outputElement = document.getElementById(outputId);\n",
              "  outputElement.innerHTML = '';\n",
              "\n",
              "  const pickedPromise = new Promise((resolve) => {\n",
              "    inputElement.addEventListener('change', (e) => {\n",
              "      resolve(e.target.files);\n",
              "    });\n",
              "  });\n",
              "\n",
              "  const cancel = document.createElement('button');\n",
              "  inputElement.parentElement.appendChild(cancel);\n",
              "  cancel.textContent = 'Cancel upload';\n",
              "  const cancelPromise = new Promise((resolve) => {\n",
              "    cancel.onclick = () => {\n",
              "      resolve(null);\n",
              "    };\n",
              "  });\n",
              "\n",
              "  // Wait for the user to pick the files.\n",
              "  const files = yield {\n",
              "    promise: Promise.race([pickedPromise, cancelPromise]),\n",
              "    response: {\n",
              "      action: 'starting',\n",
              "    }\n",
              "  };\n",
              "\n",
              "  cancel.remove();\n",
              "\n",
              "  // Disable the input element since further picks are not allowed.\n",
              "  inputElement.disabled = true;\n",
              "\n",
              "  if (!files) {\n",
              "    return {\n",
              "      response: {\n",
              "        action: 'complete',\n",
              "      }\n",
              "    };\n",
              "  }\n",
              "\n",
              "  for (const file of files) {\n",
              "    const li = document.createElement('li');\n",
              "    li.append(span(file.name, {fontWeight: 'bold'}));\n",
              "    li.append(span(\n",
              "        `(${file.type || 'n/a'}) - ${file.size} bytes, ` +\n",
              "        `last modified: ${\n",
              "            file.lastModifiedDate ? file.lastModifiedDate.toLocaleDateString() :\n",
              "                                    'n/a'} - `));\n",
              "    const percent = span('0% done');\n",
              "    li.appendChild(percent);\n",
              "\n",
              "    outputElement.appendChild(li);\n",
              "\n",
              "    const fileDataPromise = new Promise((resolve) => {\n",
              "      const reader = new FileReader();\n",
              "      reader.onload = (e) => {\n",
              "        resolve(e.target.result);\n",
              "      };\n",
              "      reader.readAsArrayBuffer(file);\n",
              "    });\n",
              "    // Wait for the data to be ready.\n",
              "    let fileData = yield {\n",
              "      promise: fileDataPromise,\n",
              "      response: {\n",
              "        action: 'continue',\n",
              "      }\n",
              "    };\n",
              "\n",
              "    // Use a chunked sending to avoid message size limits. See b/62115660.\n",
              "    let position = 0;\n",
              "    do {\n",
              "      const length = Math.min(fileData.byteLength - position, MAX_PAYLOAD_SIZE);\n",
              "      const chunk = new Uint8Array(fileData, position, length);\n",
              "      position += length;\n",
              "\n",
              "      const base64 = btoa(String.fromCharCode.apply(null, chunk));\n",
              "      yield {\n",
              "        response: {\n",
              "          action: 'append',\n",
              "          file: file.name,\n",
              "          data: base64,\n",
              "        },\n",
              "      };\n",
              "\n",
              "      let percentDone = fileData.byteLength === 0 ?\n",
              "          100 :\n",
              "          Math.round((position / fileData.byteLength) * 100);\n",
              "      percent.textContent = `${percentDone}% done`;\n",
              "\n",
              "    } while (position < fileData.byteLength);\n",
              "  }\n",
              "\n",
              "  // All done.\n",
              "  yield {\n",
              "    response: {\n",
              "      action: 'complete',\n",
              "    }\n",
              "  };\n",
              "}\n",
              "\n",
              "scope.google = scope.google || {};\n",
              "scope.google.colab = scope.google.colab || {};\n",
              "scope.google.colab._files = {\n",
              "  _uploadFiles,\n",
              "  _uploadFilesContinue,\n",
              "};\n",
              "})(self);\n",
              "</script> "
            ]
          },
          "metadata": {}
        },
        {
          "output_type": "stream",
          "name": "stdout",
          "text": [
            "Saving reunion_food.csv to reunion_food.csv\n"
          ]
        }
      ]
    },
    {
      "cell_type": "code",
      "source": [
        "poi_reunion_food = pd.read_csv(io.BytesIO(File_uploaded['reunion_food.csv']))"
      ],
      "metadata": {
        "id": "xatrdZxyBu8y"
      },
      "execution_count": 34,
      "outputs": []
    },
    {
      "cell_type": "code",
      "source": [
        "%%sql\n",
        "persist poi_reunion_food"
      ],
      "metadata": {
        "colab": {
          "base_uri": "https://localhost:8080/",
          "height": 53
        },
        "id": "ocumWQ5WYCPU",
        "outputId": "af4ecc6e-b6ea-4849-b8a8-a820d431f55d"
      },
      "execution_count": 35,
      "outputs": [
        {
          "output_type": "stream",
          "name": "stdout",
          "text": [
            " * sqlite:///Itineraires.db\n"
          ]
        },
        {
          "output_type": "execute_result",
          "data": {
            "text/plain": [
              "'Persisted poi_reunion_food'"
            ],
            "application/vnd.google.colaboratory.intrinsic+json": {
              "type": "string"
            }
          },
          "metadata": {},
          "execution_count": 35
        }
      ]
    },
    {
      "cell_type": "markdown",
      "source": [
        "Vérifications"
      ],
      "metadata": {
        "id": "1hS8dbGc6XlA"
      }
    },
    {
      "cell_type": "code",
      "source": [
        "poi_reunion_food.count()"
      ],
      "metadata": {
        "colab": {
          "base_uri": "https://localhost:8080/"
        },
        "id": "eFoVw9t_OWlV",
        "outputId": "8ce836ab-de88-4c7b-de6f-642e23c33910"
      },
      "execution_count": 36,
      "outputs": [
        {
          "output_type": "execute_result",
          "data": {
            "text/plain": [
              "ID                     1195\n",
              "Nom_du_POI             1195\n",
              "Latitude               1195\n",
              "Longitude              1195\n",
              "Adresse_postale        1195\n",
              "Date_de_mise_a_jour    1195\n",
              "Contacts_du_POI        1195\n",
              "Description               0\n",
              "region                 1195\n",
              "commune                1195\n",
              "code_postal            1195\n",
              "category_0             1195\n",
              "category_1              878\n",
              "category_2               55\n",
              "dtype: int64"
            ]
          },
          "metadata": {},
          "execution_count": 36
        }
      ]
    },
    {
      "cell_type": "code",
      "source": [
        "%%sql\n",
        "SELECT COUNT(*) FROM poi_reunion_food;"
      ],
      "metadata": {
        "colab": {
          "base_uri": "https://localhost:8080/",
          "height": 80
        },
        "id": "_r-Dob9YPLCQ",
        "outputId": "18fc6391-f6cd-4ed1-f793-95522a7ad6ad"
      },
      "execution_count": 37,
      "outputs": [
        {
          "output_type": "stream",
          "name": "stdout",
          "text": [
            " * sqlite:///Itineraires.db\n"
          ]
        },
        {
          "output_type": "execute_result",
          "data": {
            "text/plain": [
              "[(1195,)]"
            ],
            "text/html": [
              "<table>\n",
              "    <thead>\n",
              "        <tr>\n",
              "            <th>COUNT(*)</th>\n",
              "        </tr>\n",
              "    </thead>\n",
              "    <tbody>\n",
              "        <tr>\n",
              "            <td>1195</td>\n",
              "        </tr>\n",
              "    </tbody>\n",
              "</table>"
            ]
          },
          "metadata": {},
          "execution_count": 37
        }
      ]
    },
    {
      "cell_type": "markdown",
      "source": [
        "Dataframe/table du fichier reunion_ville_cp.csv"
      ],
      "metadata": {
        "id": "K93qmxV96wrQ"
      }
    },
    {
      "cell_type": "code",
      "source": [
        "File_uploaded = files.upload()"
      ],
      "metadata": {
        "colab": {
          "base_uri": "https://localhost:8080/",
          "height": 75
        },
        "id": "1bM_B6IUy8si",
        "outputId": "4ccc6fbe-f9d5-4d75-8f3c-9a3a7bdd537f"
      },
      "execution_count": 38,
      "outputs": [
        {
          "output_type": "display_data",
          "data": {
            "text/plain": [
              "<IPython.core.display.HTML object>"
            ],
            "text/html": [
              "\n",
              "     <input type=\"file\" id=\"files-c6f559c7-0353-420c-9405-d990dc920ea0\" name=\"files[]\" multiple disabled\n",
              "        style=\"border:none\" />\n",
              "     <output id=\"result-c6f559c7-0353-420c-9405-d990dc920ea0\">\n",
              "      Upload widget is only available when the cell has been executed in the\n",
              "      current browser session. Please rerun this cell to enable.\n",
              "      </output>\n",
              "      <script>// Copyright 2017 Google LLC\n",
              "//\n",
              "// Licensed under the Apache License, Version 2.0 (the \"License\");\n",
              "// you may not use this file except in compliance with the License.\n",
              "// You may obtain a copy of the License at\n",
              "//\n",
              "//      http://www.apache.org/licenses/LICENSE-2.0\n",
              "//\n",
              "// Unless required by applicable law or agreed to in writing, software\n",
              "// distributed under the License is distributed on an \"AS IS\" BASIS,\n",
              "// WITHOUT WARRANTIES OR CONDITIONS OF ANY KIND, either express or implied.\n",
              "// See the License for the specific language governing permissions and\n",
              "// limitations under the License.\n",
              "\n",
              "/**\n",
              " * @fileoverview Helpers for google.colab Python module.\n",
              " */\n",
              "(function(scope) {\n",
              "function span(text, styleAttributes = {}) {\n",
              "  const element = document.createElement('span');\n",
              "  element.textContent = text;\n",
              "  for (const key of Object.keys(styleAttributes)) {\n",
              "    element.style[key] = styleAttributes[key];\n",
              "  }\n",
              "  return element;\n",
              "}\n",
              "\n",
              "// Max number of bytes which will be uploaded at a time.\n",
              "const MAX_PAYLOAD_SIZE = 100 * 1024;\n",
              "\n",
              "function _uploadFiles(inputId, outputId) {\n",
              "  const steps = uploadFilesStep(inputId, outputId);\n",
              "  const outputElement = document.getElementById(outputId);\n",
              "  // Cache steps on the outputElement to make it available for the next call\n",
              "  // to uploadFilesContinue from Python.\n",
              "  outputElement.steps = steps;\n",
              "\n",
              "  return _uploadFilesContinue(outputId);\n",
              "}\n",
              "\n",
              "// This is roughly an async generator (not supported in the browser yet),\n",
              "// where there are multiple asynchronous steps and the Python side is going\n",
              "// to poll for completion of each step.\n",
              "// This uses a Promise to block the python side on completion of each step,\n",
              "// then passes the result of the previous step as the input to the next step.\n",
              "function _uploadFilesContinue(outputId) {\n",
              "  const outputElement = document.getElementById(outputId);\n",
              "  const steps = outputElement.steps;\n",
              "\n",
              "  const next = steps.next(outputElement.lastPromiseValue);\n",
              "  return Promise.resolve(next.value.promise).then((value) => {\n",
              "    // Cache the last promise value to make it available to the next\n",
              "    // step of the generator.\n",
              "    outputElement.lastPromiseValue = value;\n",
              "    return next.value.response;\n",
              "  });\n",
              "}\n",
              "\n",
              "/**\n",
              " * Generator function which is called between each async step of the upload\n",
              " * process.\n",
              " * @param {string} inputId Element ID of the input file picker element.\n",
              " * @param {string} outputId Element ID of the output display.\n",
              " * @return {!Iterable<!Object>} Iterable of next steps.\n",
              " */\n",
              "function* uploadFilesStep(inputId, outputId) {\n",
              "  const inputElement = document.getElementById(inputId);\n",
              "  inputElement.disabled = false;\n",
              "\n",
              "  const outputElement = document.getElementById(outputId);\n",
              "  outputElement.innerHTML = '';\n",
              "\n",
              "  const pickedPromise = new Promise((resolve) => {\n",
              "    inputElement.addEventListener('change', (e) => {\n",
              "      resolve(e.target.files);\n",
              "    });\n",
              "  });\n",
              "\n",
              "  const cancel = document.createElement('button');\n",
              "  inputElement.parentElement.appendChild(cancel);\n",
              "  cancel.textContent = 'Cancel upload';\n",
              "  const cancelPromise = new Promise((resolve) => {\n",
              "    cancel.onclick = () => {\n",
              "      resolve(null);\n",
              "    };\n",
              "  });\n",
              "\n",
              "  // Wait for the user to pick the files.\n",
              "  const files = yield {\n",
              "    promise: Promise.race([pickedPromise, cancelPromise]),\n",
              "    response: {\n",
              "      action: 'starting',\n",
              "    }\n",
              "  };\n",
              "\n",
              "  cancel.remove();\n",
              "\n",
              "  // Disable the input element since further picks are not allowed.\n",
              "  inputElement.disabled = true;\n",
              "\n",
              "  if (!files) {\n",
              "    return {\n",
              "      response: {\n",
              "        action: 'complete',\n",
              "      }\n",
              "    };\n",
              "  }\n",
              "\n",
              "  for (const file of files) {\n",
              "    const li = document.createElement('li');\n",
              "    li.append(span(file.name, {fontWeight: 'bold'}));\n",
              "    li.append(span(\n",
              "        `(${file.type || 'n/a'}) - ${file.size} bytes, ` +\n",
              "        `last modified: ${\n",
              "            file.lastModifiedDate ? file.lastModifiedDate.toLocaleDateString() :\n",
              "                                    'n/a'} - `));\n",
              "    const percent = span('0% done');\n",
              "    li.appendChild(percent);\n",
              "\n",
              "    outputElement.appendChild(li);\n",
              "\n",
              "    const fileDataPromise = new Promise((resolve) => {\n",
              "      const reader = new FileReader();\n",
              "      reader.onload = (e) => {\n",
              "        resolve(e.target.result);\n",
              "      };\n",
              "      reader.readAsArrayBuffer(file);\n",
              "    });\n",
              "    // Wait for the data to be ready.\n",
              "    let fileData = yield {\n",
              "      promise: fileDataPromise,\n",
              "      response: {\n",
              "        action: 'continue',\n",
              "      }\n",
              "    };\n",
              "\n",
              "    // Use a chunked sending to avoid message size limits. See b/62115660.\n",
              "    let position = 0;\n",
              "    do {\n",
              "      const length = Math.min(fileData.byteLength - position, MAX_PAYLOAD_SIZE);\n",
              "      const chunk = new Uint8Array(fileData, position, length);\n",
              "      position += length;\n",
              "\n",
              "      const base64 = btoa(String.fromCharCode.apply(null, chunk));\n",
              "      yield {\n",
              "        response: {\n",
              "          action: 'append',\n",
              "          file: file.name,\n",
              "          data: base64,\n",
              "        },\n",
              "      };\n",
              "\n",
              "      let percentDone = fileData.byteLength === 0 ?\n",
              "          100 :\n",
              "          Math.round((position / fileData.byteLength) * 100);\n",
              "      percent.textContent = `${percentDone}% done`;\n",
              "\n",
              "    } while (position < fileData.byteLength);\n",
              "  }\n",
              "\n",
              "  // All done.\n",
              "  yield {\n",
              "    response: {\n",
              "      action: 'complete',\n",
              "    }\n",
              "  };\n",
              "}\n",
              "\n",
              "scope.google = scope.google || {};\n",
              "scope.google.colab = scope.google.colab || {};\n",
              "scope.google.colab._files = {\n",
              "  _uploadFiles,\n",
              "  _uploadFilesContinue,\n",
              "};\n",
              "})(self);\n",
              "</script> "
            ]
          },
          "metadata": {}
        },
        {
          "output_type": "stream",
          "name": "stdout",
          "text": [
            "Saving reunion_ville_cp.csv to reunion_ville_cp.csv\n"
          ]
        }
      ]
    },
    {
      "cell_type": "code",
      "source": [
        "poi_reunion_ville_cp = pd.read_csv(io.BytesIO(File_uploaded['reunion_ville_cp.csv']))"
      ],
      "metadata": {
        "id": "jFbTCj8DQ6Fk"
      },
      "execution_count": 39,
      "outputs": []
    },
    {
      "cell_type": "code",
      "source": [
        "%%sql\n",
        "persist poi_reunion_ville_cp"
      ],
      "metadata": {
        "colab": {
          "base_uri": "https://localhost:8080/",
          "height": 53
        },
        "id": "JZq2r3ctRZ1Y",
        "outputId": "366bd44f-a7c0-4cae-e984-953820456f3a"
      },
      "execution_count": 40,
      "outputs": [
        {
          "output_type": "stream",
          "name": "stdout",
          "text": [
            " * sqlite:///Itineraires.db\n"
          ]
        },
        {
          "output_type": "execute_result",
          "data": {
            "text/plain": [
              "'Persisted poi_reunion_ville_cp'"
            ],
            "application/vnd.google.colaboratory.intrinsic+json": {
              "type": "string"
            }
          },
          "metadata": {},
          "execution_count": 40
        }
      ]
    },
    {
      "cell_type": "markdown",
      "source": [
        "Vérifications"
      ],
      "metadata": {
        "id": "UPhKzUR17gaO"
      }
    },
    {
      "cell_type": "code",
      "source": [
        "poi_reunion_ville_cp.count()"
      ],
      "metadata": {
        "colab": {
          "base_uri": "https://localhost:8080/"
        },
        "id": "XbHsy-UBRaCQ",
        "outputId": "076a67f6-16fd-4032-a82a-4b1200548df4"
      },
      "execution_count": 41,
      "outputs": [
        {
          "output_type": "execute_result",
          "data": {
            "text/plain": [
              "code_postal    37\n",
              "commune        37\n",
              "region         37\n",
              "dtype: int64"
            ]
          },
          "metadata": {},
          "execution_count": 41
        }
      ]
    },
    {
      "cell_type": "code",
      "source": [
        "%%sql\n",
        "SELECT COUNT(*) FROM poi_reunion_ville_cp"
      ],
      "metadata": {
        "colab": {
          "base_uri": "https://localhost:8080/",
          "height": 80
        },
        "id": "t2s8utdlR4EU",
        "outputId": "9deb3b9a-df4b-45a3-9a68-5572ccd175d1"
      },
      "execution_count": 42,
      "outputs": [
        {
          "output_type": "stream",
          "name": "stdout",
          "text": [
            " * sqlite:///Itineraires.db\n"
          ]
        },
        {
          "output_type": "execute_result",
          "data": {
            "text/plain": [
              "[(37,)]"
            ],
            "text/html": [
              "<table>\n",
              "    <thead>\n",
              "        <tr>\n",
              "            <th>COUNT(*)</th>\n",
              "        </tr>\n",
              "    </thead>\n",
              "    <tbody>\n",
              "        <tr>\n",
              "            <td>37</td>\n",
              "        </tr>\n",
              "    </tbody>\n",
              "</table>"
            ]
          },
          "metadata": {},
          "execution_count": 42
        }
      ]
    }
  ]
}